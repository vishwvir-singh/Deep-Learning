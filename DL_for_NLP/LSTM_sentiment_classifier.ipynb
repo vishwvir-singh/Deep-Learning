{
  "nbformat": 4,
  "nbformat_minor": 0,
  "metadata": {
    "colab": {
      "name": "LSTM_sentiment_classifier.ipynb",
      "provenance": [],
      "collapsed_sections": [],
      "authorship_tag": "ABX9TyPgs8bpJ50SkUhsHGxbOoqd",
      "include_colab_link": true
    },
    "kernelspec": {
      "name": "python3",
      "display_name": "Python 3"
    },
    "accelerator": "GPU"
  },
  "cells": [
    {
      "cell_type": "markdown",
      "metadata": {
        "id": "view-in-github",
        "colab_type": "text"
      },
      "source": [
        "<a href=\"https://colab.research.google.com/github/vishwvir-singh/DeepLearningForNLP/blob/main/LSTM_sentiment_classifier.ipynb\" target=\"_parent\"><img src=\"https://colab.research.google.com/assets/colab-badge.svg\" alt=\"Open In Colab\"/></a>"
      ]
    },
    {
      "cell_type": "code",
      "metadata": {
        "id": "hJFhJKPVacXd"
      },
      "source": [
        "from tensorflow.keras.datasets import imdb\n",
        "from tensorflow.keras.preprocessing.sequence import pad_sequences\n",
        "from tensorflow.keras.models import Sequential\n",
        "from tensorflow.keras.layers import LSTM, Embedding, SpatialDropout1D, Dense, Dropout\n",
        "from tensorflow.keras.callbacks import ModelCheckpoint\n",
        "\n",
        "from sklearn.metrics import roc_auc_score\n",
        "import matplotlib.pyplot as plt"
      ],
      "execution_count": 2,
      "outputs": []
    },
    {
      "cell_type": "code",
      "metadata": {
        "id": "Gveptyh-akLN"
      },
      "source": [
        "output_dir = 'sentiment_classifier/LSTM'\n",
        "\n",
        "epoch = 4\n",
        "batch_size = 128\n",
        "\n",
        "emb_dim = 64\n",
        "n_unique_words = 10000\n",
        "max_sent_lenght = 100\n",
        "pad_type = trunc_type = 'pre'\n",
        "drop_emb = 0.2\n",
        "\n",
        "n_lstm = 256\n",
        "drop_lstm = 0.2"
      ],
      "execution_count": 3,
      "outputs": []
    },
    {
      "cell_type": "code",
      "metadata": {
        "colab": {
          "base_uri": "https://localhost:8080/"
        },
        "id": "C4E7rzy1jHBq",
        "outputId": "1407a06f-af93-47ac-c32d-acdd33601bef"
      },
      "source": [
        "import os\n",
        "if not os.path.exists(output_dir):\n",
        "    os.makedirs(output_dir)\n",
        "    print('Dirs created successfully !!!')\n",
        "\n",
        "os.chdir(output_dir)\n",
        "print('Path --> {} and ListDirs ---> {} '.format(os.getcwd(), os.listdir()))"
      ],
      "execution_count": 4,
      "outputs": [
        {
          "output_type": "stream",
          "text": [
            "Dirs created successfully !!!\n",
            "Path --> /content/sentiment_classifier/LSTM and ListDirs ---> [] \n"
          ],
          "name": "stdout"
        }
      ]
    },
    {
      "cell_type": "code",
      "metadata": {
        "colab": {
          "base_uri": "https://localhost:8080/"
        },
        "id": "HvQSF7zxakSR",
        "outputId": "2611d5d5-99f0-4363-c7af-dac7f8b2255d"
      },
      "source": [
        "(x_train, y_train), (x_valid, y_valid) = imdb.load_data(num_words=n_unique_words)"
      ],
      "execution_count": 6,
      "outputs": [
        {
          "output_type": "stream",
          "text": [
            "Downloading data from https://storage.googleapis.com/tensorflow/tf-keras-datasets/imdb.npz\n",
            "17465344/17464789 [==============================] - 0s 0us/step\n"
          ],
          "name": "stdout"
        },
        {
          "output_type": "stream",
          "text": [
            "<string>:6: VisibleDeprecationWarning: Creating an ndarray from ragged nested sequences (which is a list-or-tuple of lists-or-tuples-or ndarrays with different lengths or shapes) is deprecated. If you meant to do this, you must specify 'dtype=object' when creating the ndarray\n",
            "/usr/local/lib/python3.6/dist-packages/tensorflow/python/keras/datasets/imdb.py:159: VisibleDeprecationWarning: Creating an ndarray from ragged nested sequences (which is a list-or-tuple of lists-or-tuples-or ndarrays with different lengths or shapes) is deprecated. If you meant to do this, you must specify 'dtype=object' when creating the ndarray\n",
            "  x_train, y_train = np.array(xs[:idx]), np.array(labels[:idx])\n",
            "/usr/local/lib/python3.6/dist-packages/tensorflow/python/keras/datasets/imdb.py:160: VisibleDeprecationWarning: Creating an ndarray from ragged nested sequences (which is a list-or-tuple of lists-or-tuples-or ndarrays with different lengths or shapes) is deprecated. If you meant to do this, you must specify 'dtype=object' when creating the ndarray\n",
            "  x_test, y_test = np.array(xs[idx:]), np.array(labels[idx:])\n"
          ],
          "name": "stderr"
        }
      ]
    },
    {
      "cell_type": "code",
      "metadata": {
        "id": "GDXB4GTRakUA"
      },
      "source": [
        "x_train = pad_sequences(x_train, maxlen=max_sent_lenght, padding=pad_type, truncating=trunc_type)\n",
        "x_valid = pad_sequences(x_valid, maxlen=max_sent_lenght, padding=pad_type, truncating=trunc_type)"
      ],
      "execution_count": 7,
      "outputs": []
    },
    {
      "cell_type": "code",
      "metadata": {
        "id": "Dfs4fGobhLaA"
      },
      "source": [
        "m_checkpoint = ModelCheckpoint(output_dir + '/weight.{epoch:02d}.hdf5')"
      ],
      "execution_count": 8,
      "outputs": []
    },
    {
      "cell_type": "code",
      "metadata": {
        "colab": {
          "base_uri": "https://localhost:8080/"
        },
        "id": "VMksck94akaH",
        "outputId": "fc6163f6-2242-430d-eb56-a18d7f06aa69"
      },
      "source": [
        "model = Sequential()\n",
        "model.add(Embedding(n_unique_words, emb_dim, input_length=max_sent_lenght))\n",
        "model.add(SpatialDropout1D(drop_emb))\n",
        "model.add(LSTM(n_lstm, dropout=drop_lstm))\n",
        "model.add(Dense(1, activation='sigmoid'))\n",
        "model.summary()"
      ],
      "execution_count": 9,
      "outputs": [
        {
          "output_type": "stream",
          "text": [
            "Model: \"sequential\"\n",
            "_________________________________________________________________\n",
            "Layer (type)                 Output Shape              Param #   \n",
            "=================================================================\n",
            "embedding (Embedding)        (None, 100, 64)           640000    \n",
            "_________________________________________________________________\n",
            "spatial_dropout1d (SpatialDr (None, 100, 64)           0         \n",
            "_________________________________________________________________\n",
            "lstm (LSTM)                  (None, 256)               328704    \n",
            "_________________________________________________________________\n",
            "dense (Dense)                (None, 1)                 257       \n",
            "=================================================================\n",
            "Total params: 968,961\n",
            "Trainable params: 968,961\n",
            "Non-trainable params: 0\n",
            "_________________________________________________________________\n"
          ],
          "name": "stdout"
        }
      ]
    },
    {
      "cell_type": "code",
      "metadata": {
        "id": "VOoMK-hfakcG"
      },
      "source": [
        "model.compile(optimizer = 'nadam', loss= 'binary_crossentropy', metrics=['accuracy'])"
      ],
      "execution_count": 10,
      "outputs": []
    },
    {
      "cell_type": "code",
      "metadata": {
        "colab": {
          "base_uri": "https://localhost:8080/"
        },
        "id": "3eAly1M3akhL",
        "outputId": "9b726bf4-1ec6-4ee2-fdd2-e993cc70f276"
      },
      "source": [
        "model.fit(x_train, y_train, validation_data=(x_valid, y_valid), \n",
        "          batch_size=batch_size, epochs=epoch, callbacks=[m_checkpoint])"
      ],
      "execution_count": 11,
      "outputs": [
        {
          "output_type": "stream",
          "text": [
            "Epoch 1/4\n",
            "196/196 [==============================] - 14s 30ms/step - loss: 0.6825 - accuracy: 0.5705 - val_loss: 0.3971 - val_accuracy: 0.8220\n",
            "Epoch 2/4\n",
            "196/196 [==============================] - 5s 27ms/step - loss: 0.3613 - accuracy: 0.8474 - val_loss: 0.3713 - val_accuracy: 0.8382\n",
            "Epoch 3/4\n",
            "196/196 [==============================] - 5s 27ms/step - loss: 0.2645 - accuracy: 0.8959 - val_loss: 0.3969 - val_accuracy: 0.8400\n",
            "Epoch 4/4\n",
            "196/196 [==============================] - 5s 27ms/step - loss: 0.2259 - accuracy: 0.9169 - val_loss: 0.3647 - val_accuracy: 0.8405\n"
          ],
          "name": "stdout"
        },
        {
          "output_type": "execute_result",
          "data": {
            "text/plain": [
              "<tensorflow.python.keras.callbacks.History at 0x7f54d4420518>"
            ]
          },
          "metadata": {
            "tags": []
          },
          "execution_count": 11
        }
      ]
    },
    {
      "cell_type": "code",
      "metadata": {
        "id": "tl7q2zGraknj"
      },
      "source": [
        "model.load_weights(output_dir+'/weight.04.hdf5')"
      ],
      "execution_count": 13,
      "outputs": []
    },
    {
      "cell_type": "code",
      "metadata": {
        "id": "eZPxmkuRakix"
      },
      "source": [
        "y_hat = model.predict(x_valid)"
      ],
      "execution_count": 14,
      "outputs": []
    },
    {
      "cell_type": "code",
      "metadata": {
        "colab": {
          "base_uri": "https://localhost:8080/",
          "height": 265
        },
        "id": "rDlO_g4VakrP",
        "outputId": "82cfa5d3-a5b7-463e-fb8b-aa8f37a0f2ac"
      },
      "source": [
        "plt.hist(y_hat)\n",
        "_ = plt.axvline(x=0.5, color='green')"
      ],
      "execution_count": 15,
      "outputs": [
        {
          "output_type": "display_data",
          "data": {
            "image/png": "[encoded data removed]",
            "text/plain": [
              "<Figure size 432x288 with 1 Axes>"
            ]
          },
          "metadata": {
            "tags": [],
            "needs_background": "light"
          }
        }
      ]
    },
    {
      "cell_type": "code",
      "metadata": {
        "colab": {
          "base_uri": "https://localhost:8080/",
          "height": 35
        },
        "id": "M3OGBtPmakud",
        "outputId": "fe66257d-16b4-4526-9c2c-cd9d966e6a20"
      },
      "source": [
        "'{}%'.format(roc_auc_score(y_valid, y_hat)*100.0)"
      ],
      "execution_count": 16,
      "outputs": [
        {
          "output_type": "execute_result",
          "data": {
            "application/vnd.google.colaboratory.intrinsic+json": {
              "type": "string"
            },
            "text/plain": [
              "'92.64458176%'"
            ]
          },
          "metadata": {
            "tags": []
          },
          "execution_count": 16
        }
      ]
    }
  ]
}