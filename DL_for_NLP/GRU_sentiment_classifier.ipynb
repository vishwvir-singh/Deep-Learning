{
  "nbformat": 4,
  "nbformat_minor": 0,
  "metadata": {
    "colab": {
      "name": "GRU_sentiment_classifier.ipynb",
      "provenance": [],
      "authorship_tag": "ABX9TyNDNKt0Fw9Mk99n1HmaDLy6",
      "include_colab_link": true
    },
    "kernelspec": {
      "name": "python3",
      "display_name": "Python 3"
    },
    "accelerator": "GPU"
  },
  "cells": [
    {
      "cell_type": "markdown",
      "metadata": {
        "id": "view-in-github",
        "colab_type": "text"
      },
      "source": [
        "<a href=\"https://colab.research.google.com/github/vishwvir-singh/DeepLearningForNLP/blob/main/GRU_sentiment_classifier.ipynb\" target=\"_parent\"><img src=\"https://colab.research.google.com/assets/colab-badge.svg\" alt=\"Open In Colab\"/></a>"
      ]
    },
    {
      "cell_type": "code",
      "metadata": {
        "id": "hJFhJKPVacXd"
      },
      "source": [
        "from tensorflow.keras.datasets import imdb\n",
        "from tensorflow.keras.preprocessing.sequence import pad_sequences\n",
        "from tensorflow.keras.models import Sequential\n",
        "from tensorflow.keras.layers import GRU, Embedding, SpatialDropout1D, Dense, Dropout\n",
        "from tensorflow.keras.callbacks import ModelCheckpoint\n",
        "\n",
        "from sklearn.metrics import roc_auc_score\n",
        "import matplotlib.pyplot as plt"
      ],
      "execution_count": 1,
      "outputs": []
    },
    {
      "cell_type": "code",
      "metadata": {
        "id": "Gveptyh-akLN"
      },
      "source": [
        "output_dir = 'sentiment_classifier/GRU'\n",
        "\n",
        "epoch = 4\n",
        "batch_size = 128\n",
        "\n",
        "emb_dim = 64\n",
        "n_unique_words = 10000\n",
        "max_sent_lenght = 100\n",
        "pad_type = trunc_type = 'pre'\n",
        "drop_emb = 0.2\n",
        "\n",
        "n_gru = 256\n",
        "drop_gru = 0.2"
      ],
      "execution_count": 2,
      "outputs": []
    },
    {
      "cell_type": "code",
      "metadata": {
        "colab": {
          "base_uri": "https://localhost:8080/"
        },
        "id": "C4E7rzy1jHBq",
        "outputId": "02c6578c-4e2d-4b94-efe7-621492005333"
      },
      "source": [
        "import os\n",
        "if not os.path.exists(output_dir):\n",
        "    os.makedirs(output_dir)\n",
        "    print('Dirs created successfully !!!')\n",
        "\n",
        "os.chdir(output_dir)\n",
        "print('Path --> {} and ListDirs ---> {} '.format(os.getcwd(), os.listdir()))"
      ],
      "execution_count": 3,
      "outputs": [
        {
          "output_type": "stream",
          "text": [
            "Dirs created successfully !!!\n",
            "Path --> /content/sentiment_classifier/GRU and ListDirs ---> [] \n"
          ],
          "name": "stdout"
        }
      ]
    },
    {
      "cell_type": "code",
      "metadata": {
        "colab": {
          "base_uri": "https://localhost:8080/"
        },
        "id": "HvQSF7zxakSR",
        "outputId": "c44abb79-95db-40a8-a00e-2ce744fb37af"
      },
      "source": [
        "(x_train, y_train), (x_valid, y_valid) = imdb.load_data(num_words=n_unique_words)"
      ],
      "execution_count": 4,
      "outputs": [
        {
          "output_type": "stream",
          "text": [
            "Downloading data from https://storage.googleapis.com/tensorflow/tf-keras-datasets/imdb.npz\n",
            "17465344/17464789 [==============================] - 0s 0us/step\n"
          ],
          "name": "stdout"
        },
        {
          "output_type": "stream",
          "text": [
            "<string>:6: VisibleDeprecationWarning: Creating an ndarray from ragged nested sequences (which is a list-or-tuple of lists-or-tuples-or ndarrays with different lengths or shapes) is deprecated. If you meant to do this, you must specify 'dtype=object' when creating the ndarray\n",
            "/usr/local/lib/python3.6/dist-packages/tensorflow/python/keras/datasets/imdb.py:159: VisibleDeprecationWarning: Creating an ndarray from ragged nested sequences (which is a list-or-tuple of lists-or-tuples-or ndarrays with different lengths or shapes) is deprecated. If you meant to do this, you must specify 'dtype=object' when creating the ndarray\n",
            "  x_train, y_train = np.array(xs[:idx]), np.array(labels[:idx])\n",
            "/usr/local/lib/python3.6/dist-packages/tensorflow/python/keras/datasets/imdb.py:160: VisibleDeprecationWarning: Creating an ndarray from ragged nested sequences (which is a list-or-tuple of lists-or-tuples-or ndarrays with different lengths or shapes) is deprecated. If you meant to do this, you must specify 'dtype=object' when creating the ndarray\n",
            "  x_test, y_test = np.array(xs[idx:]), np.array(labels[idx:])\n"
          ],
          "name": "stderr"
        }
      ]
    },
    {
      "cell_type": "code",
      "metadata": {
        "id": "GDXB4GTRakUA"
      },
      "source": [
        "x_train = pad_sequences(x_train, maxlen=max_sent_lenght, padding=pad_type, truncating=trunc_type, value=0)\n",
        "x_valid = pad_sequences(x_valid, maxlen=max_sent_lenght, padding=pad_type, truncating=trunc_type, value=0)"
      ],
      "execution_count": 6,
      "outputs": []
    },
    {
      "cell_type": "code",
      "metadata": {
        "id": "Dfs4fGobhLaA"
      },
      "source": [
        "m_checkpoint = ModelCheckpoint(output_dir + '/weight.{epoch:02d}.hdf5')"
      ],
      "execution_count": 7,
      "outputs": []
    },
    {
      "cell_type": "code",
      "metadata": {
        "colab": {
          "base_uri": "https://localhost:8080/"
        },
        "id": "VMksck94akaH",
        "outputId": "615d4eb5-3d97-4f02-aa5e-10c2fea6c5f1"
      },
      "source": [
        "model = Sequential()\n",
        "model.add(Embedding(n_unique_words, emb_dim, input_length=max_sent_lenght))\n",
        "model.add(SpatialDropout1D(drop_emb))\n",
        "model.add(GRU(n_gru, dropout=drop_gru))\n",
        "model.add(Dense(1, activation='sigmoid'))\n",
        "model.summary()"
      ],
      "execution_count": 8,
      "outputs": [
        {
          "output_type": "stream",
          "text": [
            "Model: \"sequential\"\n",
            "_________________________________________________________________\n",
            "Layer (type)                 Output Shape              Param #   \n",
            "=================================================================\n",
            "embedding (Embedding)        (None, 100, 64)           640000    \n",
            "_________________________________________________________________\n",
            "spatial_dropout1d (SpatialDr (None, 100, 64)           0         \n",
            "_________________________________________________________________\n",
            "gru (GRU)                    (None, 256)               247296    \n",
            "_________________________________________________________________\n",
            "dense (Dense)                (None, 1)                 257       \n",
            "=================================================================\n",
            "Total params: 887,553\n",
            "Trainable params: 887,553\n",
            "Non-trainable params: 0\n",
            "_________________________________________________________________\n"
          ],
          "name": "stdout"
        }
      ]
    },
    {
      "cell_type": "code",
      "metadata": {
        "id": "VOoMK-hfakcG"
      },
      "source": [
        "model.compile(optimizer = 'nadam', loss= 'binary_crossentropy', metrics=['accuracy'])"
      ],
      "execution_count": 9,
      "outputs": []
    },
    {
      "cell_type": "code",
      "metadata": {
        "colab": {
          "base_uri": "https://localhost:8080/"
        },
        "id": "3eAly1M3akhL",
        "outputId": "eabb3d41-4577-4a14-9ca3-ec16ff3f4014"
      },
      "source": [
        "model.fit(x_train, y_train, validation_data=(x_valid, y_valid), \n",
        "          batch_size=batch_size, epochs=epoch, callbacks=[m_checkpoint])"
      ],
      "execution_count": 10,
      "outputs": [
        {
          "output_type": "stream",
          "text": [
            "Epoch 1/4\n",
            "196/196 [==============================] - 14s 30ms/step - loss: 0.6872 - accuracy: 0.6119 - val_loss: 0.4115 - val_accuracy: 0.8182\n",
            "Epoch 2/4\n",
            "196/196 [==============================] - 5s 25ms/step - loss: 0.3461 - accuracy: 0.8518 - val_loss: 0.3413 - val_accuracy: 0.8497\n",
            "Epoch 3/4\n",
            "196/196 [==============================] - 5s 26ms/step - loss: 0.2763 - accuracy: 0.8895 - val_loss: 0.3457 - val_accuracy: 0.8482\n",
            "Epoch 4/4\n",
            "196/196 [==============================] - 5s 26ms/step - loss: 0.2229 - accuracy: 0.9172 - val_loss: 0.3459 - val_accuracy: 0.8569\n"
          ],
          "name": "stdout"
        },
        {
          "output_type": "execute_result",
          "data": {
            "text/plain": [
              "<tensorflow.python.keras.callbacks.History at 0x7f2f1d1ea208>"
            ]
          },
          "metadata": {
            "tags": []
          },
          "execution_count": 10
        }
      ]
    },
    {
      "cell_type": "code",
      "metadata": {
        "id": "tl7q2zGraknj"
      },
      "source": [
        "model.load_weights(output_dir+'/weight.02.hdf5')"
      ],
      "execution_count": 11,
      "outputs": []
    },
    {
      "cell_type": "code",
      "metadata": {
        "id": "eZPxmkuRakix"
      },
      "source": [
        "y_hat = model.predict(x_valid)"
      ],
      "execution_count": 12,
      "outputs": []
    },
    {
      "cell_type": "code",
      "metadata": {
        "colab": {
          "base_uri": "https://localhost:8080/",
          "height": 265
        },
        "id": "rDlO_g4VakrP",
        "outputId": "fd6ab1cd-e1fc-4c63-d10e-cd80736ac3b1"
      },
      "source": [
        "plt.hist(y_hat)\n",
        "_ = plt.axvline(x=0.5, color='green')"
      ],
      "execution_count": 13,
      "outputs": [
        {
          "output_type": "display_data",
          "data": {
            "image/png": "[encoded data removed]",
            "text/plain": [
              "<Figure size 432x288 with 1 Axes>"
            ]
          },
          "metadata": {
            "tags": [],
            "needs_background": "light"
          }
        }
      ]
    },
    {
      "cell_type": "code",
      "metadata": {
        "colab": {
          "base_uri": "https://localhost:8080/",
          "height": 35
        },
        "id": "M3OGBtPmakud",
        "outputId": "cc713fcf-7526-476d-9cd9-94c9e25453ce"
      },
      "source": [
        "'{}%'.format(roc_auc_score(y_valid, y_hat)*100.0)"
      ],
      "execution_count": 14,
      "outputs": [
        {
          "output_type": "execute_result",
          "data": {
            "application/vnd.google.colaboratory.intrinsic+json": {
              "type": "string"
            },
            "text/plain": [
              "'92.95568320000001%'"
            ]
          },
          "metadata": {
            "tags": []
          },
          "execution_count": 14
        }
      ]
    }
  ]
}