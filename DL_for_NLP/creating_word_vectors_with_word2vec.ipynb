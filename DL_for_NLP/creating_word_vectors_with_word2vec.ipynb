{
  "nbformat": 4,
  "nbformat_minor": 0,
  "metadata": {
    "colab": {
      "name": "creating_word_vectors_with_word2vec.ipynb",
      "provenance": [],
      "collapsed_sections": [],
      "authorship_tag": "ABX9TyNcFiDpmXAC1ASXptQ9cBoY",
      "include_colab_link": true
    },
    "kernelspec": {
      "name": "python3",
      "display_name": "Python 3"
    },
    "accelerator": "GPU"
  },
  "cells": [
    {
      "cell_type": "markdown",
      "metadata": {
        "id": "view-in-github",
        "colab_type": "text"
      },
      "source": [
        "<a href=\"https://colab.research.google.com/github/vishwvir-singh/DeepLearningForNLP/blob/main/creating_word_vectors_with_word2vec.ipynb\" target=\"_parent\"><img src=\"https://colab.research.google.com/assets/colab-badge.svg\" alt=\"Open In Colab\"/></a>"
      ]
    },
    {
      "cell_type": "code",
      "metadata": {
        "id": "SdfDw6_1Kkby"
      },
      "source": [
        "import pandas as pd\n",
        "import gensim\n",
        "from gensim.models.word2vec import Word2Vec\n",
        "import nltk\n",
        "from nltk import word_tokenize, sent_tokenize\n",
        "from sklearn.manifold import TSNE\n",
        "from bokeh.io import output_notebook\n",
        "from bokeh.plotting import show, figure"
      ],
      "execution_count": 37,
      "outputs": []
    },
    {
      "cell_type": "code",
      "metadata": {
        "colab": {
          "base_uri": "https://localhost:8080/"
        },
        "id": "EyBJIzfjKp7p",
        "outputId": "6889ad91-eccf-4c2c-e507-b466b5959b23"
      },
      "source": [
        "nltk.download('punkt') # English-language sentence tokenizer (not all periods end sentences; not all sentences start with a capital letter)"
      ],
      "execution_count": 2,
      "outputs": [
        {
          "output_type": "stream",
          "text": [
            "[nltk_data] Downloading package punkt to /root/nltk_data...\n",
            "[nltk_data]   Package punkt is already up-to-date!\n"
          ],
          "name": "stdout"
        },
        {
          "output_type": "execute_result",
          "data": {
            "text/plain": [
              "True"
            ]
          },
          "metadata": {
            "tags": []
          },
          "execution_count": 2
        }
      ]
    },
    {
      "cell_type": "code",
      "metadata": {
        "colab": {
          "base_uri": "https://localhost:8080/"
        },
        "id": "Iya-Gi2FL4VW",
        "outputId": "3a669d93-d19b-46fc-b42d-bf3a0c080e7e"
      },
      "source": [
        "nltk.download('gutenberg')"
      ],
      "execution_count": 3,
      "outputs": [
        {
          "output_type": "stream",
          "text": [
            "[nltk_data] Downloading package gutenberg to /root/nltk_data...\n",
            "[nltk_data]   Package gutenberg is already up-to-date!\n"
          ],
          "name": "stdout"
        },
        {
          "output_type": "execute_result",
          "data": {
            "text/plain": [
              "True"
            ]
          },
          "metadata": {
            "tags": []
          },
          "execution_count": 3
        }
      ]
    },
    {
      "cell_type": "code",
      "metadata": {
        "id": "cIoy4NuKKp-k"
      },
      "source": [
        "from nltk.corpus import gutenberg"
      ],
      "execution_count": 4,
      "outputs": []
    },
    {
      "cell_type": "code",
      "metadata": {
        "colab": {
          "base_uri": "https://localhost:8080/"
        },
        "id": "UVO4xd-WKqBn",
        "outputId": "69ebf507-d419-4b90-d824-9339097f38ae"
      },
      "source": [
        "# a convenient method that handles newlines, as well as tokenizing sentences and words in one shot\n",
        "gberg_sents = gutenberg.sents()\n",
        "print(gberg_sents[0])\n",
        "gberg_words = gutenberg.words()\n",
        "print(gberg_words[:50])"
      ],
      "execution_count": 5,
      "outputs": [
        {
          "output_type": "stream",
          "text": [
            "['[', 'Emma', 'by', 'Jane', 'Austen', '1816', ']']\n",
            "['[', 'Emma', 'by', 'Jane', 'Austen', '1816', ']', 'VOLUME', 'I', 'CHAPTER', 'I', 'Emma', 'Woodhouse', ',', 'handsome', ',', 'clever', ',', 'and', 'rich', ',', 'with', 'a', 'comfortable', 'home', 'and', 'happy', 'disposition', ',', 'seemed', 'to', 'unite', 'some', 'of', 'the', 'best', 'blessings', 'of', 'existence', ';', 'and', 'had', 'lived', 'nearly', 'twenty', '-', 'one', 'years', 'in', 'the']\n"
          ],
          "name": "stdout"
        }
      ]
    },
    {
      "cell_type": "code",
      "metadata": {
        "id": "mwdtEtWxL3LU"
      },
      "source": [
        "#@Run word2vec\n",
        "model = Word2Vec(sentences=gberg_sents, size=32, window=10, min_count=5, workers=8, sg=1)"
      ],
      "execution_count": 6,
      "outputs": []
    },
    {
      "cell_type": "code",
      "metadata": {
        "id": "vaxVTWhzKqEO"
      },
      "source": [
        "# model.save(\"word2vector_gutenberg_model.w2v\")"
      ],
      "execution_count": 29,
      "outputs": []
    },
    {
      "cell_type": "code",
      "metadata": {
        "id": "dD4_YMwIKqHM"
      },
      "source": [
        "#Load and WKork on Model\n",
        "# model = gensim.models.word2vec.Word2Vec.load('word2vector_gutenberg_model.w2v')"
      ],
      "execution_count": 30,
      "outputs": []
    },
    {
      "cell_type": "code",
      "metadata": {
        "colab": {
          "base_uri": "https://localhost:8080/"
        },
        "id": "UR3eRXHfSFRg",
        "outputId": "ea72ffb8-e4dc-41fe-e519-4cb8c416355d"
      },
      "source": [
        "len(model.wv['dog'])"
      ],
      "execution_count": 7,
      "outputs": [
        {
          "output_type": "execute_result",
          "data": {
            "text/plain": [
              "32"
            ]
          },
          "metadata": {
            "tags": []
          },
          "execution_count": 7
        }
      ]
    },
    {
      "cell_type": "code",
      "metadata": {
        "colab": {
          "base_uri": "https://localhost:8080/"
        },
        "id": "kb8l67FuSFOw",
        "outputId": "9dcc827e-9e55-4d77-cf0a-8d88c61d7f1b"
      },
      "source": [
        "model.wv.most_similar('dog')"
      ],
      "execution_count": 8,
      "outputs": [
        {
          "output_type": "stream",
          "text": [
            "/usr/local/lib/python3.6/dist-packages/gensim/matutils.py:737: FutureWarning: Conversion of the second argument of issubdtype from `int` to `np.signedinteger` is deprecated. In future, it will be treated as `np.int64 == np.dtype(int).type`.\n",
            "  if np.issubdtype(vec.dtype, np.int):\n"
          ],
          "name": "stderr"
        },
        {
          "output_type": "execute_result",
          "data": {
            "text/plain": [
              "[('puppy', 0.8660478591918945),\n",
              " ('cage', 0.8581024408340454),\n",
              " ('broth', 0.8458098769187927),\n",
              " ('chimney', 0.8402470350265503),\n",
              " ('sweeper', 0.8358533382415771),\n",
              " ('thief', 0.8251467943191528),\n",
              " ('kick', 0.8094393014907837),\n",
              " ('box', 0.8065828680992126),\n",
              " ('crab', 0.8061661720275879),\n",
              " ('boy', 0.8033056855201721)]"
            ]
          },
          "metadata": {
            "tags": []
          },
          "execution_count": 8
        }
      ]
    },
    {
      "cell_type": "code",
      "metadata": {
        "colab": {
          "base_uri": "https://localhost:8080/",
          "height": 123
        },
        "id": "aFkRXyPJSFUU",
        "outputId": "c9401a5d-97bc-4ec4-dd4f-547f13649ec2"
      },
      "source": [
        "model.wv.doesnt_match(\"mother father daughter dog boy\".split())\n"
      ],
      "execution_count": 14,
      "outputs": [
        {
          "output_type": "stream",
          "text": [
            "/usr/local/lib/python3.6/dist-packages/gensim/models/keyedvectors.py:895: FutureWarning: arrays to stack must be passed as a \"sequence\" type such as list or tuple. Support for non-sequence iterables such as generators is deprecated as of NumPy 1.16 and will raise an error in the future.\n",
            "  vectors = vstack(self.word_vec(word, use_norm=True) for word in used_words).astype(REAL)\n",
            "/usr/local/lib/python3.6/dist-packages/gensim/matutils.py:737: FutureWarning: Conversion of the second argument of issubdtype from `int` to `np.signedinteger` is deprecated. In future, it will be treated as `np.int64 == np.dtype(int).type`.\n",
            "  if np.issubdtype(vec.dtype, np.int):\n"
          ],
          "name": "stderr"
        },
        {
          "output_type": "execute_result",
          "data": {
            "application/vnd.google.colaboratory.intrinsic+json": {
              "type": "string"
            },
            "text/plain": [
              "'dog'"
            ]
          },
          "metadata": {
            "tags": []
          },
          "execution_count": 14
        }
      ]
    },
    {
      "cell_type": "code",
      "metadata": {
        "colab": {
          "base_uri": "https://localhost:8080/"
        },
        "id": "Vp-4J8gjZxMp",
        "outputId": "f9a1b7cb-1edd-4731-bd23-c6911ae8b2d0"
      },
      "source": [
        "model.wv.most_similar(positive=['father', 'woman'], negative=['man'])\n"
      ],
      "execution_count": 19,
      "outputs": [
        {
          "output_type": "stream",
          "text": [
            "/usr/local/lib/python3.6/dist-packages/gensim/matutils.py:737: FutureWarning: Conversion of the second argument of issubdtype from `int` to `np.signedinteger` is deprecated. In future, it will be treated as `np.int64 == np.dtype(int).type`.\n",
            "  if np.issubdtype(vec.dtype, np.int):\n"
          ],
          "name": "stderr"
        },
        {
          "output_type": "execute_result",
          "data": {
            "text/plain": [
              "[('wife', 0.856576681137085),\n",
              " ('daughter', 0.856464147567749),\n",
              " ('husband', 0.8558577299118042),\n",
              " ('sister', 0.8528902530670166),\n",
              " ('mother', 0.843829870223999),\n",
              " ('brother', 0.7992885112762451),\n",
              " ('daughters', 0.7764606475830078),\n",
              " ('Rachel', 0.770934522151947),\n",
              " ('child', 0.7622312307357788),\n",
              " ('Sarai', 0.7465187907218933)]"
            ]
          },
          "metadata": {
            "tags": []
          },
          "execution_count": 19
        }
      ]
    },
    {
      "cell_type": "code",
      "metadata": {
        "colab": {
          "base_uri": "https://localhost:8080/"
        },
        "id": "zIqbizHRSFXJ",
        "outputId": "72f5b597-ffa3-4389-e13c-0b150b24a122"
      },
      "source": [
        "model.wv.most_similar(positive=['king', 'queen'], negative=['man'])"
      ],
      "execution_count": 20,
      "outputs": [
        {
          "output_type": "stream",
          "text": [
            "/usr/local/lib/python3.6/dist-packages/gensim/matutils.py:737: FutureWarning: Conversion of the second argument of issubdtype from `int` to `np.signedinteger` is deprecated. In future, it will be treated as `np.int64 == np.dtype(int).type`.\n",
            "  if np.issubdtype(vec.dtype, np.int):\n"
          ],
          "name": "stderr"
        },
        {
          "output_type": "execute_result",
          "data": {
            "text/plain": [
              "[('David', 0.8139530420303345),\n",
              " ('Solomon', 0.7971004843711853),\n",
              " ('Abimelech', 0.7929007411003113),\n",
              " ('Laban', 0.7818493247032166),\n",
              " ('Shechem', 0.7799972295761108),\n",
              " ('Gibeon', 0.7797765731811523),\n",
              " ('Samuel', 0.7754408121109009),\n",
              " ('Padanaram', 0.7744144201278687),\n",
              " ('Isaac', 0.7708280086517334),\n",
              " ('Jerusalem', 0.7704315185546875)]"
            ]
          },
          "metadata": {
            "tags": []
          },
          "execution_count": 20
        }
      ]
    },
    {
      "cell_type": "code",
      "metadata": {
        "colab": {
          "base_uri": "https://localhost:8080/"
        },
        "id": "4Tu9oyngSFa3",
        "outputId": "93e51722-21fa-4d01-e2e0-d294ecb99612"
      },
      "source": [
        "model.wv.most_similar(positive=['husband', 'woman'], negative=['man'])"
      ],
      "execution_count": 21,
      "outputs": [
        {
          "output_type": "stream",
          "text": [
            "/usr/local/lib/python3.6/dist-packages/gensim/matutils.py:737: FutureWarning: Conversion of the second argument of issubdtype from `int` to `np.signedinteger` is deprecated. In future, it will be treated as `np.int64 == np.dtype(int).type`.\n",
            "  if np.issubdtype(vec.dtype, np.int):\n"
          ],
          "name": "stderr"
        },
        {
          "output_type": "execute_result",
          "data": {
            "text/plain": [
              "[('wife', 0.8302949070930481),\n",
              " ('sister', 0.791132390499115),\n",
              " ('daughter', 0.7818539142608643),\n",
              " ('mother', 0.7712199687957764),\n",
              " ('child', 0.7546797394752502),\n",
              " ('widow', 0.7373995780944824),\n",
              " ('brother', 0.7317603826522827),\n",
              " ('father', 0.7287042140960693),\n",
              " ('conceived', 0.7138863801956177),\n",
              " ('maid', 0.704952597618103)]"
            ]
          },
          "metadata": {
            "tags": []
          },
          "execution_count": 21
        }
      ]
    },
    {
      "cell_type": "code",
      "metadata": {
        "colab": {
          "base_uri": "https://localhost:8080/"
        },
        "id": "UvwK02sRSFdc",
        "outputId": "28ad0864-34e5-460e-fe1d-42ffbfd5ab04"
      },
      "source": [
        "model.wv.most_similar(positive=['king', 'woman'], negative=['man'], topn=30)"
      ],
      "execution_count": 23,
      "outputs": [
        {
          "output_type": "stream",
          "text": [
            "/usr/local/lib/python3.6/dist-packages/gensim/matutils.py:737: FutureWarning: Conversion of the second argument of issubdtype from `int` to `np.signedinteger` is deprecated. In future, it will be treated as `np.int64 == np.dtype(int).type`.\n",
            "  if np.issubdtype(vec.dtype, np.int):\n"
          ],
          "name": "stderr"
        },
        {
          "output_type": "execute_result",
          "data": {
            "text/plain": [
              "[('Sarah', 0.84154212474823),\n",
              " ('David', 0.837168276309967),\n",
              " ('Rachel', 0.8273521661758423),\n",
              " ('Abram', 0.8136928081512451),\n",
              " ('Isaac', 0.8081554174423218),\n",
              " ('Leah', 0.801618218421936),\n",
              " ('Sarai', 0.8013589382171631),\n",
              " ('Laban', 0.8009279370307922),\n",
              " ('daughter', 0.7912355661392212),\n",
              " ('Padanaram', 0.78868567943573),\n",
              " ('Esau', 0.780951201915741),\n",
              " ('Joseph', 0.7804110050201416),\n",
              " ('Hagar', 0.7803164124488831),\n",
              " ('Abimelech', 0.7797116041183472),\n",
              " ('Saul', 0.7733035087585449),\n",
              " ('Bethuel', 0.7729694843292236),\n",
              " ('Pharaoh', 0.7682181596755981),\n",
              " ('Shechem', 0.767916202545166),\n",
              " ('Jacob', 0.7670276165008545),\n",
              " ('Abraham', 0.7668330073356628),\n",
              " ('Cain', 0.7643496990203857),\n",
              " ('Rebekah', 0.7638394832611084),\n",
              " ('Ephron', 0.7590479254722595),\n",
              " ('household', 0.7587844133377075),\n",
              " ('Hanun', 0.7542117834091187),\n",
              " ('kindred', 0.7534000277519226),\n",
              " ('Lot', 0.7507311105728149),\n",
              " ('wife', 0.7505170702934265),\n",
              " ('servant', 0.7488958239555359),\n",
              " ('Bilhah', 0.7447628974914551)]"
            ]
          },
          "metadata": {
            "tags": []
          },
          "execution_count": 23
        }
      ]
    },
    {
      "cell_type": "markdown",
      "metadata": {
        "id": "fIQtAuf6aHxA"
      },
      "source": [
        "\n",
        "\n",
        "---\n",
        "\n",
        "\n",
        "**Reduce word vector dimensionality with t-SNE (TSNE)**"
      ]
    },
    {
      "cell_type": "code",
      "metadata": {
        "colab": {
          "base_uri": "https://localhost:8080/"
        },
        "id": "RvR-OiRMaPME",
        "outputId": "0c3d86f2-1d7d-4b7c-8229-8982b5364225"
      },
      "source": [
        "len(model.wv.vocab)"
      ],
      "execution_count": 33,
      "outputs": [
        {
          "output_type": "execute_result",
          "data": {
            "text/plain": [
              "17011"
            ]
          },
          "metadata": {
            "tags": []
          },
          "execution_count": 33
        }
      ]
    },
    {
      "cell_type": "code",
      "metadata": {
        "id": "L8DvJZZLaPPI"
      },
      "source": [
        "X = model.wv[model.wv.vocab]  #creating vector form of each word in vocab"
      ],
      "execution_count": 36,
      "outputs": []
    },
    {
      "cell_type": "code",
      "metadata": {
        "id": "iZ_7eHz6aPSG"
      },
      "source": [
        "tsne = TSNE(n_components=2, n_iter=1000)   #dim = 2"
      ],
      "execution_count": 40,
      "outputs": []
    },
    {
      "cell_type": "code",
      "metadata": {
        "id": "2HnhD3wAaPVb"
      },
      "source": [
        "X_2d = tsne.fit_transform(X)"
      ],
      "execution_count": 41,
      "outputs": []
    },
    {
      "cell_type": "code",
      "metadata": {
        "colab": {
          "base_uri": "https://localhost:8080/"
        },
        "id": "-tYkKzr-aPYr",
        "outputId": "5d65e8a0-1182-4b5d-b3d6-3c805c4db9f9"
      },
      "source": [
        "X[0]"
      ],
      "execution_count": 42,
      "outputs": [
        {
          "output_type": "execute_result",
          "data": {
            "text/plain": [
              "array([ 0.00711126,  0.45514145,  0.03741889, -0.01182283,  0.24554825,\n",
              "       -0.02151301, -0.06587531, -0.67246354, -0.2945214 ,  1.228421  ,\n",
              "        0.86641085,  0.41355324,  0.6298177 ,  1.7246153 ,  0.04075227,\n",
              "        0.636087  ,  0.09456768,  0.39713806,  0.80314857, -0.25745007,\n",
              "        0.43370783,  0.18217811, -0.4818429 , -0.1839921 , -0.16880387,\n",
              "       -0.27919233, -0.83554673, -1.1433337 , -0.48636144,  0.782285  ,\n",
              "        1.305592  ,  0.3574379 ], dtype=float32)"
            ]
          },
          "metadata": {
            "tags": []
          },
          "execution_count": 42
        }
      ]
    },
    {
      "cell_type": "code",
      "metadata": {
        "colab": {
          "base_uri": "https://localhost:8080/"
        },
        "id": "aCIY7jBnaPdd",
        "outputId": "691e877c-2805-4f17-e794-231dfd7f50e9"
      },
      "source": [
        "X_2d[0]"
      ],
      "execution_count": 43,
      "outputs": [
        {
          "output_type": "execute_result",
          "data": {
            "text/plain": [
              "array([-44.997574, -40.48404 ], dtype=float32)"
            ]
          },
          "metadata": {
            "tags": []
          },
          "execution_count": 43
        }
      ]
    },
    {
      "cell_type": "code",
      "metadata": {
        "id": "zg-IVCYud_xb"
      },
      "source": [
        "df = pd.DataFrame(X_2d, columns= ['x', 'y'])\n",
        "df['word'] = model.wv.vocab.keys()"
      ],
      "execution_count": 45,
      "outputs": []
    },
    {
      "cell_type": "code",
      "metadata": {
        "colab": {
          "base_uri": "https://localhost:8080/",
          "height": 204
        },
        "id": "WHJNR_-Uerrf",
        "outputId": "57c49db2-2b8d-45a2-9866-ceafe7fd3a4b"
      },
      "source": [
        "df.head()"
      ],
      "execution_count": 46,
      "outputs": [
        {
          "output_type": "execute_result",
          "data": {
            "text/html": [
              "<div>\n",
              "<style scoped>\n",
              "    .dataframe tbody tr th:only-of-type {\n",
              "        vertical-align: middle;\n",
              "    }\n",
              "\n",
              "    .dataframe tbody tr th {\n",
              "        vertical-align: top;\n",
              "    }\n",
              "\n",
              "    .dataframe thead th {\n",
              "        text-align: right;\n",
              "    }\n",
              "</style>\n",
              "<table border=\"1\" class=\"dataframe\">\n",
              "  <thead>\n",
              "    <tr style=\"text-align: right;\">\n",
              "      <th></th>\n",
              "      <th>x</th>\n",
              "      <th>y</th>\n",
              "      <th>word</th>\n",
              "    </tr>\n",
              "  </thead>\n",
              "  <tbody>\n",
              "    <tr>\n",
              "      <th>0</th>\n",
              "      <td>-44.997574</td>\n",
              "      <td>-40.484039</td>\n",
              "      <td>[</td>\n",
              "    </tr>\n",
              "    <tr>\n",
              "      <th>1</th>\n",
              "      <td>34.030258</td>\n",
              "      <td>-54.961296</td>\n",
              "      <td>Emma</td>\n",
              "    </tr>\n",
              "    <tr>\n",
              "      <th>2</th>\n",
              "      <td>61.148129</td>\n",
              "      <td>-12.586630</td>\n",
              "      <td>by</td>\n",
              "    </tr>\n",
              "    <tr>\n",
              "      <th>3</th>\n",
              "      <td>33.157978</td>\n",
              "      <td>-55.854748</td>\n",
              "      <td>Jane</td>\n",
              "    </tr>\n",
              "    <tr>\n",
              "      <th>4</th>\n",
              "      <td>-44.961651</td>\n",
              "      <td>-40.368328</td>\n",
              "      <td>]</td>\n",
              "    </tr>\n",
              "  </tbody>\n",
              "</table>\n",
              "</div>"
            ],
            "text/plain": [
              "           x          y  word\n",
              "0 -44.997574 -40.484039     [\n",
              "1  34.030258 -54.961296  Emma\n",
              "2  61.148129 -12.586630    by\n",
              "3  33.157978 -55.854748  Jane\n",
              "4 -44.961651 -40.368328     ]"
            ]
          },
          "metadata": {
            "tags": []
          },
          "execution_count": 46
        }
      ]
    },
    {
      "cell_type": "markdown",
      "metadata": {
        "id": "-0bAMVMmemBl"
      },
      "source": [
        "**Visualize 2D representation of word vectors**"
      ]
    },
    {
      "cell_type": "code",
      "metadata": {
        "id": "oA4Nlo7Oekpk"
      },
      "source": [
        "output_notebook()"
      ],
      "execution_count": 47,
      "outputs": []
    },
    {
      "cell_type": "code",
      "metadata": {
        "id": "nmpKr9qgeksG"
      },
      "source": [
        "sample_df = df.sample(n=1000)"
      ],
      "execution_count": 48,
      "outputs": []
    },
    {
      "cell_type": "code",
      "metadata": {
        "colab": {
          "base_uri": "https://localhost:8080/",
          "height": 204
        },
        "id": "62tamLRjekuc",
        "outputId": "8736d588-7405-44de-9530-e53650568a35"
      },
      "source": [
        "sample_df.head()"
      ],
      "execution_count": 49,
      "outputs": [
        {
          "output_type": "execute_result",
          "data": {
            "text/html": [
              "<div>\n",
              "<style scoped>\n",
              "    .dataframe tbody tr th:only-of-type {\n",
              "        vertical-align: middle;\n",
              "    }\n",
              "\n",
              "    .dataframe tbody tr th {\n",
              "        vertical-align: top;\n",
              "    }\n",
              "\n",
              "    .dataframe thead th {\n",
              "        text-align: right;\n",
              "    }\n",
              "</style>\n",
              "<table border=\"1\" class=\"dataframe\">\n",
              "  <thead>\n",
              "    <tr style=\"text-align: right;\">\n",
              "      <th></th>\n",
              "      <th>x</th>\n",
              "      <th>y</th>\n",
              "      <th>word</th>\n",
              "    </tr>\n",
              "  </thead>\n",
              "  <tbody>\n",
              "    <tr>\n",
              "      <th>12868</th>\n",
              "      <td>20.326706</td>\n",
              "      <td>9.551503</td>\n",
              "      <td>kennel</td>\n",
              "    </tr>\n",
              "    <tr>\n",
              "      <th>9813</th>\n",
              "      <td>4.023027</td>\n",
              "      <td>28.989534</td>\n",
              "      <td>chased</td>\n",
              "    </tr>\n",
              "    <tr>\n",
              "      <th>6689</th>\n",
              "      <td>29.282497</td>\n",
              "      <td>-54.629452</td>\n",
              "      <td>Fanny</td>\n",
              "    </tr>\n",
              "    <tr>\n",
              "      <th>793</th>\n",
              "      <td>4.554213</td>\n",
              "      <td>-51.462215</td>\n",
              "      <td>gallantry</td>\n",
              "    </tr>\n",
              "    <tr>\n",
              "      <th>16893</th>\n",
              "      <td>15.124446</td>\n",
              "      <td>22.524202</td>\n",
              "      <td>perturbations</td>\n",
              "    </tr>\n",
              "  </tbody>\n",
              "</table>\n",
              "</div>"
            ],
            "text/plain": [
              "               x          y           word\n",
              "12868  20.326706   9.551503         kennel\n",
              "9813    4.023027  28.989534         chased\n",
              "6689   29.282497 -54.629452          Fanny\n",
              "793     4.554213 -51.462215      gallantry\n",
              "16893  15.124446  22.524202  perturbations"
            ]
          },
          "metadata": {
            "tags": []
          },
          "execution_count": 49
        }
      ]
    },
    {
      "cell_type": "code",
      "metadata": {
        "id": "AMGpoawCekxO"
      },
      "source": [
        "p = figure(plot_width=800 , plot_height=800)\n",
        "_ = p.text(x=sample_df.x, y=sample_df.y, text=sample_df.word)"
      ],
      "execution_count": 55,
      "outputs": []
    },
    {
      "cell_type": "code",
      "metadata": {
        "colab": {
          "base_uri": "https://localhost:8080/",
          "height": 817
        },
        "id": "uGh_X5fsf5Jt",
        "outputId": "6d059a88-0ffe-434d-b988-8021e6cab4b7"
      },
      "source": [
        "show(p)"
      ],
      "execution_count": 58,
      "outputs": [
        {
          "output_type": "display_data",
          "data": {
            "application/javascript": [
              "\n",
              "(function(root) {\n",
              "  function now() {\n",
              "    return new Date();\n",
              "  }\n",
              "\n",
              "  var force = true;\n",
              "\n",
              "  if (typeof root._bokeh_onload_callbacks === \"undefined\" || force === true) {\n",
              "    root._bokeh_onload_callbacks = [];\n",
              "    root._bokeh_is_loading = undefined;\n",
              "  }\n",
              "\n",
              "  var JS_MIME_TYPE = 'application/javascript';\n",
              "  var HTML_MIME_TYPE = 'text/html';\n",
              "  var EXEC_MIME_TYPE = 'application/vnd.bokehjs_exec.v0+json';\n",
              "  var CLASS_NAME = 'output_bokeh rendered_html';\n",
              "\n",
              "  /**\n",
              "   * Render data to the DOM node\n",
              "   */\n",
              "  function render(props, node) {\n",
              "    var script = document.createElement(\"script\");\n",
              "    node.appendChild(script);\n",
              "  }\n",
              "\n",
              "  /**\n",
              "   * Handle when an output is cleared or removed\n",
              "   */\n",
              "  function handleClearOutput(event, handle) {\n",
              "    var cell = handle.cell;\n",
              "\n",
              "    var id = cell.output_area._bokeh_element_id;\n",
              "    var server_id = cell.output_area._bokeh_server_id;\n",
              "    // Clean up Bokeh references\n",
              "    if (id != null && id in Bokeh.index) {\n",
              "      Bokeh.index[id].model.document.clear();\n",
              "      delete Bokeh.index[id];\n",
              "    }\n",
              "\n",
              "    if (server_id !== undefined) {\n",
              "      // Clean up Bokeh references\n",
              "      var cmd = \"from bokeh.io.state import curstate; print(curstate().uuid_to_server['\" + server_id + \"'].get_sessions()[0].document.roots[0]._id)\";\n",
              "      cell.notebook.kernel.execute(cmd, {\n",
              "        iopub: {\n",
              "          output: function(msg) {\n",
              "            var id = msg.content.text.trim();\n",
              "            if (id in Bokeh.index) {\n",
              "              Bokeh.index[id].model.document.clear();\n",
              "              delete Bokeh.index[id];\n",
              "            }\n",
              "          }\n",
              "        }\n",
              "      });\n",
              "      // Destroy server and session\n",
              "      var cmd = \"import bokeh.io.notebook as ion; ion.destroy_server('\" + server_id + \"')\";\n",
              "      cell.notebook.kernel.execute(cmd);\n",
              "    }\n",
              "  }\n",
              "\n",
              "  /**\n",
              "   * Handle when a new output is added\n",
              "   */\n",
              "  function handleAddOutput(event, handle) {\n",
              "    var output_area = handle.output_area;\n",
              "    var output = handle.output;\n",
              "\n",
              "    // limit handleAddOutput to display_data with EXEC_MIME_TYPE content only\n",
              "    if ((output.output_type != \"display_data\") || (!output.data.hasOwnProperty(EXEC_MIME_TYPE))) {\n",
              "      return\n",
              "    }\n",
              "\n",
              "    var toinsert = output_area.element.find(\".\" + CLASS_NAME.split(' ')[0]);\n",
              "\n",
              "    if (output.metadata[EXEC_MIME_TYPE][\"id\"] !== undefined) {\n",
              "      toinsert[toinsert.length - 1].firstChild.textContent = output.data[JS_MIME_TYPE];\n",
              "      // store reference to embed id on output_area\n",
              "      output_area._bokeh_element_id = output.metadata[EXEC_MIME_TYPE][\"id\"];\n",
              "    }\n",
              "    if (output.metadata[EXEC_MIME_TYPE][\"server_id\"] !== undefined) {\n",
              "      var bk_div = document.createElement(\"div\");\n",
              "      bk_div.innerHTML = output.data[HTML_MIME_TYPE];\n",
              "      var script_attrs = bk_div.children[0].attributes;\n",
              "      for (var i = 0; i < script_attrs.length; i++) {\n",
              "        toinsert[toinsert.length - 1].firstChild.setAttribute(script_attrs[i].name, script_attrs[i].value);\n",
              "        toinsert[toinsert.length - 1].firstChild.textContent = bk_div.children[0].textContent\n",
              "      }\n",
              "      // store reference to server id on output_area\n",
              "      output_area._bokeh_server_id = output.metadata[EXEC_MIME_TYPE][\"server_id\"];\n",
              "    }\n",
              "  }\n",
              "\n",
              "  function register_renderer(events, OutputArea) {\n",
              "\n",
              "    function append_mime(data, metadata, element) {\n",
              "      // create a DOM node to render to\n",
              "      var toinsert = this.create_output_subarea(\n",
              "        metadata,\n",
              "        CLASS_NAME,\n",
              "        EXEC_MIME_TYPE\n",
              "      );\n",
              "      this.keyboard_manager.register_events(toinsert);\n",
              "      // Render to node\n",
              "      var props = {data: data, metadata: metadata[EXEC_MIME_TYPE]};\n",
              "      render(props, toinsert[toinsert.length - 1]);\n",
              "      element.append(toinsert);\n",
              "      return toinsert\n",
              "    }\n",
              "\n",
              "    /* Handle when an output is cleared or removed */\n",
              "    events.on('clear_output.CodeCell', handleClearOutput);\n",
              "    events.on('delete.Cell', handleClearOutput);\n",
              "\n",
              "    /* Handle when a new output is added */\n",
              "    events.on('output_added.OutputArea', handleAddOutput);\n",
              "\n",
              "    /**\n",
              "     * Register the mime type and append_mime function with output_area\n",
              "     */\n",
              "    OutputArea.prototype.register_mime_type(EXEC_MIME_TYPE, append_mime, {\n",
              "      /* Is output safe? */\n",
              "      safe: true,\n",
              "      /* Index of renderer in `output_area.display_order` */\n",
              "      index: 0\n",
              "    });\n",
              "  }\n",
              "\n",
              "  // register the mime type if in Jupyter Notebook environment and previously unregistered\n",
              "  if (root.Jupyter !== undefined) {\n",
              "    var events = require('base/js/events');\n",
              "    var OutputArea = require('notebook/js/outputarea').OutputArea;\n",
              "\n",
              "    if (OutputArea.prototype.mime_types().indexOf(EXEC_MIME_TYPE) == -1) {\n",
              "      register_renderer(events, OutputArea);\n",
              "    }\n",
              "  }\n",
              "\n",
              "  \n",
              "  if (typeof (root._bokeh_timeout) === \"undefined\" || force === true) {\n",
              "    root._bokeh_timeout = Date.now() + 5000;\n",
              "    root._bokeh_failed_load = false;\n",
              "  }\n",
              "\n",
              "  var NB_LOAD_WARNING = {'data': {'text/html':\n",
              "     \"<div style='background-color: #fdd'>\\n\"+\n",
              "     \"<p>\\n\"+\n",
              "     \"BokehJS does not appear to have successfully loaded. If loading BokehJS from CDN, this \\n\"+\n",
              "     \"may be due to a slow or bad network connection. Possible fixes:\\n\"+\n",
              "     \"</p>\\n\"+\n",
              "     \"<ul>\\n\"+\n",
              "     \"<li>re-rerun `output_notebook()` to attempt to load from CDN again, or</li>\\n\"+\n",
              "     \"<li>use INLINE resources instead, as so:</li>\\n\"+\n",
              "     \"</ul>\\n\"+\n",
              "     \"<code>\\n\"+\n",
              "     \"from bokeh.resources import INLINE\\n\"+\n",
              "     \"output_notebook(resources=INLINE)\\n\"+\n",
              "     \"</code>\\n\"+\n",
              "     \"</div>\"}};\n",
              "\n",
              "  function display_loaded() {\n",
              "    var el = document.getElementById(null);\n",
              "    if (el != null) {\n",
              "      el.textContent = \"BokehJS is loading...\";\n",
              "    }\n",
              "    if (root.Bokeh !== undefined) {\n",
              "      if (el != null) {\n",
              "        el.textContent = \"BokehJS \" + root.Bokeh.version + \" successfully loaded.\";\n",
              "      }\n",
              "    } else if (Date.now() < root._bokeh_timeout) {\n",
              "      setTimeout(display_loaded, 100)\n",
              "    }\n",
              "  }\n",
              "\n",
              "\n",
              "  function run_callbacks() {\n",
              "    try {\n",
              "      root._bokeh_onload_callbacks.forEach(function(callback) {\n",
              "        if (callback != null)\n",
              "          callback();\n",
              "      });\n",
              "    } finally {\n",
              "      delete root._bokeh_onload_callbacks\n",
              "    }\n",
              "    console.debug(\"Bokeh: all callbacks have finished\");\n",
              "  }\n",
              "\n",
              "  function load_libs(css_urls, js_urls, callback) {\n",
              "    if (css_urls == null) css_urls = [];\n",
              "    if (js_urls == null) js_urls = [];\n",
              "\n",
              "    root._bokeh_onload_callbacks.push(callback);\n",
              "    if (root._bokeh_is_loading > 0) {\n",
              "      console.debug(\"Bokeh: BokehJS is being loaded, scheduling callback at\", now());\n",
              "      return null;\n",
              "    }\n",
              "    if (js_urls == null || js_urls.length === 0) {\n",
              "      run_callbacks();\n",
              "      return null;\n",
              "    }\n",
              "    console.debug(\"Bokeh: BokehJS not loaded, scheduling load and callback at\", now());\n",
              "    root._bokeh_is_loading = css_urls.length + js_urls.length;\n",
              "\n",
              "    function on_load() {\n",
              "      root._bokeh_is_loading--;\n",
              "      if (root._bokeh_is_loading === 0) {\n",
              "        console.debug(\"Bokeh: all BokehJS libraries/stylesheets loaded\");\n",
              "        run_callbacks()\n",
              "      }\n",
              "    }\n",
              "\n",
              "    function on_error() {\n",
              "      console.error(\"failed to load \" + url);\n",
              "    }\n",
              "\n",
              "    for (var i = 0; i < css_urls.length; i++) {\n",
              "      var url = css_urls[i];\n",
              "      const element = document.createElement(\"link\");\n",
              "      element.onload = on_load;\n",
              "      element.onerror = on_error;\n",
              "      element.rel = \"stylesheet\";\n",
              "      element.type = \"text/css\";\n",
              "      element.href = url;\n",
              "      console.debug(\"Bokeh: injecting link tag for BokehJS stylesheet: \", url);\n",
              "      document.body.appendChild(element);\n",
              "    }\n",
              "\n",
              "    const hashes = {\"https://cdn.bokeh.org/bokeh/release/bokeh-2.1.1.min.js\": \"kLr4fYcqcSpbuI95brIH3vnnYCquzzSxHPU6XGQCIkQRGJwhg0StNbj1eegrHs12\", \"https://cdn.bokeh.org/bokeh/release/bokeh-widgets-2.1.1.min.js\": \"xIGPmVtaOm+z0BqfSOMn4lOR6ciex448GIKG4eE61LsAvmGj48XcMQZtKcE/UXZe\", \"https://cdn.bokeh.org/bokeh/release/bokeh-tables-2.1.1.min.js\": \"Dc9u1wF/0zApGIWoBbH77iWEHtdmkuYWG839Uzmv8y8yBLXebjO9ZnERsde5Ln/P\", \"https://cdn.bokeh.org/bokeh/release/bokeh-gl-2.1.1.min.js\": \"cT9JaBz7GiRXdENrJLZNSC6eMNF3nh3fa5fTF51Svp+ukxPdwcU5kGXGPBgDCa2j\"};\n",
              "\n",
              "    for (var i = 0; i < js_urls.length; i++) {\n",
              "      var url = js_urls[i];\n",
              "      var element = document.createElement('script');\n",
              "      element.onload = on_load;\n",
              "      element.onerror = on_error;\n",
              "      element.async = false;\n",
              "      element.src = url;\n",
              "      if (url in hashes) {\n",
              "        element.crossOrigin = \"anonymous\";\n",
              "        element.integrity = \"sha384-\" + hashes[url];\n",
              "      }\n",
              "      console.debug(\"Bokeh: injecting script tag for BokehJS library: \", url);\n",
              "      document.head.appendChild(element);\n",
              "    }\n",
              "  };\n",
              "\n",
              "  function inject_raw_css(css) {\n",
              "    const element = document.createElement(\"style\");\n",
              "    element.appendChild(document.createTextNode(css));\n",
              "    document.body.appendChild(element);\n",
              "  }\n",
              "\n",
              "  \n",
              "  var js_urls = [\"https://cdn.bokeh.org/bokeh/release/bokeh-2.1.1.min.js\", \"https://cdn.bokeh.org/bokeh/release/bokeh-widgets-2.1.1.min.js\", \"https://cdn.bokeh.org/bokeh/release/bokeh-tables-2.1.1.min.js\", \"https://cdn.bokeh.org/bokeh/release/bokeh-gl-2.1.1.min.js\"];\n",
              "  var css_urls = [];\n",
              "  \n",
              "\n",
              "  var inline_js = [\n",
              "    function(Bokeh) {\n",
              "      Bokeh.set_log_level(\"info\");\n",
              "    },\n",
              "    function(Bokeh) {\n",
              "    \n",
              "    \n",
              "    }\n",
              "  ];\n",
              "\n",
              "  function run_inline_js() {\n",
              "    \n",
              "    if (root.Bokeh !== undefined || force === true) {\n",
              "      \n",
              "    for (var i = 0; i < inline_js.length; i++) {\n",
              "      inline_js[i].call(root, root.Bokeh);\n",
              "    }\n",
              "    } else if (Date.now() < root._bokeh_timeout) {\n",
              "      setTimeout(run_inline_js, 100);\n",
              "    } else if (!root._bokeh_failed_load) {\n",
              "      console.log(\"Bokeh: BokehJS failed to load within specified timeout.\");\n",
              "      root._bokeh_failed_load = true;\n",
              "    } else if (force !== true) {\n",
              "      var cell = $(document.getElementById(null)).parents('.cell').data().cell;\n",
              "      cell.output_area.append_execute_result(NB_LOAD_WARNING)\n",
              "    }\n",
              "\n",
              "  }\n",
              "\n",
              "  if (root._bokeh_is_loading === 0) {\n",
              "    console.debug(\"Bokeh: BokehJS loaded, going straight to plotting\");\n",
              "    run_inline_js();\n",
              "  } else {\n",
              "    load_libs(css_urls, js_urls, function() {\n",
              "      console.debug(\"Bokeh: BokehJS plotting callback run at\", now());\n",
              "      run_inline_js();\n",
              "    });\n",
              "  }\n",
              "}(window));"
            ],
            "application/vnd.bokehjs_load.v0+json": "\n(function(root) {\n  function now() {\n    return new Date();\n  }\n\n  var force = true;\n\n  if (typeof root._bokeh_onload_callbacks === \"undefined\" || force === true) {\n    root._bokeh_onload_callbacks = [];\n    root._bokeh_is_loading = undefined;\n  }\n\n  \n\n  \n  if (typeof (root._bokeh_timeout) === \"undefined\" || force === true) {\n    root._bokeh_timeout = Date.now() + 5000;\n    root._bokeh_failed_load = false;\n  }\n\n  var NB_LOAD_WARNING = {'data': {'text/html':\n     \"<div style='background-color: #fdd'>\\n\"+\n     \"<p>\\n\"+\n     \"BokehJS does not appear to have successfully loaded. If loading BokehJS from CDN, this \\n\"+\n     \"may be due to a slow or bad network connection. Possible fixes:\\n\"+\n     \"</p>\\n\"+\n     \"<ul>\\n\"+\n     \"<li>re-rerun `output_notebook()` to attempt to load from CDN again, or</li>\\n\"+\n     \"<li>use INLINE resources instead, as so:</li>\\n\"+\n     \"</ul>\\n\"+\n     \"<code>\\n\"+\n     \"from bokeh.resources import INLINE\\n\"+\n     \"output_notebook(resources=INLINE)\\n\"+\n     \"</code>\\n\"+\n     \"</div>\"}};\n\n  function display_loaded() {\n    var el = document.getElementById(null);\n    if (el != null) {\n      el.textContent = \"BokehJS is loading...\";\n    }\n    if (root.Bokeh !== undefined) {\n      if (el != null) {\n        el.textContent = \"BokehJS \" + root.Bokeh.version + \" successfully loaded.\";\n      }\n    } else if (Date.now() < root._bokeh_timeout) {\n      setTimeout(display_loaded, 100)\n    }\n  }\n\n\n  function run_callbacks() {\n    try {\n      root._bokeh_onload_callbacks.forEach(function(callback) {\n        if (callback != null)\n          callback();\n      });\n    } finally {\n      delete root._bokeh_onload_callbacks\n    }\n    console.debug(\"Bokeh: all callbacks have finished\");\n  }\n\n  function load_libs(css_urls, js_urls, callback) {\n    if (css_urls == null) css_urls = [];\n    if (js_urls == null) js_urls = [];\n\n    root._bokeh_onload_callbacks.push(callback);\n    if (root._bokeh_is_loading > 0) {\n      console.debug(\"Bokeh: BokehJS is being loaded, scheduling callback at\", now());\n      return null;\n    }\n    if (js_urls == null || js_urls.length === 0) {\n      run_callbacks();\n      return null;\n    }\n    console.debug(\"Bokeh: BokehJS not loaded, scheduling load and callback at\", now());\n    root._bokeh_is_loading = css_urls.length + js_urls.length;\n\n    function on_load() {\n      root._bokeh_is_loading--;\n      if (root._bokeh_is_loading === 0) {\n        console.debug(\"Bokeh: all BokehJS libraries/stylesheets loaded\");\n        run_callbacks()\n      }\n    }\n\n    function on_error() {\n      console.error(\"failed to load \" + url);\n    }\n\n    for (var i = 0; i < css_urls.length; i++) {\n      var url = css_urls[i];\n      const element = document.createElement(\"link\");\n      element.onload = on_load;\n      element.onerror = on_error;\n      element.rel = \"stylesheet\";\n      element.type = \"text/css\";\n      element.href = url;\n      console.debug(\"Bokeh: injecting link tag for BokehJS stylesheet: \", url);\n      document.body.appendChild(element);\n    }\n\n    const hashes = {\"https://cdn.bokeh.org/bokeh/release/bokeh-2.1.1.min.js\": \"kLr4fYcqcSpbuI95brIH3vnnYCquzzSxHPU6XGQCIkQRGJwhg0StNbj1eegrHs12\", \"https://cdn.bokeh.org/bokeh/release/bokeh-widgets-2.1.1.min.js\": \"xIGPmVtaOm+z0BqfSOMn4lOR6ciex448GIKG4eE61LsAvmGj48XcMQZtKcE/UXZe\", \"https://cdn.bokeh.org/bokeh/release/bokeh-tables-2.1.1.min.js\": \"Dc9u1wF/0zApGIWoBbH77iWEHtdmkuYWG839Uzmv8y8yBLXebjO9ZnERsde5Ln/P\", \"https://cdn.bokeh.org/bokeh/release/bokeh-gl-2.1.1.min.js\": \"cT9JaBz7GiRXdENrJLZNSC6eMNF3nh3fa5fTF51Svp+ukxPdwcU5kGXGPBgDCa2j\"};\n\n    for (var i = 0; i < js_urls.length; i++) {\n      var url = js_urls[i];\n      var element = document.createElement('script');\n      element.onload = on_load;\n      element.onerror = on_error;\n      element.async = false;\n      element.src = url;\n      if (url in hashes) {\n        element.crossOrigin = \"anonymous\";\n        element.integrity = \"sha384-\" + hashes[url];\n      }\n      console.debug(\"Bokeh: injecting script tag for BokehJS library: \", url);\n      document.head.appendChild(element);\n    }\n  };\n\n  function inject_raw_css(css) {\n    const element = document.createElement(\"style\");\n    element.appendChild(document.createTextNode(css));\n    document.body.appendChild(element);\n  }\n\n  \n  var js_urls = [\"https://cdn.bokeh.org/bokeh/release/bokeh-2.1.1.min.js\", \"https://cdn.bokeh.org/bokeh/release/bokeh-widgets-2.1.1.min.js\", \"https://cdn.bokeh.org/bokeh/release/bokeh-tables-2.1.1.min.js\", \"https://cdn.bokeh.org/bokeh/release/bokeh-gl-2.1.1.min.js\"];\n  var css_urls = [];\n  \n\n  var inline_js = [\n    function(Bokeh) {\n      Bokeh.set_log_level(\"info\");\n    },\n    function(Bokeh) {\n    \n    \n    }\n  ];\n\n  function run_inline_js() {\n    \n    if (root.Bokeh !== undefined || force === true) {\n      \n    for (var i = 0; i < inline_js.length; i++) {\n      inline_js[i].call(root, root.Bokeh);\n    }\n    } else if (Date.now() < root._bokeh_timeout) {\n      setTimeout(run_inline_js, 100);\n    } else if (!root._bokeh_failed_load) {\n      console.log(\"Bokeh: BokehJS failed to load within specified timeout.\");\n      root._bokeh_failed_load = true;\n    } else if (force !== true) {\n      var cell = $(document.getElementById(null)).parents('.cell').data().cell;\n      cell.output_area.append_execute_result(NB_LOAD_WARNING)\n    }\n\n  }\n\n  if (root._bokeh_is_loading === 0) {\n    console.debug(\"Bokeh: BokehJS loaded, going straight to plotting\");\n    run_inline_js();\n  } else {\n    load_libs(css_urls, js_urls, function() {\n      console.debug(\"Bokeh: BokehJS plotting callback run at\", now());\n      run_inline_js();\n    });\n  }\n}(window));"
          },
          "metadata": {
            "tags": []
          }
        },
        {
          "output_type": "display_data",
          "data": {
            "text/html": [
              "\n",
              "\n",
              "\n",
              "\n",
              "\n",
              "\n",
              "  <div class=\"bk-root\" id=\"0e5ff6fd-5cf8-45d4-94ad-7e6c9c765d8d\" data-root-id=\"1100\"></div>\n"
            ]
          },
          "metadata": {
            "tags": []
          }
        },
        {
          "output_type": "display_data",
          "data": {
            "application/javascript": [
              "(function(root) {\n",
              "  function embed_document(root) {\n",
              "    \n",
              "  var docs_json = {\"61d079cb-a837-4f04-b4e6-6e053d4d9ec4\":{\"roots\":{\"references\":[{\"attributes\":{\"below\":[{\"id\":\"1109\"}],\"center\":[{\"id\":\"1112\"},{\"id\":\"1116\"}],\"left\":[{\"id\":\"1113\"}],\"plot_height\":800,\"plot_width\":800,\"renderers\":[{\"id\":\"1134\"}],\"title\":{\"id\":\"1145\"},\"toolbar\":{\"id\":\"1124\"},\"x_range\":{\"id\":\"1101\"},\"x_scale\":{\"id\":\"1105\"},\"y_range\":{\"id\":\"1103\"},\"y_scale\":{\"id\":\"1107\"}},\"id\":\"1100\",\"subtype\":\"Figure\",\"type\":\"Plot\"},{\"attributes\":{},\"id\":\"1103\",\"type\":\"DataRange1d\"},{\"attributes\":{},\"id\":\"1120\",\"type\":\"SaveTool\"},{\"attributes\":{\"formatter\":{\"id\":\"1149\"},\"ticker\":{\"id\":\"1110\"}},\"id\":\"1109\",\"type\":\"LinearAxis\"},{\"attributes\":{\"data\":{\"text\":[\"kennel\",\"chased\",\"Fanny\",\"gallantry\",\"perturbations\",\"Surry\",\"badgers\",\"cent\",\"City\",\"bonnets\",\"Typhoon\",\"sleepy\",\"framed\",\"pitchers\",\"Buy\",\"convincing\",\"interesting\",\"incense\",\"tin\",\"fur\",\"refreshing\",\"tending\",\"Whitwell\",\"prepared\",\"divisions\",\"sombre\",\"communication\",\"extra\",\"Table\",\"tigers\",\"betraying\",\"soon\",\"bored\",\"parallelogram\",\"Bathsheba\",\"patient\",\"Ford\",\"permit\",\"decked\",\"resistance\",\"highly\",\"EVEN\",\"book\",\"Lodge\",\"implied\",\"reaches\",\"brakest\",\"flank\",\"Hayter\",\"these\",\"deliver\",\"demure\",\"Venetian\",\"Shadrach\",\"thrones\",\"peculiarities\",\"arisen\",\"difference\",\"snorting\",\"audacity\",\"England\",\"Hall\",\"devoured\",\"seeing\",\"ascent\",\"circuit\",\"Madeleine\",\"celestial\",\"prythee\",\"average\",\"blot\",\"deepest\",\"Hearts\",\"freedom\",\"Letters\",\"alloy\",\"effectual\",\"writer\",\"hunger\",\"traffick\",\"stir\",\"welcome\",\"north\",\"deception\",\"imagined\",\"message\",\"deference\",\"tempted\",\"Behind\",\"clung\",\"decision\",\"--\",\"Grand\",\"72\",\"hinges\",\"deserted\",\"pomegranate\",\"dimness\",\"harpers\",\"sociable\",\"While\",\"shawl\",\"brethren\",\"box\",\"hearing\",\"Around\",\"cherry\",\"thieves\",\"wounding\",\"incidentally\",\"pirate\",\"Anak\",\"rump\",\"deacons\",\"grope\",\"obliging\",\"assumed\",\"bearest\",\"divideth\",\"muzzles\",\"widowhood\",\"decide\",\"biggest\",\"augment\",\"variations\",\"Didst\",\"get\",\"proposal\",\"sums\",\"soft\",\"ordered\",\"exactness\",\"peece\",\"official\",\"build\",\"sick\",\"Benhadad\",\"Rehum\",\"humorously\",\"land\",\"aforetime\",\"thrift\",\"imprisonment\",\"fetched\",\"sir\",\"assuming\",\"loose\",\"bounds\",\"measur\",\"detest\",\"anatomy\",\"cells\",\"internal\",\"achieved\",\"impress\",\"worshippeth\",\"Gezer\",\"betrothed\",\"Fathers\",\"arrested\",\"Buster\",\"Lark\",\"Southern\",\"Hermon\",\"redeemer\",\"Henceforth\",\"plans\",\"five\",\"Neill\",\"tides\",\"anybody\",\"haue\",\"tangle\",\"silver\",\"weighing\",\"Because\",\"Betwixt\",\"prose\",\"hymn\",\"exposure\",\"hating\",\"Artaxerxes\",\"beware\",\"seat\",\"parallel\",\"cloths\",\"fade\",\"spinal\",\"dye\",\"pike\",\"tenderness\",\"regards\",\"Dormouse\",\"stayed\",\"humours\",\"annual\",\"instructions\",\"uproar\",\"applied\",\"fringes\",\"President\",\"shade\",\"cometh\",\"When\",\"garlands\",\"writhed\",\"Thumb\",\"sweeper\",\"Straits\",\"intolerably\",\"request\",\"sprung\",\"size\",\"apothecary\",\"acknowledging\",\"pointedly\",\"presse\",\"visits\",\"Whale\",\"naval\",\"largely\",\"foreseen\",\"visual\",\"ripe\",\"brotherhood\",\"razor\",\"dash\",\"declaring\",\"couldst\",\"summons\",\"incalculable\",\"beholding\",\"meets\",\"prouder\",\"neat\",\"delicacies\",\"force\",\"slay\",\"passionately\",\"gay\",\"pilots\",\"dragging\",\"foure\",\"sorrows\",\"consequent\",\"Send\",\"excel\",\"predestinated\",\"Thrice\",\"sufficiency\",\"Missouri\",\"conquered\",\"aileth\",\"dazzling\",\"recurring\",\"paradise\",\"chariot\",\"sweetness\",\"soldiers\",\"forbade\",\"colours\",\"shoals\",\"punishment\",\"cocoa\",\"dominions\",\"disposition\",\"appointed\",\"Barn\",\"Gryphon\",\"hewers\",\"defer\",\"sideways\",\"ash\",\"elect\",\"lavish\",\"emerged\",\"obstinate\",\"detained\",\"cheap\",\"liveliness\",\"laburnum\",\"brim\",\"discouraged\",\"corruption\",\"raced\",\"sharply\",\"briers\",\"Esther\",\"showing\",\"asleepe\",\"Sweare\",\"throbbing\",\"kinds\",\"General\",\"leeward\",\"custom\",\"exalted\",\"twisted\",\"double\",\"Trade\",\"gallows\",\"eidolons\",\"kissing\",\"Gedaliah\",\"blooded\",\"retribution\",\"congratulate\",\"irritable\",\"magnificent\",\"streamed\",\"forcibly\",\"rifle\",\"directions\",\"needlework\",\"to\",\"Ratcliffe\",\"guarding\",\"drooping\",\").--\",\".)\",\"summer\",\"bells\",\"rumble\",\"designated\",\"alas\",\"weighed\",\"bind\",\"vigilant\",\"meal\",\"Giue\",\"hoisted\",\"lordship\",\"reproach\",\"Cross\",\"Zidon\",\"malicious\",\"spasm\",\"bulwarks\",\"straps\",\"prone\",\"wedge\",\"Heidelburgh\",\"screen\",\"Spirit\",\"orders\",\"librarian\",\"Thick\",\"banish\",\"dazed\",\"worldly\",\"improve\",\"check\",\"picked\",\"mightily\",\"emboldened\",\"ringing\",\",\\\"--\",\"deare\",\"dawn\",\"tambourine\",\"giue\",\"Hatter\",\"unheeded\",\"inure\",\"re\",\"sitteth\",\"strode\",\"clash\",\"evening\",\"scolding\",\"Ride\",\"tasted\",\"oaken\",\"quiver\",\"forecastle\",\"80\",\"torrents\",\"Hor\",\"lightly\",\"pleasures\",\"offing\",\"really\",\"--(\",\"sequel\",\"prospered\",\"Blacky\",\"tune\",\"supple\",\"collapsed\",\"Isaiah\",\"enchantment\",\"abilities\",\"Jehoram\",\"feather\",\"shaft\",\"tempered\",\"Young\",\"symptom\",\"toils\",\"pitching\",\"Sixteen\",\"worried\",\"shouting\",\"grace\",\"smote\",\"barbarian\",\"portly\",\"Birds\",\"Foole\",\"62\",\"holy\",\"Custome\",\"noticed\",\"fruits\",\"deceive\",\"patron\",\"elated\",\"mammy\",\"Majesty\",\"149\",\"mask\",\"meaningless\",\"rice\",\"squalid\",\"vest\",\"of\",\"tun\",\"GREAT\",\"actually\",\"necessarily\",\"planet\",\"exquisitely\",\"drift\",\"threes\",\"presenting\",\"Although\",\"remarkably\",\"Nehemiah\",\"persecutor\",\"mortifying\",\"apparition\",\"believe\",\"thus\",\"candles\",\"insist\",\"fasted\",\"emperor\",\"compacted\",\"impression\",\"gorge\",\"sawest\",\"Society\",\"Betsy\",\"rounded\",\"West\",\"Hand\",\"shrieks\",\"vial\",\"statutes\",\"hither\",\"Pretty\",\"prostrate\",\"value\",\"Sweepstakes\",\"upper\",\"rendered\",\"witnessing\",\"Mary\",\"blesseth\",\"camps\",\"jingle\",\"fat\",\"partially\",\"Zin\",\"pockets\",\"tulip\",\"recalled\",\"studious\",\"Circus\",\"Come\",\"Winde\",\"continent\",\"78\",\"Tahath\",\"minister\",\"Otto\",\"among\",\"abstinence\",\"schoolmaster\",\"spoutings\",\"secondly\",\"read\",\"leaky\",\"Tom\",\"intends\",\"survey\",\"declare\",\"Evil\",\"gruel\",\"counselled\",\"denying\",\"grounded\",\"Padanaram\",\"monster\",\"Gertrude\",\"relied\",\"Union\",\"Adonijah\",\"reproacheth\",\"Scotland\",\"copies\",\"goodness\",\"wouldst\",\"applications\",\"seuerall\",\"dimensions\",\"Iron\",\"hesitate\",\"Joiarib\",\"commandeth\",\"49\",\"puzzled\",\"control\",\"birthright\",\"untie\",\"nailed\",\"furnish\",\"wouldn\",\"Aholibamah\",\"glisten\",\"realm\",\"households\",\"clap\",\"inlaid\",\"odorous\",\"defeated\",\"elephants\",\"figure\",\"bandaged\",\"musket\",\"prou\",\"loggerhead\",\"Jehiel\",\"matter\",\"weak\",\"guests\",\"emulous\",\"Cap\",\"115\",\"bride\",\"mice\",\"Deliver\",\"cleansing\",\"Manilla\",\"reverse\",\"patched\",\"Har\",\"philosophic\",\"vanishing\",\"tillage\",\"involuntary\",\"Amalekites\",\"worship\",\"vein\",\"accusation\",\"gourd\",\"magpie\",\"grain\",\"rounding\",\"approach\",\"necessity\",\"About\",\"Miss\",\"dawned\",\"feudal\",\"exploded\",\"***\",\"tap\",\"Order\",\"knives\",\"harlots\",\"drifted\",\"superiority\",\"47\",\"queen\",\"Achor\",\"readers\",\"Cause\",\"evolution\",\"oh\",\"gentlemanlike\",\"honesty\",\"blended\",\"III\",\"await\",\"Fox\",\"Any\",\"entreat\",\"Zuar\",\"feare\",\"condolence\",\"musick\",\"pupil\",\"unattended\",\"Pleased\",\"velocity\",\"scaffold\",\"disgusted\",\"Dawlish\",\"retort\",\"provocation\",\"reconciliation\",\"contrary\",\"fellows\",\"forests\",\"hands\",\"enclose\",\"Body\",\"Number\",\"spoiled\",\"creamy\",\"miscellaneous\",\"mou\",\"poisoned\",\"steadiness\",\"Sent\",\"where\",\"tube\",\"alien\",\"_very_\",\"signet\",\"wider\",\"142\",\"duped\",\"vapours\",\"faster\",\"warriors\",\"boldness\",\"Nation\",\"defileth\",\"bounty\",\"attitude\",\"strengthen\",\"Start\",\"volley\",\"gripped\",\"tormented\",\"dilate\",\"drest\",\"keepeth\",\"whereof\",\"spacious\",\"affection\",\"brighter\",\"distinct\",\"ruleth\",\"unaffected\",\"lazy\",\"so\",\"skirts\",\"leads\",\"burning\",\"wine\",\"contrive\",\"HE\",\"';\",\"legal\",\"cage\",\"beast\",\"Barton\",\"falsehood\",\"dedicate\",\"occur\",\"whereon\",\"shewbread\",\"intimate\",\"searching\",\"Cinna\",\"skeleton\",\"vane\",\"loves\",\"weary\",\"excite\",\"promised\",\"jewelled\",\"Stern\",\"Zerah\",\"bellies\",\"dumbe\",\"painfully\",\"requires\",\"sharper\",\"rag\",\"innocency\",\"Fish\",\"MR\",\"flannel\",\"courtesy\",\"War\",\"sepulchres\",\"ranke\",\"tempers\",\"towing\",\"Perfume\",\"Leah\",\"bestow\",\"Dalroy\",\"Duly\",\"r\",\"casually\",\"Say\",\"Eustache\",\"zealous\",\"slily\",\"rack\",\"garnished\",\"inspiration\",\"ancestors\",\"campaign\",\"Elihu\",\"flow\",\"regarding\",\"author\",\"responding\",\"blest\",\"Witches\",\"tackles\",\"confidentially\",\"faintly\",\"penitence\",\"sacrifice\",\"itself\",\"So\",\"steer\",\"Nebat\",\"around\",\"Marcellus\",\"bend\",\"Vnto\",\"shoulders\",\"lunacy\",\"Neuer\",\"feature\",\"estimated\",\"harpooned\",\"Dinah\",\"vse\",\"joints\",\"wakened\",\"forbidden\",\"Answerest\",\"ahead\",\"Raise\",\"unequal\",\"Pekah\",\"loathsome\",\"Jimmy\",\"butterfly\",\"Walt\",\"agony\",\"rob\",\"shutter\",\"bubble\",\"reduced\",\"Libertad\",\"waken\",\"unbearable\",\"heaped\",\"valiant\",\"depths\",\"sucked\",\"Rome\",\"handles\",\"Us\",\"circumference\",\"unwilling\",\"ene\",\"service\",\"riseth\",\"adulteries\",\"Sub\",\"prophecy\",\"replaced\",\"publicity\",\"sheep\",\"Stars\",\"playhouse\",\"murmur\",\"particle\",\"overlooked\",\";'\",\"Kirjatharba\",\"lashing\",\"omnibus\",\"drivers\",\"Harvey\",\"pear\",\"contemptible\",\"direful\",\"solely\",\"spiritually\",\"rot\",\"destination\",\"meere\",\"incurable\",\"mocking\",\"political\",\"hat\",\"cheeks\",\"enjoyments\",\"haggard\",\"baffled\",\"groaned\",\"Turn\",\"skill\",\"left\",\"meetings\",\"Feast\",\"caprice\",\"reeds\",\"baleen\",\"cheery\",\"navy\",\"beholdest\",\"Family\",\"tails\",\"commit\",\"Japhia\",\"pies\",\"organ\",\"shittim\",\"contrivance\",\"J\",\"playing\",\"rise\",\"recollect\",\"malignant\",\"ventured\",\"philosophical\",\"rational\",\"covert\",\"acquitted\",\"gasp\",\"terrestrial\",\"conjuring\",\"Masse\",\"clustering\",\"cupboard\",\"sallow\",\"mete\",\"Matter\",\"extasie\",\"carpenter\",\"vivid\",\"saue\",\"whomsoever\",\"pursued\",\"blessing\",\"Foyles\",\"new\",\"saluted\",\"Beeroth\",\"inducement\",\"Steady\",\"scissors\",\"could\",\"timbers\",\"noon\",\"weepe\",\"Project\",\"romance\",\"Middle\",\"Pool\",\"tray\",\"testifieth\",\"Elath\",\"backs\",\"occupation\",\"Oxford\",\"pitying\",\"Donwell\",\"seeking\",\"aches\",\"paved\",\"Beat\",\"Cox\",\"debtors\",\"engagements\",\"rend\",\"gospel\",\"rebelled\",\"Chase\",\"posterity\",\"hourly\",\"minutely\",\"trophies\",\"there\",\"rumbling\",\"ceiling\",\"bell\",\"utterly\",\"audacious\",\"lowly\",\"institution\",\"dissatisfied\",\"carry\",\"thinking\",\"hospital\",\"paines\",\"Our\",\"Victor\",\"accommodation\",\"pit\",\"nature\",\"price\",\"Islands\",\"stays\",\"mystic\",\"Denmarke\",\"early\",\"may\",\"Knock\",\"private\",\"belief\",\"deceitful\",\"populous\",\"protesting\",\"weakness\",\"Iulius\",\"entreated\",\"composing\",\"indirect\",\"disagree\",\"ope\",\"chewed\",\"exhorting\",\"heareth\",\"uniform\",\"meteors\",\"mid\",\"sullen\",\"eventide\",\"non\",\"nasty\",\"unhappiness\",\"stores\",\"packing\",\"slander\",\"Twice\",\"narrowly\",\"materially\",\"youths\",\"first\",\"shattering\",\"Decius\",\"brawny\",\"increased\",\"obtaining\",\"garb\",\"HAS\",\"imaginative\",\"pleas\",\"Hovering\",\"Macd\",\"clapping\",\"affairs\",\"Ludgate\",\"carve\",\"minds\",\"Bartlett\",\"magnitude\",\"Shem\",\"tents\",\"leper\",\"mincer\",\"Ebal\",\"permanent\",\"hurried\",\"faultless\",\"uttered\",\"fights\",\"deplorable\",\"Point\",\"busied\",\"teares\",\"bask\",\"shops\",\"hemm\",\"insulted\",\"Starre\",\"theirs\",\"mediaeval\",\"dale\",\"Indies\",\"sorely\",\"ravished\",\"Tyrus\",\"preserveth\",\"tattooed\",\"Sold\"],\"x\":{\"__ndarray__\":\"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\",\"dtype\":\"float32\",\"order\":\"little\",\"shape\":[1000]},\"y\":{\"__ndarray__\":\"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\",\"dtype\":\"float32\",\"order\":\"little\",\"shape\":[1000]}},\"selected\":{\"id\":\"1153\"},\"selection_policy\":{\"id\":\"1152\"}},\"id\":\"1131\",\"type\":\"ColumnDataSource\"},{\"attributes\":{\"bottom_units\":\"screen\",\"fill_alpha\":0.5,\"fill_color\":\"lightgrey\",\"left_units\":\"screen\",\"level\":\"overlay\",\"line_alpha\":1.0,\"line_color\":\"black\",\"line_dash\":[4,4],\"line_width\":2,\"right_units\":\"screen\",\"top_units\":\"screen\"},\"id\":\"1123\",\"type\":\"BoxAnnotation\"},{\"attributes\":{\"source\":{\"id\":\"1131\"}},\"id\":\"1135\",\"type\":\"CDSView\"},{\"attributes\":{},\"id\":\"1101\",\"type\":\"DataRange1d\"},{\"attributes\":{\"overlay\":{\"id\":\"1123\"}},\"id\":\"1119\",\"type\":\"BoxZoomTool\"},{\"attributes\":{\"axis\":{\"id\":\"1109\"},\"ticker\":null},\"id\":\"1112\",\"type\":\"Grid\"},{\"attributes\":{\"axis\":{\"id\":\"1113\"},\"dimension\":1,\"ticker\":null},\"id\":\"1116\",\"type\":\"Grid\"},{\"attributes\":{},\"id\":\"1110\",\"type\":\"BasicTicker\"},{\"attributes\":{\"text_alpha\":{\"value\":0.1},\"text_color\":{\"value\":\"black\"},\"x\":{\"field\":\"x\"},\"y\":{\"field\":\"y\"}},\"id\":\"1133\",\"type\":\"Text\"},{\"attributes\":{},\"id\":\"1121\",\"type\":\"ResetTool\"},{\"attributes\":{\"text_color\":{\"value\":\"black\"},\"x\":{\"field\":\"x\"},\"y\":{\"field\":\"y\"}},\"id\":\"1132\",\"type\":\"Text\"},{\"attributes\":{\"active_drag\":\"auto\",\"active_inspect\":\"auto\",\"active_multi\":null,\"active_scroll\":\"auto\",\"active_tap\":\"auto\",\"tools\":[{\"id\":\"1117\"},{\"id\":\"1118\"},{\"id\":\"1119\"},{\"id\":\"1120\"},{\"id\":\"1121\"},{\"id\":\"1122\"}]},\"id\":\"1124\",\"type\":\"Toolbar\"},{\"attributes\":{},\"id\":\"1105\",\"type\":\"LinearScale\"},{\"attributes\":{},\"id\":\"1122\",\"type\":\"HelpTool\"},{\"attributes\":{\"text\":\"\"},\"id\":\"1145\",\"type\":\"Title\"},{\"attributes\":{},\"id\":\"1114\",\"type\":\"BasicTicker\"},{\"attributes\":{},\"id\":\"1118\",\"type\":\"WheelZoomTool\"},{\"attributes\":{},\"id\":\"1107\",\"type\":\"LinearScale\"},{\"attributes\":{\"formatter\":{\"id\":\"1147\"},\"ticker\":{\"id\":\"1114\"}},\"id\":\"1113\",\"type\":\"LinearAxis\"},{\"attributes\":{},\"id\":\"1153\",\"type\":\"Selection\"},{\"attributes\":{},\"id\":\"1117\",\"type\":\"PanTool\"},{\"attributes\":{},\"id\":\"1152\",\"type\":\"UnionRenderers\"},{\"attributes\":{},\"id\":\"1149\",\"type\":\"BasicTickFormatter\"},{\"attributes\":{\"data_source\":{\"id\":\"1131\"},\"glyph\":{\"id\":\"1132\"},\"hover_glyph\":null,\"muted_glyph\":null,\"nonselection_glyph\":{\"id\":\"1133\"},\"selection_glyph\":null,\"view\":{\"id\":\"1135\"}},\"id\":\"1134\",\"type\":\"GlyphRenderer\"},{\"attributes\":{},\"id\":\"1147\",\"type\":\"BasicTickFormatter\"}],\"root_ids\":[\"1100\"]},\"title\":\"Bokeh Application\",\"version\":\"2.1.1\"}};\n",
              "  var render_items = [{\"docid\":\"61d079cb-a837-4f04-b4e6-6e053d4d9ec4\",\"root_ids\":[\"1100\"],\"roots\":{\"1100\":\"0e5ff6fd-5cf8-45d4-94ad-7e6c9c765d8d\"}}];\n",
              "  root.Bokeh.embed.embed_items_notebook(docs_json, render_items);\n",
              "\n",
              "  }\n",
              "  if (root.Bokeh !== undefined) {\n",
              "    embed_document(root);\n",
              "  } else {\n",
              "    var attempts = 0;\n",
              "    var timer = setInterval(function(root) {\n",
              "      if (root.Bokeh !== undefined) {\n",
              "        clearInterval(timer);\n",
              "        embed_document(root);\n",
              "      } else {\n",
              "        attempts++;\n",
              "        if (attempts > 100) {\n",
              "          clearInterval(timer);\n",
              "          console.log(\"Bokeh: ERROR: Unable to run BokehJS code because BokehJS library is missing\");\n",
              "        }\n",
              "      }\n",
              "    }, 10, root)\n",
              "  }\n",
              "})(window);"
            ],
            "application/vnd.bokehjs_exec.v0+json": ""
          },
          "metadata": {
            "tags": [],
            "application/vnd.bokehjs_exec.v0+json": {
              "id": "1100"
            }
          }
        }
      ]
    },
    {
      "cell_type": "code",
      "metadata": {
        "id": "p3C3AOkXf9eO"
      },
      "source": [
        ""
      ],
      "execution_count": null,
      "outputs": []
    }
  ]
}