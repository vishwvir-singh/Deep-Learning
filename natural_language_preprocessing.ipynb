{
  "nbformat": 4,
  "nbformat_minor": 0,
  "metadata": {
    "colab": {
      "name": "natural_language_preprocessing.ipynb",
      "provenance": [],
      "collapsed_sections": [],
      "authorship_tag": "ABX9TyNOjqPShMZuZ0bUbnP4X54W",
      "include_colab_link": true
    },
    "kernelspec": {
      "name": "python3",
      "display_name": "Python 3"
    },
    "accelerator": "GPU"
  },
  "cells": [
    {
      "cell_type": "markdown",
      "metadata": {
        "id": "view-in-github",
        "colab_type": "text"
      },
      "source": [
        "<a href=\"https://colab.research.google.com/github/vishwvir-singh/DeepLearningForNLP/blob/main/natural_language_preprocessing.ipynb\" target=\"_parent\"><img src=\"https://colab.research.google.com/assets/colab-badge.svg\" alt=\"Open In Colab\"/></a>"
      ]
    },
    {
      "cell_type": "markdown",
      "metadata": {
        "id": "pWBR07E_W-MH"
      },
      "source": [
        "**Preprocessing**\n",
        "\n",
        "1.   Tokenizations\n",
        "2.   To Lower case (Vishwvir -> vishwvir)\n",
        "3.   Remove Stopwords\n",
        "4.   Remove Punctuations\n",
        "5.   Stemming or Lemmatization\n",
        "6.   Handle n-grams ([vishwvir, singh] -> bigram -> [vishwvir_singh])"
      ]
    },
    {
      "cell_type": "code",
      "metadata": {
        "id": "rKwTgFiNXmXn",
        "colab": {
          "base_uri": "https://localhost:8080/"
        },
        "outputId": "ca4f6e02-e530-47c4-cb90-d9c8b75319aa"
      },
      "source": [
        "import nltk\n",
        "from nltk import word_tokenize, sent_tokenize\n",
        "from nltk.stem.porter import *\n",
        "from nltk.corpus import gutenberg, stopwords\n",
        "nltk.download('punkt')\n",
        "nltk.download('gutenberg')\n",
        "nltk.download('stopwords')\n",
        "\n",
        "import string\n",
        "\n",
        "import spacy\n",
        "\n",
        "import gensim\n",
        "from gensim.models.word2vec import Word2Vec\n",
        "from gensim.models.phrases import Phraser, Phrases\n",
        "\n",
        "import sklearn\n",
        "from sklearn.manifold import TSNE\n",
        "\n",
        "import pandas as pd\n",
        "from bokeh.io import output_notebook\n",
        "from bokeh.plotting import figure, show"
      ],
      "execution_count": 1,
      "outputs": [
        {
          "output_type": "stream",
          "text": [
            "[nltk_data] Downloading package punkt to /root/nltk_data...\n",
            "[nltk_data]   Unzipping tokenizers/punkt.zip.\n",
            "[nltk_data] Downloading package gutenberg to /root/nltk_data...\n",
            "[nltk_data]   Unzipping corpora/gutenberg.zip.\n",
            "[nltk_data] Downloading package stopwords to /root/nltk_data...\n",
            "[nltk_data]   Unzipping corpora/stopwords.zip.\n"
          ],
          "name": "stdout"
        }
      ]
    },
    {
      "cell_type": "code",
      "metadata": {
        "id": "5Clz7M9kd7qF"
      },
      "source": [
        "gberg_sents = gutenberg.sents()"
      ],
      "execution_count": 2,
      "outputs": []
    },
    {
      "cell_type": "code",
      "metadata": {
        "colab": {
          "base_uri": "https://localhost:8080/"
        },
        "id": "jVTnfU9bVjhu",
        "outputId": "307e025e-7c86-44f5-e3b1-59a369dc16a9"
      },
      "source": [
        "#Example of each\n",
        "#1. Tokenization\n",
        "\n",
        "#using nltk\n",
        "print('a sentence :', gutenberg.raw()[:289])\n",
        "print('sentence token: ', sent_tokenize(gutenberg.raw()[:289]))\n",
        "print('word token: ', word_tokenize(sent_tokenize(gutenberg.raw()[:289])[0]))"
      ],
      "execution_count": 3,
      "outputs": [
        {
          "output_type": "stream",
          "text": [
            "a sentence : [Emma by Jane Austen 1816]\n",
            "\n",
            "VOLUME I\n",
            "\n",
            "CHAPTER I\n",
            "\n",
            "\n",
            "Emma Woodhouse, handsome, clever, and rich, with a comfortable home\n",
            "and happy disposition, seemed to unite some of the best blessings\n",
            "of existence; and had lived nearly twenty-one years in the world\n",
            "with very little to distress or vex her.\n",
            "sentence token:  ['[Emma by Jane Austen 1816]\\n\\nVOLUME I\\n\\nCHAPTER I\\n\\n\\nEmma Woodhouse, handsome, clever, and rich, with a comfortable home\\nand happy disposition, seemed to unite some of the best blessings\\nof existence; and had lived nearly twenty-one years in the world\\nwith very little to distress or vex her.']\n",
            "word token:  ['[', 'Emma', 'by', 'Jane', 'Austen', '1816', ']', 'VOLUME', 'I', 'CHAPTER', 'I', 'Emma', 'Woodhouse', ',', 'handsome', ',', 'clever', ',', 'and', 'rich', ',', 'with', 'a', 'comfortable', 'home', 'and', 'happy', 'disposition', ',', 'seemed', 'to', 'unite', 'some', 'of', 'the', 'best', 'blessings', 'of', 'existence', ';', 'and', 'had', 'lived', 'nearly', 'twenty-one', 'years', 'in', 'the', 'world', 'with', 'very', 'little', 'to', 'distress', 'or', 'vex', 'her', '.']\n"
          ],
          "name": "stdout"
        }
      ]
    },
    {
      "cell_type": "code",
      "metadata": {
        "colab": {
          "base_uri": "https://localhost:8080/"
        },
        "id": "YM4Lljizivt5",
        "outputId": "79b364d3-a7d2-4ae3-8fbc-861c1ad9d175"
      },
      "source": [
        "#2. To Lowercase\n",
        "\n",
        "gberg_sent_4 = [word.lower() for word in gberg_sents[4]]\n",
        "print(gberg_sent_4)"
      ],
      "execution_count": 4,
      "outputs": [
        {
          "output_type": "stream",
          "text": [
            "['she', 'was', 'the', 'youngest', 'of', 'the', 'two', 'daughters', 'of', 'a', 'most', 'affectionate', ',', 'indulgent', 'father', ';', 'and', 'had', ',', 'in', 'consequence', 'of', 'her', 'sister', \"'\", 's', 'marriage', ',', 'been', 'mistress', 'of', 'his', 'house', 'from', 'a', 'very', 'early', 'period', '.']\n"
          ],
          "name": "stdout"
        }
      ]
    },
    {
      "cell_type": "code",
      "metadata": {
        "colab": {
          "base_uri": "https://localhost:8080/"
        },
        "id": "iXALhGw_qQXg",
        "outputId": "0df0805d-1693-4366-af5f-15bd1a40e6c8"
      },
      "source": [
        "#3 & 4. Remove Stopwords and Punctuations\n",
        "\n",
        "stpwords = stopwords.words('english') + list(string.punctuation)\n",
        "print(stpwords)"
      ],
      "execution_count": 5,
      "outputs": [
        {
          "output_type": "stream",
          "text": [
            "['i', 'me', 'my', 'myself', 'we', 'our', 'ours', 'ourselves', 'you', \"you're\", \"you've\", \"you'll\", \"you'd\", 'your', 'yours', 'yourself', 'yourselves', 'he', 'him', 'his', 'himself', 'she', \"she's\", 'her', 'hers', 'herself', 'it', \"it's\", 'its', 'itself', 'they', 'them', 'their', 'theirs', 'themselves', 'what', 'which', 'who', 'whom', 'this', 'that', \"that'll\", 'these', 'those', 'am', 'is', 'are', 'was', 'were', 'be', 'been', 'being', 'have', 'has', 'had', 'having', 'do', 'does', 'did', 'doing', 'a', 'an', 'the', 'and', 'but', 'if', 'or', 'because', 'as', 'until', 'while', 'of', 'at', 'by', 'for', 'with', 'about', 'against', 'between', 'into', 'through', 'during', 'before', 'after', 'above', 'below', 'to', 'from', 'up', 'down', 'in', 'out', 'on', 'off', 'over', 'under', 'again', 'further', 'then', 'once', 'here', 'there', 'when', 'where', 'why', 'how', 'all', 'any', 'both', 'each', 'few', 'more', 'most', 'other', 'some', 'such', 'no', 'nor', 'not', 'only', 'own', 'same', 'so', 'than', 'too', 'very', 's', 't', 'can', 'will', 'just', 'don', \"don't\", 'should', \"should've\", 'now', 'd', 'll', 'm', 'o', 're', 've', 'y', 'ain', 'aren', \"aren't\", 'couldn', \"couldn't\", 'didn', \"didn't\", 'doesn', \"doesn't\", 'hadn', \"hadn't\", 'hasn', \"hasn't\", 'haven', \"haven't\", 'isn', \"isn't\", 'ma', 'mightn', \"mightn't\", 'mustn', \"mustn't\", 'needn', \"needn't\", 'shan', \"shan't\", 'shouldn', \"shouldn't\", 'wasn', \"wasn't\", 'weren', \"weren't\", 'won', \"won't\", 'wouldn', \"wouldn't\", '!', '\"', '#', '$', '%', '&', \"'\", '(', ')', '*', '+', ',', '-', '.', '/', ':', ';', '<', '=', '>', '?', '@', '[', '\\\\', ']', '^', '_', '`', '{', '|', '}', '~']\n"
          ],
          "name": "stdout"
        }
      ]
    },
    {
      "cell_type": "code",
      "metadata": {
        "colab": {
          "base_uri": "https://localhost:8080/"
        },
        "id": "z_26SB0wrTVl",
        "outputId": "a82e0d82-e25a-40eb-9351-ac1ca7eaa53a"
      },
      "source": [
        "gberg_sent_4 = [word for word in gberg_sent_4 if word not in stpwords]\n",
        "print(gberg_sent_4)"
      ],
      "execution_count": 6,
      "outputs": [
        {
          "output_type": "stream",
          "text": [
            "['youngest', 'two', 'daughters', 'affectionate', 'indulgent', 'father', 'consequence', 'sister', 'marriage', 'mistress', 'house', 'early', 'period']\n"
          ],
          "name": "stdout"
        }
      ]
    },
    {
      "cell_type": "code",
      "metadata": {
        "id": "Q8aggtC_s8wP"
      },
      "source": [
        "#5. Apply Stemming\n",
        "\n",
        "stem = PorterStemmer()"
      ],
      "execution_count": 7,
      "outputs": []
    },
    {
      "cell_type": "code",
      "metadata": {
        "colab": {
          "base_uri": "https://localhost:8080/"
        },
        "id": "KnYOAIMys9T0",
        "outputId": "7b989a45-b413-4bcd-f8b6-7b622f783c58"
      },
      "source": [
        "gberg_sent_4_pstem = [stem.stem(word) for word in gberg_sent_4]\n",
        "print(gberg_sent_4_pstem)"
      ],
      "execution_count": 8,
      "outputs": [
        {
          "output_type": "stream",
          "text": [
            "['youngest', 'two', 'daughter', 'affection', 'indulg', 'father', 'consequ', 'sister', 'marriag', 'mistress', 'hous', 'earli', 'period']\n"
          ],
          "name": "stdout"
        }
      ]
    },
    {
      "cell_type": "code",
      "metadata": {
        "id": "9HdqrSNUs9WG"
      },
      "source": [
        "####### Lemmatization\n",
        "\n",
        "nlp = spacy.load('en_core_web_sm')"
      ],
      "execution_count": null,
      "outputs": []
    },
    {
      "cell_type": "code",
      "metadata": {
        "id": "nJq2-sE3vUYk"
      },
      "source": [
        "gutenberg.raw()[291:477]"
      ],
      "execution_count": null,
      "outputs": []
    },
    {
      "cell_type": "code",
      "metadata": {
        "id": "o-bHD0KBs9bH"
      },
      "source": [
        "spacy_doc = nlp(gutenberg.raw()[291:477])\n",
        "gberg_sent_4_lemm = [word.lemma_ for word in spacy_doc.sents]\n",
        "print(gberg_sent_4_lemm)"
      ],
      "execution_count": null,
      "outputs": []
    },
    {
      "cell_type": "code",
      "metadata": {
        "id": "rQHbwOXKs9c9"
      },
      "source": [
        "# 6. Handle bigrams collocations\n",
        "\n",
        "\n",
        "phrases = Phrases(gberg_sents) # train detector\n",
        "print(phrases)\n",
        "bigram = Phraser(phrases) # create a more efficient Phraser object for transforming sentences\n",
        "print(bigram.phrasegrams) # output score of each bigram\n"
      ],
      "execution_count": null,
      "outputs": []
    },
    {
      "cell_type": "code",
      "metadata": {
        "id": "97M3ssVfs9hD"
      },
      "source": [
        "tokenized_sentence = \"Jon lives in New York City\".split()\n",
        "print(bigram[tokenized_sentence])"
      ],
      "execution_count": null,
      "outputs": []
    },
    {
      "cell_type": "markdown",
      "metadata": {
        "id": "YLI3dYPY4Wku"
      },
      "source": [
        "**Preprocess the corpus**\n",
        "\n",
        "gberg_sents is a Tokenized dataset.\n",
        "\n",
        "1.   To Lowercase and Remove Punctuations\n",
        "2.   Handle bigram collocation\n",
        "3.   Create word2vector\n",
        "4.   Evaluate Model \n",
        "5.   Plot in 2D\n",
        "\n"
      ]
    },
    {
      "cell_type": "code",
      "metadata": {
        "id": "ZoALA-_ts9kP"
      },
      "source": [
        "gberg_sent_preprs = [[word.lower() for word in sent if word not in list(string.punctuation)] for sent in gberg_sents]\n",
        "print(gberg_sent_preprs[:10])"
      ],
      "execution_count": null,
      "outputs": []
    },
    {
      "cell_type": "code",
      "metadata": {
        "id": "2OXxxcU64ATR"
      },
      "source": [
        "# bigram = Phraser(Phrases(gberg_sent_preprs))\n",
        "# print(bigram.phrasegrams)\n",
        "#applying certain conditions to create bigrams\n",
        "bigram = Phraser(Phrases(gberg_sent_preprs, min_count=32, threshold=64))\n",
        "print(bigram.phrasegrams)\n",
        "gberg_sent_preprs = [bigram[sent] for sent in gberg_sent_preprs]\n",
        "print(gberg_sent_preprs[:10])"
      ],
      "execution_count": null,
      "outputs": []
    },
    {
      "cell_type": "code",
      "metadata": {
        "id": "T7vhvIx34AWN"
      },
      "source": [
        "model = Word2Vec(sentences=gberg_sent_preprs, size=64, window=10, min_count=10, workers=8, sg=1, iter=5)"
      ],
      "execution_count": 16,
      "outputs": []
    },
    {
      "cell_type": "code",
      "metadata": {
        "colab": {
          "base_uri": "https://localhost:8080/"
        },
        "id": "Y2TvHQaT4Abv",
        "outputId": "cd3613a7-d014-48fc-8cb9-b83500d49587"
      },
      "source": [
        "model.wv.most_similar('dog', topn=5)"
      ],
      "execution_count": 17,
      "outputs": [
        {
          "output_type": "execute_result",
          "data": {
            "text/plain": [
              "[('puppy', 0.7834013104438782),\n",
              " ('pet', 0.7651119232177734),\n",
              " ('brahmin', 0.7613773345947266),\n",
              " ('fox', 0.7533220052719116),\n",
              " ('ginger', 0.7437171936035156)]"
            ]
          },
          "metadata": {
            "tags": []
          },
          "execution_count": 17
        }
      ]
    },
    {
      "cell_type": "code",
      "metadata": {
        "colab": {
          "base_uri": "https://localhost:8080/"
        },
        "id": "CCOPWnI24Adn",
        "outputId": "3b038f3f-454b-4b36-96e4-19b7764186e5"
      },
      "source": [
        "model.wv.most_similar('king', topn=5)"
      ],
      "execution_count": 18,
      "outputs": [
        {
          "output_type": "execute_result",
          "data": {
            "text/plain": [
              "[('babylon', 0.743516206741333),\n",
              " ('governor', 0.7386270761489868),\n",
              " ('haman', 0.7130187749862671),\n",
              " ('vashti', 0.7023959755897522),\n",
              " ('ahasuerus', 0.695083498954773)]"
            ]
          },
          "metadata": {
            "tags": []
          },
          "execution_count": 18
        }
      ]
    },
    {
      "cell_type": "code",
      "metadata": {
        "colab": {
          "base_uri": "https://localhost:8080/"
        },
        "id": "EvrzFA6_4AhV",
        "outputId": "fd604322-5af1-42ab-ff04-16d410c8cad5"
      },
      "source": [
        "model.wv.most_similar(positive=['king', 'queen'], negative=['man'], topn=5)"
      ],
      "execution_count": 20,
      "outputs": [
        {
          "output_type": "execute_result",
          "data": {
            "text/plain": [
              "[('vashti', 0.6396568417549133),\n",
              " ('banquet', 0.628044605255127),\n",
              " ('ahasuerus', 0.6165652871131897),\n",
              " ('haman', 0.6091808080673218),\n",
              " ('governor', 0.5966606140136719)]"
            ]
          },
          "metadata": {
            "tags": []
          },
          "execution_count": 20
        }
      ]
    },
    {
      "cell_type": "code",
      "metadata": {
        "id": "TJbZUjgMlfVD",
        "colab": {
          "base_uri": "https://localhost:8080/"
        },
        "outputId": "7a373359-08f8-4381-98c6-8dcee79535bb"
      },
      "source": [
        "model.wv.most_similar(positive=['husband', 'woman'], negative=['man'])"
      ],
      "execution_count": 21,
      "outputs": [
        {
          "output_type": "execute_result",
          "data": {
            "text/plain": [
              "[('sister', 0.7125319242477417),\n",
              " ('wife', 0.6884117126464844),\n",
              " ('daughter', 0.6449052095413208),\n",
              " ('conceived', 0.6437048316001892),\n",
              " ('elder', 0.6412549614906311),\n",
              " ('maid', 0.6367870569229126),\n",
              " ('child', 0.6325640678405762),\n",
              " ('mother', 0.6313331127166748),\n",
              " ('nurse', 0.6146925687789917),\n",
              " ('widow', 0.6055256128311157)]"
            ]
          },
          "metadata": {
            "tags": []
          },
          "execution_count": 21
        }
      ]
    },
    {
      "cell_type": "code",
      "metadata": {
        "colab": {
          "base_uri": "https://localhost:8080/"
        },
        "id": "OGMBO1MSSHhK",
        "outputId": "b6c8d58a-359d-410d-e230-6cda560be726"
      },
      "source": [
        "#Reduce dimensions\n",
        "\n",
        "words = model.wv.vocab.keys()\n",
        "print(list(words)[:1])\n",
        "word_vector_nd = model.wv[words]\n",
        "print(word_vector_nd[:1])\n",
        "\n",
        "\n",
        "tsne = TSNE(n_components=2, n_iter=1000)\n",
        "word_vector_2d = tsne.fit_transform(word_vector_nd)\n",
        "print(word_vector_2d[:1])"
      ],
      "execution_count": 28,
      "outputs": [
        {
          "output_type": "stream",
          "text": [
            "['emma']\n",
            "[[ 4.2879564e-01 -2.7309585e-02  4.1091430e-01  8.4065415e-02\n",
            "  -6.3307948e-02 -2.5161645e-01  1.5850502e-01  1.2286302e-01\n",
            "  -6.0415232e-01 -1.5979947e-01  5.6659406e-01 -4.6423998e-01\n",
            "   3.7104055e-01 -4.1548055e-01  3.6612841e-01 -2.8310094e-02\n",
            "  -3.3924177e-01 -2.1649595e-01  5.9744227e-01  2.4929845e-01\n",
            "   4.1158038e-01 -2.2750539e-01  2.1515630e-01 -8.9843982e-01\n",
            "   3.7863460e-01 -3.1438455e-01 -4.0062022e-01  2.7327988e-01\n",
            "  -4.5707256e-01 -6.0167819e-02 -2.4086465e-01  4.6665373e-01\n",
            "  -2.3591351e-02  3.4608859e-01  7.1361944e-02 -1.4508757e-01\n",
            "  -7.0988983e-01  2.2660539e-01 -5.0377172e-01  5.1288396e-01\n",
            "   5.2390915e-01  2.8564909e-01 -8.6089045e-01 -2.6839727e-01\n",
            "  -3.1854957e-01  3.0735999e-02 -2.0463902e-01 -8.3088758e-04\n",
            "   5.1767665e-01  9.1752332e-01  7.4425071e-02  2.0915511e-01\n",
            "   2.3749003e-02  9.6467078e-02  6.5241106e-02 -6.2591982e-01\n",
            "  -1.3873084e-03 -2.3203838e-01  2.7807847e-01  1.6536984e-01\n",
            "   2.9808125e-01 -4.7697228e-01 -2.7500945e-01  1.4074080e-01]]\n",
            "[[25.964874 59.073162]]\n"
          ],
          "name": "stdout"
        }
      ]
    },
    {
      "cell_type": "code",
      "metadata": {
        "colab": {
          "base_uri": "https://localhost:8080/"
        },
        "id": "B1R3SKsSSHkC",
        "outputId": "e996ab45-9b5d-4e24-a18e-e362d83dc1e2"
      },
      "source": [
        "df = pd.DataFrame(word_vector_2d, columns=['x', 'y'])\n",
        "df['word'] = words\n",
        "print(df.head())"
      ],
      "execution_count": 30,
      "outputs": [
        {
          "output_type": "stream",
          "text": [
            "           x          y    word\n",
            "0  25.964874  59.073162    emma\n",
            "1 -34.341629  30.957411      by\n",
            "2  23.674562  60.877571    jane\n",
            "3  -5.358441  16.970301  volume\n",
            "4  51.950905   8.095816       i\n"
          ],
          "name": "stdout"
        }
      ]
    },
    {
      "cell_type": "code",
      "metadata": {
        "id": "jhwNkGKUSHmD"
      },
      "source": [
        "sample_df = df.sample(n=5000)"
      ],
      "execution_count": 34,
      "outputs": []
    },
    {
      "cell_type": "code",
      "metadata": {
        "id": "5D8M9G2IW0CW"
      },
      "source": [
        "output_notebook()"
      ],
      "execution_count": 39,
      "outputs": []
    },
    {
      "cell_type": "code",
      "metadata": {
        "colab": {
          "base_uri": "https://localhost:8080/",
          "height": 34
        },
        "id": "p3rQg83cSHp0",
        "outputId": "6f6e6ebd-ec9c-4d55-e455-5e6f15524ace"
      },
      "source": [
        "plot = figure(plot_width=800, plot_height=800)\n",
        "plot.text(x_offset=sample_df.x, y_offset=sample_df.y, text=sample_df.word)"
      ],
      "execution_count": 40,
      "outputs": [
        {
          "output_type": "execute_result",
          "data": {
            "text/html": [
              "<div style=\"display: table;\"><div style=\"display: table-row;\"><div style=\"display: table-cell;\"><b title=\"bokeh.models.renderers.GlyphRenderer\">GlyphRenderer</b>(</div><div style=\"display: table-cell;\">id&nbsp;=&nbsp;'1237', <span id=\"1240\" style=\"cursor: pointer;\">&hellip;)</span></div></div><div class=\"1239\" style=\"display: none;\"><div style=\"display: table-cell;\"></div><div style=\"display: table-cell;\">data_source&nbsp;=&nbsp;ColumnDataSource(id='1234', ...),</div></div><div class=\"1239\" style=\"display: none;\"><div style=\"display: table-cell;\"></div><div style=\"display: table-cell;\">glyph&nbsp;=&nbsp;Text(id='1235', ...),</div></div><div class=\"1239\" style=\"display: none;\"><div style=\"display: table-cell;\"></div><div style=\"display: table-cell;\">hover_glyph&nbsp;=&nbsp;None,</div></div><div class=\"1239\" style=\"display: none;\"><div style=\"display: table-cell;\"></div><div style=\"display: table-cell;\">js_event_callbacks&nbsp;=&nbsp;{},</div></div><div class=\"1239\" style=\"display: none;\"><div style=\"display: table-cell;\"></div><div style=\"display: table-cell;\">js_property_callbacks&nbsp;=&nbsp;{},</div></div><div class=\"1239\" style=\"display: none;\"><div style=\"display: table-cell;\"></div><div style=\"display: table-cell;\">level&nbsp;=&nbsp;'glyph',</div></div><div class=\"1239\" style=\"display: none;\"><div style=\"display: table-cell;\"></div><div style=\"display: table-cell;\">muted&nbsp;=&nbsp;False,</div></div><div class=\"1239\" style=\"display: none;\"><div style=\"display: table-cell;\"></div><div style=\"display: table-cell;\">muted_glyph&nbsp;=&nbsp;None,</div></div><div class=\"1239\" style=\"display: none;\"><div style=\"display: table-cell;\"></div><div style=\"display: table-cell;\">name&nbsp;=&nbsp;None,</div></div><div class=\"1239\" style=\"display: none;\"><div style=\"display: table-cell;\"></div><div style=\"display: table-cell;\">nonselection_glyph&nbsp;=&nbsp;Text(id='1236', ...),</div></div><div class=\"1239\" style=\"display: none;\"><div style=\"display: table-cell;\"></div><div style=\"display: table-cell;\">selection_glyph&nbsp;=&nbsp;None,</div></div><div class=\"1239\" style=\"display: none;\"><div style=\"display: table-cell;\"></div><div style=\"display: table-cell;\">subscribed_events&nbsp;=&nbsp;[],</div></div><div class=\"1239\" style=\"display: none;\"><div style=\"display: table-cell;\"></div><div style=\"display: table-cell;\">tags&nbsp;=&nbsp;[],</div></div><div class=\"1239\" style=\"display: none;\"><div style=\"display: table-cell;\"></div><div style=\"display: table-cell;\">view&nbsp;=&nbsp;CDSView(id='1238', ...),</div></div><div class=\"1239\" style=\"display: none;\"><div style=\"display: table-cell;\"></div><div style=\"display: table-cell;\">visible&nbsp;=&nbsp;True,</div></div><div class=\"1239\" style=\"display: none;\"><div style=\"display: table-cell;\"></div><div style=\"display: table-cell;\">x_range_name&nbsp;=&nbsp;'default',</div></div><div class=\"1239\" style=\"display: none;\"><div style=\"display: table-cell;\"></div><div style=\"display: table-cell;\">y_range_name&nbsp;=&nbsp;'default')</div></div></div>\n",
              "<script>\n",
              "(function() {\n",
              "  var expanded = false;\n",
              "  var ellipsis = document.getElementById(\"1240\");\n",
              "  ellipsis.addEventListener(\"click\", function() {\n",
              "    var rows = document.getElementsByClassName(\"1239\");\n",
              "    for (var i = 0; i < rows.length; i++) {\n",
              "      var el = rows[i];\n",
              "      el.style.display = expanded ? \"none\" : \"table-row\";\n",
              "    }\n",
              "    ellipsis.innerHTML = expanded ? \"&hellip;)\" : \"&lsaquo;&lsaquo;&lsaquo;\";\n",
              "    expanded = !expanded;\n",
              "  });\n",
              "})();\n",
              "</script>\n"
            ],
            "text/plain": [
              "GlyphRenderer(id='1237', ...)"
            ]
          },
          "metadata": {
            "tags": []
          },
          "execution_count": 40
        }
      ]
    },
    {
      "cell_type": "code",
      "metadata": {
        "colab": {
          "base_uri": "https://localhost:8080/",
          "height": 817
        },
        "id": "JFE-rFGUSHrs",
        "outputId": "c524ab84-a07e-4d40-8199-fac63eacaaad"
      },
      "source": [
        "show(plot)"
      ],
      "execution_count": 41,
      "outputs": [
        {
          "output_type": "display_data",
          "data": {
            "application/javascript": [
              "\n",
              "(function(root) {\n",
              "  function now() {\n",
              "    return new Date();\n",
              "  }\n",
              "\n",
              "  var force = true;\n",
              "\n",
              "  if (typeof root._bokeh_onload_callbacks === \"undefined\" || force === true) {\n",
              "    root._bokeh_onload_callbacks = [];\n",
              "    root._bokeh_is_loading = undefined;\n",
              "  }\n",
              "\n",
              "  var JS_MIME_TYPE = 'application/javascript';\n",
              "  var HTML_MIME_TYPE = 'text/html';\n",
              "  var EXEC_MIME_TYPE = 'application/vnd.bokehjs_exec.v0+json';\n",
              "  var CLASS_NAME = 'output_bokeh rendered_html';\n",
              "\n",
              "  /**\n",
              "   * Render data to the DOM node\n",
              "   */\n",
              "  function render(props, node) {\n",
              "    var script = document.createElement(\"script\");\n",
              "    node.appendChild(script);\n",
              "  }\n",
              "\n",
              "  /**\n",
              "   * Handle when an output is cleared or removed\n",
              "   */\n",
              "  function handleClearOutput(event, handle) {\n",
              "    var cell = handle.cell;\n",
              "\n",
              "    var id = cell.output_area._bokeh_element_id;\n",
              "    var server_id = cell.output_area._bokeh_server_id;\n",
              "    // Clean up Bokeh references\n",
              "    if (id != null && id in Bokeh.index) {\n",
              "      Bokeh.index[id].model.document.clear();\n",
              "      delete Bokeh.index[id];\n",
              "    }\n",
              "\n",
              "    if (server_id !== undefined) {\n",
              "      // Clean up Bokeh references\n",
              "      var cmd = \"from bokeh.io.state import curstate; print(curstate().uuid_to_server['\" + server_id + \"'].get_sessions()[0].document.roots[0]._id)\";\n",
              "      cell.notebook.kernel.execute(cmd, {\n",
              "        iopub: {\n",
              "          output: function(msg) {\n",
              "            var id = msg.content.text.trim();\n",
              "            if (id in Bokeh.index) {\n",
              "              Bokeh.index[id].model.document.clear();\n",
              "              delete Bokeh.index[id];\n",
              "            }\n",
              "          }\n",
              "        }\n",
              "      });\n",
              "      // Destroy server and session\n",
              "      var cmd = \"import bokeh.io.notebook as ion; ion.destroy_server('\" + server_id + \"')\";\n",
              "      cell.notebook.kernel.execute(cmd);\n",
              "    }\n",
              "  }\n",
              "\n",
              "  /**\n",
              "   * Handle when a new output is added\n",
              "   */\n",
              "  function handleAddOutput(event, handle) {\n",
              "    var output_area = handle.output_area;\n",
              "    var output = handle.output;\n",
              "\n",
              "    // limit handleAddOutput to display_data with EXEC_MIME_TYPE content only\n",
              "    if ((output.output_type != \"display_data\") || (!output.data.hasOwnProperty(EXEC_MIME_TYPE))) {\n",
              "      return\n",
              "    }\n",
              "\n",
              "    var toinsert = output_area.element.find(\".\" + CLASS_NAME.split(' ')[0]);\n",
              "\n",
              "    if (output.metadata[EXEC_MIME_TYPE][\"id\"] !== undefined) {\n",
              "      toinsert[toinsert.length - 1].firstChild.textContent = output.data[JS_MIME_TYPE];\n",
              "      // store reference to embed id on output_area\n",
              "      output_area._bokeh_element_id = output.metadata[EXEC_MIME_TYPE][\"id\"];\n",
              "    }\n",
              "    if (output.metadata[EXEC_MIME_TYPE][\"server_id\"] !== undefined) {\n",
              "      var bk_div = document.createElement(\"div\");\n",
              "      bk_div.innerHTML = output.data[HTML_MIME_TYPE];\n",
              "      var script_attrs = bk_div.children[0].attributes;\n",
              "      for (var i = 0; i < script_attrs.length; i++) {\n",
              "        toinsert[toinsert.length - 1].firstChild.setAttribute(script_attrs[i].name, script_attrs[i].value);\n",
              "        toinsert[toinsert.length - 1].firstChild.textContent = bk_div.children[0].textContent\n",
              "      }\n",
              "      // store reference to server id on output_area\n",
              "      output_area._bokeh_server_id = output.metadata[EXEC_MIME_TYPE][\"server_id\"];\n",
              "    }\n",
              "  }\n",
              "\n",
              "  function register_renderer(events, OutputArea) {\n",
              "\n",
              "    function append_mime(data, metadata, element) {\n",
              "      // create a DOM node to render to\n",
              "      var toinsert = this.create_output_subarea(\n",
              "        metadata,\n",
              "        CLASS_NAME,\n",
              "        EXEC_MIME_TYPE\n",
              "      );\n",
              "      this.keyboard_manager.register_events(toinsert);\n",
              "      // Render to node\n",
              "      var props = {data: data, metadata: metadata[EXEC_MIME_TYPE]};\n",
              "      render(props, toinsert[toinsert.length - 1]);\n",
              "      element.append(toinsert);\n",
              "      return toinsert\n",
              "    }\n",
              "\n",
              "    /* Handle when an output is cleared or removed */\n",
              "    events.on('clear_output.CodeCell', handleClearOutput);\n",
              "    events.on('delete.Cell', handleClearOutput);\n",
              "\n",
              "    /* Handle when a new output is added */\n",
              "    events.on('output_added.OutputArea', handleAddOutput);\n",
              "\n",
              "    /**\n",
              "     * Register the mime type and append_mime function with output_area\n",
              "     */\n",
              "    OutputArea.prototype.register_mime_type(EXEC_MIME_TYPE, append_mime, {\n",
              "      /* Is output safe? */\n",
              "      safe: true,\n",
              "      /* Index of renderer in `output_area.display_order` */\n",
              "      index: 0\n",
              "    });\n",
              "  }\n",
              "\n",
              "  // register the mime type if in Jupyter Notebook environment and previously unregistered\n",
              "  if (root.Jupyter !== undefined) {\n",
              "    var events = require('base/js/events');\n",
              "    var OutputArea = require('notebook/js/outputarea').OutputArea;\n",
              "\n",
              "    if (OutputArea.prototype.mime_types().indexOf(EXEC_MIME_TYPE) == -1) {\n",
              "      register_renderer(events, OutputArea);\n",
              "    }\n",
              "  }\n",
              "\n",
              "  \n",
              "  if (typeof (root._bokeh_timeout) === \"undefined\" || force === true) {\n",
              "    root._bokeh_timeout = Date.now() + 5000;\n",
              "    root._bokeh_failed_load = false;\n",
              "  }\n",
              "\n",
              "  var NB_LOAD_WARNING = {'data': {'text/html':\n",
              "     \"<div style='background-color: #fdd'>\\n\"+\n",
              "     \"<p>\\n\"+\n",
              "     \"BokehJS does not appear to have successfully loaded. If loading BokehJS from CDN, this \\n\"+\n",
              "     \"may be due to a slow or bad network connection. Possible fixes:\\n\"+\n",
              "     \"</p>\\n\"+\n",
              "     \"<ul>\\n\"+\n",
              "     \"<li>re-rerun `output_notebook()` to attempt to load from CDN again, or</li>\\n\"+\n",
              "     \"<li>use INLINE resources instead, as so:</li>\\n\"+\n",
              "     \"</ul>\\n\"+\n",
              "     \"<code>\\n\"+\n",
              "     \"from bokeh.resources import INLINE\\n\"+\n",
              "     \"output_notebook(resources=INLINE)\\n\"+\n",
              "     \"</code>\\n\"+\n",
              "     \"</div>\"}};\n",
              "\n",
              "  function display_loaded() {\n",
              "    var el = document.getElementById(null);\n",
              "    if (el != null) {\n",
              "      el.textContent = \"BokehJS is loading...\";\n",
              "    }\n",
              "    if (root.Bokeh !== undefined) {\n",
              "      if (el != null) {\n",
              "        el.textContent = \"BokehJS \" + root.Bokeh.version + \" successfully loaded.\";\n",
              "      }\n",
              "    } else if (Date.now() < root._bokeh_timeout) {\n",
              "      setTimeout(display_loaded, 100)\n",
              "    }\n",
              "  }\n",
              "\n",
              "\n",
              "  function run_callbacks() {\n",
              "    try {\n",
              "      root._bokeh_onload_callbacks.forEach(function(callback) {\n",
              "        if (callback != null)\n",
              "          callback();\n",
              "      });\n",
              "    } finally {\n",
              "      delete root._bokeh_onload_callbacks\n",
              "    }\n",
              "    console.debug(\"Bokeh: all callbacks have finished\");\n",
              "  }\n",
              "\n",
              "  function load_libs(css_urls, js_urls, callback) {\n",
              "    if (css_urls == null) css_urls = [];\n",
              "    if (js_urls == null) js_urls = [];\n",
              "\n",
              "    root._bokeh_onload_callbacks.push(callback);\n",
              "    if (root._bokeh_is_loading > 0) {\n",
              "      console.debug(\"Bokeh: BokehJS is being loaded, scheduling callback at\", now());\n",
              "      return null;\n",
              "    }\n",
              "    if (js_urls == null || js_urls.length === 0) {\n",
              "      run_callbacks();\n",
              "      return null;\n",
              "    }\n",
              "    console.debug(\"Bokeh: BokehJS not loaded, scheduling load and callback at\", now());\n",
              "    root._bokeh_is_loading = css_urls.length + js_urls.length;\n",
              "\n",
              "    function on_load() {\n",
              "      root._bokeh_is_loading--;\n",
              "      if (root._bokeh_is_loading === 0) {\n",
              "        console.debug(\"Bokeh: all BokehJS libraries/stylesheets loaded\");\n",
              "        run_callbacks()\n",
              "      }\n",
              "    }\n",
              "\n",
              "    function on_error() {\n",
              "      console.error(\"failed to load \" + url);\n",
              "    }\n",
              "\n",
              "    for (var i = 0; i < css_urls.length; i++) {\n",
              "      var url = css_urls[i];\n",
              "      const element = document.createElement(\"link\");\n",
              "      element.onload = on_load;\n",
              "      element.onerror = on_error;\n",
              "      element.rel = \"stylesheet\";\n",
              "      element.type = \"text/css\";\n",
              "      element.href = url;\n",
              "      console.debug(\"Bokeh: injecting link tag for BokehJS stylesheet: \", url);\n",
              "      document.body.appendChild(element);\n",
              "    }\n",
              "\n",
              "    const hashes = {\"https://cdn.bokeh.org/bokeh/release/bokeh-2.1.1.min.js\": \"kLr4fYcqcSpbuI95brIH3vnnYCquzzSxHPU6XGQCIkQRGJwhg0StNbj1eegrHs12\", \"https://cdn.bokeh.org/bokeh/release/bokeh-widgets-2.1.1.min.js\": \"xIGPmVtaOm+z0BqfSOMn4lOR6ciex448GIKG4eE61LsAvmGj48XcMQZtKcE/UXZe\", \"https://cdn.bokeh.org/bokeh/release/bokeh-tables-2.1.1.min.js\": \"Dc9u1wF/0zApGIWoBbH77iWEHtdmkuYWG839Uzmv8y8yBLXebjO9ZnERsde5Ln/P\", \"https://cdn.bokeh.org/bokeh/release/bokeh-gl-2.1.1.min.js\": \"cT9JaBz7GiRXdENrJLZNSC6eMNF3nh3fa5fTF51Svp+ukxPdwcU5kGXGPBgDCa2j\"};\n",
              "\n",
              "    for (var i = 0; i < js_urls.length; i++) {\n",
              "      var url = js_urls[i];\n",
              "      var element = document.createElement('script');\n",
              "      element.onload = on_load;\n",
              "      element.onerror = on_error;\n",
              "      element.async = false;\n",
              "      element.src = url;\n",
              "      if (url in hashes) {\n",
              "        element.crossOrigin = \"anonymous\";\n",
              "        element.integrity = \"sha384-\" + hashes[url];\n",
              "      }\n",
              "      console.debug(\"Bokeh: injecting script tag for BokehJS library: \", url);\n",
              "      document.head.appendChild(element);\n",
              "    }\n",
              "  };\n",
              "\n",
              "  function inject_raw_css(css) {\n",
              "    const element = document.createElement(\"style\");\n",
              "    element.appendChild(document.createTextNode(css));\n",
              "    document.body.appendChild(element);\n",
              "  }\n",
              "\n",
              "  \n",
              "  var js_urls = [\"https://cdn.bokeh.org/bokeh/release/bokeh-2.1.1.min.js\", \"https://cdn.bokeh.org/bokeh/release/bokeh-widgets-2.1.1.min.js\", \"https://cdn.bokeh.org/bokeh/release/bokeh-tables-2.1.1.min.js\", \"https://cdn.bokeh.org/bokeh/release/bokeh-gl-2.1.1.min.js\"];\n",
              "  var css_urls = [];\n",
              "  \n",
              "\n",
              "  var inline_js = [\n",
              "    function(Bokeh) {\n",
              "      Bokeh.set_log_level(\"info\");\n",
              "    },\n",
              "    function(Bokeh) {\n",
              "    \n",
              "    \n",
              "    }\n",
              "  ];\n",
              "\n",
              "  function run_inline_js() {\n",
              "    \n",
              "    if (root.Bokeh !== undefined || force === true) {\n",
              "      \n",
              "    for (var i = 0; i < inline_js.length; i++) {\n",
              "      inline_js[i].call(root, root.Bokeh);\n",
              "    }\n",
              "    } else if (Date.now() < root._bokeh_timeout) {\n",
              "      setTimeout(run_inline_js, 100);\n",
              "    } else if (!root._bokeh_failed_load) {\n",
              "      console.log(\"Bokeh: BokehJS failed to load within specified timeout.\");\n",
              "      root._bokeh_failed_load = true;\n",
              "    } else if (force !== true) {\n",
              "      var cell = $(document.getElementById(null)).parents('.cell').data().cell;\n",
              "      cell.output_area.append_execute_result(NB_LOAD_WARNING)\n",
              "    }\n",
              "\n",
              "  }\n",
              "\n",
              "  if (root._bokeh_is_loading === 0) {\n",
              "    console.debug(\"Bokeh: BokehJS loaded, going straight to plotting\");\n",
              "    run_inline_js();\n",
              "  } else {\n",
              "    load_libs(css_urls, js_urls, function() {\n",
              "      console.debug(\"Bokeh: BokehJS plotting callback run at\", now());\n",
              "      run_inline_js();\n",
              "    });\n",
              "  }\n",
              "}(window));"
            ],
            "application/vnd.bokehjs_load.v0+json": "\n(function(root) {\n  function now() {\n    return new Date();\n  }\n\n  var force = true;\n\n  if (typeof root._bokeh_onload_callbacks === \"undefined\" || force === true) {\n    root._bokeh_onload_callbacks = [];\n    root._bokeh_is_loading = undefined;\n  }\n\n  \n\n  \n  if (typeof (root._bokeh_timeout) === \"undefined\" || force === true) {\n    root._bokeh_timeout = Date.now() + 5000;\n    root._bokeh_failed_load = false;\n  }\n\n  var NB_LOAD_WARNING = {'data': {'text/html':\n     \"<div style='background-color: #fdd'>\\n\"+\n     \"<p>\\n\"+\n     \"BokehJS does not appear to have successfully loaded. If loading BokehJS from CDN, this \\n\"+\n     \"may be due to a slow or bad network connection. Possible fixes:\\n\"+\n     \"</p>\\n\"+\n     \"<ul>\\n\"+\n     \"<li>re-rerun `output_notebook()` to attempt to load from CDN again, or</li>\\n\"+\n     \"<li>use INLINE resources instead, as so:</li>\\n\"+\n     \"</ul>\\n\"+\n     \"<code>\\n\"+\n     \"from bokeh.resources import INLINE\\n\"+\n     \"output_notebook(resources=INLINE)\\n\"+\n     \"</code>\\n\"+\n     \"</div>\"}};\n\n  function display_loaded() {\n    var el = document.getElementById(null);\n    if (el != null) {\n      el.textContent = \"BokehJS is loading...\";\n    }\n    if (root.Bokeh !== undefined) {\n      if (el != null) {\n        el.textContent = \"BokehJS \" + root.Bokeh.version + \" successfully loaded.\";\n      }\n    } else if (Date.now() < root._bokeh_timeout) {\n      setTimeout(display_loaded, 100)\n    }\n  }\n\n\n  function run_callbacks() {\n    try {\n      root._bokeh_onload_callbacks.forEach(function(callback) {\n        if (callback != null)\n          callback();\n      });\n    } finally {\n      delete root._bokeh_onload_callbacks\n    }\n    console.debug(\"Bokeh: all callbacks have finished\");\n  }\n\n  function load_libs(css_urls, js_urls, callback) {\n    if (css_urls == null) css_urls = [];\n    if (js_urls == null) js_urls = [];\n\n    root._bokeh_onload_callbacks.push(callback);\n    if (root._bokeh_is_loading > 0) {\n      console.debug(\"Bokeh: BokehJS is being loaded, scheduling callback at\", now());\n      return null;\n    }\n    if (js_urls == null || js_urls.length === 0) {\n      run_callbacks();\n      return null;\n    }\n    console.debug(\"Bokeh: BokehJS not loaded, scheduling load and callback at\", now());\n    root._bokeh_is_loading = css_urls.length + js_urls.length;\n\n    function on_load() {\n      root._bokeh_is_loading--;\n      if (root._bokeh_is_loading === 0) {\n        console.debug(\"Bokeh: all BokehJS libraries/stylesheets loaded\");\n        run_callbacks()\n      }\n    }\n\n    function on_error() {\n      console.error(\"failed to load \" + url);\n    }\n\n    for (var i = 0; i < css_urls.length; i++) {\n      var url = css_urls[i];\n      const element = document.createElement(\"link\");\n      element.onload = on_load;\n      element.onerror = on_error;\n      element.rel = \"stylesheet\";\n      element.type = \"text/css\";\n      element.href = url;\n      console.debug(\"Bokeh: injecting link tag for BokehJS stylesheet: \", url);\n      document.body.appendChild(element);\n    }\n\n    const hashes = {\"https://cdn.bokeh.org/bokeh/release/bokeh-2.1.1.min.js\": \"kLr4fYcqcSpbuI95brIH3vnnYCquzzSxHPU6XGQCIkQRGJwhg0StNbj1eegrHs12\", \"https://cdn.bokeh.org/bokeh/release/bokeh-widgets-2.1.1.min.js\": \"xIGPmVtaOm+z0BqfSOMn4lOR6ciex448GIKG4eE61LsAvmGj48XcMQZtKcE/UXZe\", \"https://cdn.bokeh.org/bokeh/release/bokeh-tables-2.1.1.min.js\": \"Dc9u1wF/0zApGIWoBbH77iWEHtdmkuYWG839Uzmv8y8yBLXebjO9ZnERsde5Ln/P\", \"https://cdn.bokeh.org/bokeh/release/bokeh-gl-2.1.1.min.js\": \"cT9JaBz7GiRXdENrJLZNSC6eMNF3nh3fa5fTF51Svp+ukxPdwcU5kGXGPBgDCa2j\"};\n\n    for (var i = 0; i < js_urls.length; i++) {\n      var url = js_urls[i];\n      var element = document.createElement('script');\n      element.onload = on_load;\n      element.onerror = on_error;\n      element.async = false;\n      element.src = url;\n      if (url in hashes) {\n        element.crossOrigin = \"anonymous\";\n        element.integrity = \"sha384-\" + hashes[url];\n      }\n      console.debug(\"Bokeh: injecting script tag for BokehJS library: \", url);\n      document.head.appendChild(element);\n    }\n  };\n\n  function inject_raw_css(css) {\n    const element = document.createElement(\"style\");\n    element.appendChild(document.createTextNode(css));\n    document.body.appendChild(element);\n  }\n\n  \n  var js_urls = [\"https://cdn.bokeh.org/bokeh/release/bokeh-2.1.1.min.js\", \"https://cdn.bokeh.org/bokeh/release/bokeh-widgets-2.1.1.min.js\", \"https://cdn.bokeh.org/bokeh/release/bokeh-tables-2.1.1.min.js\", \"https://cdn.bokeh.org/bokeh/release/bokeh-gl-2.1.1.min.js\"];\n  var css_urls = [];\n  \n\n  var inline_js = [\n    function(Bokeh) {\n      Bokeh.set_log_level(\"info\");\n    },\n    function(Bokeh) {\n    \n    \n    }\n  ];\n\n  function run_inline_js() {\n    \n    if (root.Bokeh !== undefined || force === true) {\n      \n    for (var i = 0; i < inline_js.length; i++) {\n      inline_js[i].call(root, root.Bokeh);\n    }\n    } else if (Date.now() < root._bokeh_timeout) {\n      setTimeout(run_inline_js, 100);\n    } else if (!root._bokeh_failed_load) {\n      console.log(\"Bokeh: BokehJS failed to load within specified timeout.\");\n      root._bokeh_failed_load = true;\n    } else if (force !== true) {\n      var cell = $(document.getElementById(null)).parents('.cell').data().cell;\n      cell.output_area.append_execute_result(NB_LOAD_WARNING)\n    }\n\n  }\n\n  if (root._bokeh_is_loading === 0) {\n    console.debug(\"Bokeh: BokehJS loaded, going straight to plotting\");\n    run_inline_js();\n  } else {\n    load_libs(css_urls, js_urls, function() {\n      console.debug(\"Bokeh: BokehJS plotting callback run at\", now());\n      run_inline_js();\n    });\n  }\n}(window));"
          },
          "metadata": {
            "tags": []
          }
        },
        {
          "output_type": "display_data",
          "data": {
            "text/html": [
              "\n",
              "\n",
              "\n",
              "\n",
              "\n",
              "\n",
              "  <div class=\"bk-root\" id=\"d17e2171-5079-4498-a8db-d8b518ea3ca5\" data-root-id=\"1203\"></div>\n"
            ]
          },
          "metadata": {
            "tags": []
          }
        },
        {
          "output_type": "display_data",
          "data": {
            "application/javascript": [
              "(function(root) {\n",
              "  function embed_document(root) {\n",
              "    \n",
              "  var docs_json = {\"43012add-d4f1-44d7-a244-a553beb4eb33\":{\"roots\":{\"references\":[{\"attributes\":{\"below\":[{\"id\":\"1212\"}],\"center\":[{\"id\":\"1215\"},{\"id\":\"1219\"}],\"left\":[{\"id\":\"1216\"}],\"plot_height\":800,\"plot_width\":800,\"renderers\":[{\"id\":\"1237\"}],\"title\":{\"id\":\"1251\"},\"toolbar\":{\"id\":\"1227\"},\"x_range\":{\"id\":\"1204\"},\"x_scale\":{\"id\":\"1208\"},\"y_range\":{\"id\":\"1206\"},\"y_scale\":{\"id\":\"1210\"}},\"id\":\"1203\",\"subtype\":\"Figure\",\"type\":\"Plot\"},{\"attributes\":{},\"id\":\"1256\",\"type\":\"Selection\"},{\"attributes\":{},\"id\":\"1210\",\"type\":\"LinearScale\"},{\"attributes\":{},\"id\":\"1224\",\"type\":\"ResetTool\"},{\"attributes\":{},\"id\":\"1225\",\"type\":\"HelpTool\"},{\"attributes\":{\"text_color\":{\"value\":\"black\"},\"x_offset\":{\"field\":\"x_offset\"},\"y_offset\":{\"field\":\"y_offset\"}},\"id\":\"1235\",\"type\":\"Text\"},{\"attributes\":{\"bottom_units\":\"screen\",\"fill_alpha\":0.5,\"fill_color\":\"lightgrey\",\"left_units\":\"screen\",\"level\":\"overlay\",\"line_alpha\":1.0,\"line_color\":\"black\",\"line_dash\":[4,4],\"line_width\":2,\"right_units\":\"screen\",\"top_units\":\"screen\"},\"id\":\"1226\",\"type\":\"BoxAnnotation\"},{\"attributes\":{},\"id\":\"1204\",\"type\":\"DataRange1d\"},{\"attributes\":{\"active_drag\":\"auto\",\"active_inspect\":\"auto\",\"active_multi\":null,\"active_scroll\":\"auto\",\"active_tap\":\"auto\",\"tools\":[{\"id\":\"1220\"},{\"id\":\"1221\"},{\"id\":\"1222\"},{\"id\":\"1223\"},{\"id\":\"1224\"},{\"id\":\"1225\"}]},\"id\":\"1227\",\"type\":\"Toolbar\"},{\"attributes\":{},\"id\":\"1206\",\"type\":\"DataRange1d\"},{\"attributes\":{},\"id\":\"1254\",\"type\":\"BasicTickFormatter\"},{\"attributes\":{},\"id\":\"1213\",\"type\":\"BasicTicker\"},{\"attributes\":{\"formatter\":{\"id\":\"1254\"},\"ticker\":{\"id\":\"1213\"}},\"id\":\"1212\",\"type\":\"LinearAxis\"},{\"attributes\":{},\"id\":\"1221\",\"type\":\"WheelZoomTool\"},{\"attributes\":{},\"id\":\"1223\",\"type\":\"SaveTool\"},{\"attributes\":{\"axis\":{\"id\":\"1212\"},\"ticker\":null},\"id\":\"1215\",\"type\":\"Grid\"},{\"attributes\":{\"axis\":{\"id\":\"1216\"},\"dimension\":1,\"ticker\":null},\"id\":\"1219\",\"type\":\"Grid\"},{\"attributes\":{},\"id\":\"1208\",\"type\":\"LinearScale\"},{\"attributes\":{},\"id\":\"1252\",\"type\":\"BasicTickFormatter\"},{\"attributes\":{\"text\":\"\"},\"id\":\"1251\",\"type\":\"Title\"},{\"attributes\":{\"source\":{\"id\":\"1234\"}},\"id\":\"1238\",\"type\":\"CDSView\"},{\"attributes\":{},\"id\":\"1257\",\"type\":\"UnionRenderers\"},{\"attributes\":{},\"id\":\"1217\",\"type\":\"BasicTicker\"},{\"attributes\":{\"data_source\":{\"id\":\"1234\"},\"glyph\":{\"id\":\"1235\"},\"hover_glyph\":null,\"muted_glyph\":null,\"nonselection_glyph\":{\"id\":\"1236\"},\"selection_glyph\":null,\"view\":{\"id\":\"1238\"}},\"id\":\"1237\",\"type\":\"GlyphRenderer\"},{\"attributes\":{\"formatter\":{\"id\":\"1252\"},\"ticker\":{\"id\":\"1217\"}},\"id\":\"1216\",\"type\":\"LinearAxis\"},{\"attributes\":{\"data\":{\"text\":[\"brooding\",\"reality\",\"leadeth\",\"collar\",\"nut\",\"world\",\"looking\",\"horse\",\"expression\",\"raptures\",\"shy\",\"narwhale\",\"absolute\",\"banquo\",\"zedekiah\",\"raising\",\"jove\",\"considered\",\"forty\",\"miss_smith\",\"button\",\"boats\",\"minutes\",\"break\",\"edge\",\"dispute\",\"rhyme\",\"jane\",\"hung\",\"answereth\",\"magnetic\",\"ready\",\"dale\",\"wherever\",\"show\",\"stricken\",\"jumped\",\"knowest\",\"sunshine\",\"canvas\",\"qu\",\"carelessly\",\"noblest\",\"blaspheme\",\"steeles\",\"virtues\",\"smoked\",\"boaz\",\"sail\",\"warre\",\"liquid\",\"connection\",\"cushi\",\"highlander\",\"discharged\",\"sleepy\",\"inventions\",\"tarried\",\"contest\",\"involve\",\"guilty\",\"locust\",\"keilah\",\"stopt\",\"sentence\",\"tolerably\",\"cymbals\",\"announced\",\"tithes\",\"jocund\",\"remainder\",\"stars\",\"tempered\",\"undoubtedly\",\"rings\",\"lighten\",\"somebody\",\"commended\",\"wager\",\"enlarged\",\"sitteth\",\"hesitating\",\"conjecture\",\"contain\",\"fling\",\"despairing\",\"sickle\",\"purse\",\"cigar\",\"paumanok\",\"removed\",\"pomegranate\",\"47\",\"sheer\",\"missing\",\"belial\",\"invited\",\"bedchamber\",\"harrogate\",\"instant\",\"ceremonies\",\"deliberate\",\"abominable\",\"error\",\"wondering\",\"eleven\",\"stand\",\"rod\",\"stain\",\"tubs\",\"awakened\",\"heaving\",\"heavy\",\"frequently\",\"mine\",\"scotland\",\"filthiness\",\"profit\",\"systems\",\"instances\",\"aboard\",\"fetched\",\"oak\",\"themselves\",\"structure\",\"resuming\",\"quarters\",\"courtesy\",\"projected\",\"del\",\"inimitable\",\"motions\",\"lone\",\"meat_offering\",\"fable\",\"bin\",\"loftiest\",\"certainly\",\"shewed\",\"aboue\",\"heshbon\",\"few_minutes\",\"triumphantly\",\"keepeth\",\"oppress\",\"forge\",\"fortitude\",\"complaisance\",\"george\",\"impressed\",\"amongst\",\"balanced\",\"crush\",\"grimly\",\"subterranean\",\"forests\",\"independent\",\"goe\",\"warriors\",\"thine\",\"mortals\",\"imperfect\",\"yon\",\"strain\",\"billy\",\"moved\",\"released\",\"array\",\"entreated\",\"taught\",\"disinterested\",\"shiloh\",\"sentences\",\"wits\",\"apiece\",\"mild\",\"admired\",\"eunuchs\",\"sleepless\",\"idea\",\"afar\",\"comprehending\",\"softened\",\"ominous\",\"mute\",\"boasted\",\"mat\",\"envious\",\"former\",\"perpetual\",\"labours\",\"reubenites\",\"paternal\",\"chances\",\"consequently\",\"twisted\",\"tea\",\"bring\",\"turns\",\"disciples\",\"wanted\",\"flash\",\"pleasantly\",\"hunted\",\"tuesday\",\"captive\",\"cliff\",\"isn_t\",\"lights\",\"years_ago\",\"yong\",\"artistic\",\"assure\",\"recollect\",\"approved\",\"governed\",\"thunder\",\"threshing\",\"procuring\",\"represent\",\"98\",\"farewell\",\"issachar\",\"forthwith\",\"kneeling\",\"arrow\",\"whispering\",\"universally\",\"tending\",\"whoredoms\",\"straits\",\"minute\",\"thanke\",\"wakes\",\"impious\",\"spied\",\"cutler\",\"gipsy\",\"ambergris\",\"driving\",\"barred\",\"marble\",\"earrings\",\"apprehensions\",\".]\",\"lot\",\"returns\",\"daresay\",\"complaint\",\"excellency\",\"goodly\",\"disappointment\",\"combat\",\"harper\",\"28\",\"mess\",\"jonadab\",\"commanding\",\"lightnings\",\"offers\",\"arched\",\"result\",\"pointing\",\"baptist\",\"agree\",\"prick\",\"member\",\"hearest\",\"sulky\",\"promising\",\"departing\",\"retained\",\"neighbors\",\"doubloon\",\"provocation\",\"startling\",\"sparkling\",\"gallows\",\"dismiss\",\"talked\",\"smiled\",\"am\",\"eleazar\",\"perch\",\"graze\",\"similar\",\"stumblingblock\",\"lie\",\"rises\",\"wings\",\"closing\",\"buy\",\"america\",\"halfpence\",\"erected\",\"washington\",\"drag\",\"out\",\"magdalene\",\"sweeping\",\"basis\",\"create\",\"dynamite\",\"perplexity\",\"wig\",\"bands\",\"miles\",\"hananiah\",\"mid\",\"drunken\",\"happening\",\"cage\",\"lamps\",\"examination\",\"count\",\"scorner\",\"breathe\",\"61\",\"jesse\",\"rapt\",\"fiend\",\"dedicated\",\"complained\",\"knows\",\"instruction\",\"lock\",\"pleas\",\"trowsers\",\"helped\",\"starting\",\"bitterness\",\"ananias\",\"indeed\",\"fates\",\"owed\",\"clave\",\"argue\",\"potter\",\"chaldeans\",\"sowed\",\"steadiness\",\"regardless\",\"shall\",\"enough\",\":--\\\"\",\"seclusion\",\"interrupting\",\"prime\",\"beasts\",\"cawdor\",\"damnation\",\"gregory\",\"lanes\",\"heare\",\"teachers\",\"forwards\",\"lent\",\"depart\",\"peaceful\",\"lye\",\"hire\",\"arrived\",\"stalwart\",\"intelligent\",\"imagine\",\"merry\",\"bells\",\"farther\",\"pluck\",\"cautiously\",\"simply\",\"monk\",\"58\",\"verses\",\"liberal\",\"allusion\",\"ephah\",\"the\",\"hammers\",\"encourage\",\"flanks\",\"spending\",\"procession\",\"brazen\",\"partially\",\"dry\",\"marked\",\"inside\",\"loveit\",\"milcah\",\"menacing\",\"prythee\",\"parent\",\"buster_bear\",\"liking\",\"broad\",\"egypt\",\"coloured\",\"kindly\",\"attendant\",\"vi\",\"mock\",\"sword\",\"trembled\",\"thinkes\",\"pendragon\",\"virgins\",\"glorify\",\"berry\",\"accept\",\"prospered\",\"undone\",\"143\",\"shovels\",\"shirt\",\"fins\",\"avoided\",\"fastidious\",\"civilities\",\"remorse\",\"listening\",\"narration\",\"keeper\",\"servile\",\"described\",\"secrets\",\"doctor\",\"october\",\"buoy\",\"resist\",\"_i_\",\"foundations\",\"hangs\",\"grown\",\"rosetta\",\"namely\",\"distinguished\",\"threatening\",\"spaniard\",\"cloven\",\"loveth\",\"haste\",\"yielded\",\"clung\",\"proudly\",\"platform\",\"professed\",\"morsel\",\"moderate\",\"yell\",\"drowned\",\"pained\",\"understands\",\"messenger\",\"supplication\",\"disobedient\",\"decree\",\"invested\",\"ladies\",\"ahaz\",\"doomed\",\"accomplish\",\"amon\",\"expectation\",\"spakest\",\"signet\",\"oracle\",\"bred\",\"83\",\"throat\",\"cruet\",\"outrageous\",\"none\",\"wouldn_t\",\"rested\",\"purified\",\"keepers\",\"jedaiah\",\"air\",\"now\",\"something\",\"interminable\",\"charger\",\"discharge\",\"arrive\",\"wist\",\"saracen\",\"engage\",\"heath\",\"joram\",\"void\",\"wretchedness\",\"collected\",\"late\",\"gedaliah\",\"tables\",\"cassius\",\"liues\",\"nourish\",\"risk\",\"writer\",\"agreement\",\"m_sure\",\"prairies\",\"bowed\",\"fault\",\"illinois\",\"stable\",\"superiour\",\"dressed\",\"dairy\",\"shines\",\"sovereign\",\"flew\",\"feathers\",\"watered\",\"testimonies\",\"suffered\",\"disdained\",\"honoured\",\"mend\",\"joyous\",\"passionate\",\"cherish\",\"soul\",\"mar\",\"vashti\",\"conditions\",\"acquiescence\",\"presents\",\"vii\",\"dedicate\",\"leans\",\"perceived\",\"caused\",\"longest\",\"broidered\",\"attractions\",\"theatre\",\"birthday\",\"complacency\",\"eares\",\"crafty\",\"grotesque\",\"teman\",\"control\",\"icy\",\"spine\",\"duncan\",\"measureless\",\"shake\",\"heads\",\"thin\",\"ariseth\",\"kenaz\",\"downstairs\",\"prow\",\"89\",\"odor\",\"tiller\",\"fly\",\"exposed\",\"poz\",\"unfeeling\",\"94\",\"tells\",\"masses\",\"talke\",\"neglect\",\"men\",\"floods\",\"servants\",\"j\",\"comforter\",\"stamping\",\"populous\",\"idly\",\"docks\",\"exert\",\"grandmother\",\"flesh\",\"passion\",\"sooth\",\"understandeth\",\"alway\",\"ahimelech\",\"justly\",\"desart\",\"respecting\",\"rent\",\"fairly\",\"groaning\",\"convince\",\"balm\",\"beau\",\"writing\",\"merari\",\"manxman\",\"triumphs\",\"gait\",\"fearless\",\"fortinbras\",\"zoar\",\"knightley\",\"yards\",\"prophet\",\"superior\",\"jay\",\"depths\",\"scruples\",\"thread\",\"againe\",\"grew\",\"gingerbread\",\"rulers\",\"fort\",\"alert\",\"certaine\",\"oblige\",\"turtle\",\"deception\",\"lean\",\"gaza\",\"jerusalem\",\"uzza\",\"prejudice\",\"snail\",\"bonds\",\"map\",\"ephron\",\"inhabitant\",\"eastward\",\"situations\",\"lashed\",\"geba\",\"carelessness\",\"married\",\"granted\",\"followed\",\"115\",\"bone\",\"prove\",\"arabia\",\"curtains\",\"bunch\",\"straightway\",\"chosen\",\"never\",\"sometimes\",\"plagued\",\"soon\",\"davis\",\"pan\",\"firstfruits\",\"fenced\",\"mechanics\",\"blast\",\"convocation\",\"shuffling\",\"partly\",\"coals\",\"fallen\",\"off\",\"crushed\",\"puts\",\"piano\",\"kin\",\"weare\",\"monotonous\",\"timidly\",\"cuts\",\"horror\",\"empty\",\"scribe\",\"building\",\"priesthood\",\"trusteth\",\"mutiny\",\"payment\",\"brighter\",\"isabella\",\"corpse\",\"accidents\",\"hastening\",\"recollecting\",\"salvation\",\"purposely\",\"figs\",\"effects\",\"sucklings\",\"companies\",\"led\",\"patches\",\"baasha\",\"joke\",\"mask\",\"phantom\",\"resumed\",\"cradle\",\"unhappiness\",\"governess\",\"affairs\",\"15\",\"regularly\",\"diligence\",\"cutting\",\"surprize\",\"cake\",\"brink\",\"camels\",\"channel\",\"proud\",\"--\\\"\",\"loues\",\"evening\",\"_very_\",\"commander\",\"thrill\",\"fix\",\"images\",\"struggled\",\"larkins\",\"intending\",\"96\",\"intellectual\",\"himselfe\",\"chairs\",\"contended\",\"feast\",\"bows\",\"grieve\",\"already\",\"puzzle\",\"interposed\",\"awoke\",\"make\",\"giue\",\"bases\",\"charles\",\"conceal\",\"blow\",\"possible\",\"frightened\",\"claude\",\"blank\",\"confirmed\",\"encamp\",\"thrusting\",\"deceived\",\"wagons\",\"methought\",\"flora\",\"jeduthun\",\"hezekiah\",\"change\",\"redeemed\",\"miss_woodhouse\",\"fainter\",\"doubtfully\",\"narrative\",\"attach\",\"amazed\",\"moabites\",\"spaces\",\"pools\",\"brief\",\"also\",\"slip\",\"lizard\",\"alacrity\",\"curiosity\",\"way\",\"streams\",\"snatch\",\"goshen\",\"loss\",\"binnacle\",\"consternation\",\"between\",\"heber\",\"doesn_t\",\"impossible\",\"tore\",\"breeches\",\"chamberlain\",\"wrapped\",\"watch\",\"obliged\",\"thigh\",\"dazzling\",\"comparing\",\"oppose\",\"affections\",\"highways\",\"receiveth\",\"savoury\",\"sisters\",\"farre\",\"several\",\"gratifying\",\"couldn_t\",\"remarkable\",\"compassionate\",\"multiplied\",\"lowest\",\"shift\",\"drifting\",\"kidd\",\"commodore\",\"struggle\",\"bowls\",\"entering\",\"den\",\"london\",\"!)\",\"nets\",\"workmen\",\"peasants\",\"en\",\"cheerfully\",\"damage\",\"sure\",\"emerald\",\"bards\",\"varying\",\"killeth\",\"anxiety\",\"dire\",\"prince\",\"hard\",\"wear\",\"uriah\",\"casting\",\"posterity\",\"animal\",\"later\",\"common\",\"pursuit\",\"twelfth\",\"unequal\",\"rosincrance\",\"spectators\",\"mines\",\"pondered\",\"feminine\",\"think\",\"blasting\",\"frighted\",\"dreaming\",\"fortress\",\"actor\",\"hunger\",\"sickness\",\"seeketh\",\"fortune\",\"clang\",\"scripture\",\"--\",\"packed\",\"thing\",\"heart\",\"foul\",\"kicked\",\"surrounding\",\"guinea_hen\",\"correctly\",\"emblem\",\"reuenge\",\"tailor\",\"relate\",\"appearing\",\"hauled\",\"fully\",\"drinketh\",\"revolving\",\"tumble\",\"attendants\",\"dungeon\",\"kettle\",\"practise\",\";\\\"\",\"proportion\",\"restore\",\"coat\",\"inhabit\",\"question\",\"102\",\"wound\",\"dim\",\"skirts\",\"brotherly\",\"raised\",\"vex\",\"secretary\",\"records\",\"barrel\",\"vision\",\"masculine\",\"fountain\",\"sweetness\",\"perpendicular\",\"rechab\",\"ruleth\",\"gladness\",\"appears\",\"merchants\",\"bethshemesh\",\"teares\",\"handwriting\",\"remote\",\"withdrawing\",\"mean\",\"thou\",\"synagogue\",\"quicken\",\"motionless\",\"results\",\"ducroix\",\"confine\",\"performed\",\"adventures\",\"quantity\",\"what\",\"clifton\",\"deaf\",\"son\",\"remarks\",\"clothed\",\"assented\",\"commandments\",\"traveller\",\"marrying\",\"rejoice\",\"neighbourhood\",\"afore\",\"tiger\",\"exulting\",\"enterprise\",\"flight\",\"specimen\",\"messiah\",\"point\",\"trusted\",\"meditations\",\"withdrawn\",\"customary\",\"candle\",\"magic\",\"naomi\",\"herbs\",\"thoroughly\",\"burn\",\"farthing\",\"curled\",\"latter\",\"serving\",\"yourselves\",\"redeemer\",\"withall\",\"noonday\",\"headsman\",\".'\",\"more\",\"extraordinary\",\"growled\",\"manhood\",\"upwards\",\"hop\",\"converse\",\"abstain\",\"settle\",\"tide\",\"ceremony\",\"happier\",\"body\",\"rehob\",\"brian\",\"uncircumcision\",\"respectful\",\"alarmed\",\"slope\",\"revolution\",\"struggling\",\"induced\",\"niece\",\"hypocrites\",\"dearest\",\"creature\",\"murderers\",\"polar\",\"black\",\"inquire\",\"michal\",\"nail\",\"state\",\"struggles\",\"denial\",\"bye\",\"umbrella\",\"dispose\",\"persecuted\",\"badgers\",\"rosamond\",\"disparity\",\"celebrate\",\"expected\",\"hannah\",\"bleak\",\"giver\",\"arphaxad\",\"sware\",\"pillars\",\"101\",\"everyone\",\"visible\",\"weake\",\"soever\",\"extreme\",\"temptation\",\"twist\",\"c\",\"continuing\",\"notions\",\"invite\",\"performance\",\"brings\",\"object\",\"goddess\",\"better\",\"vineyard\",\"dignified\",\"lit\",\"answers\",\"limited\",\"broadway\",\"rot\",\"victor\",\"prolong\",\"knew\",\"sway\",\"urgent\",\"gerar\",\"frame\",\"japheth\",\"eliphaz\",\"activity\",\"respected\",\"idols\",\"proverbs\",\"selfishness\",\"groups\",\"report\",\"selected\",\"author\",\"odious\",\"thoughtfully\",\"strife\",\"fright\",\"tumbled\",\"surgeon\",\"spray\",\"pictures\",\"bit\",\"wounds\",\"adorned\",\"6\",\"sockets\",\"37\",\"bidding\",\"elder\",\"eli\",\"pigeons\",\"showers\",\"care\",\"habits\",\"sire\",\"dublin\",\"yojo\",\"this\",\"jeroboam\",\"traitors\",\"gipsies\",\"maidservant\",\"berkeley\",\"seldom\",\"least\",\"fears\",\"killed\",\"attraction\",\"family\",\"nearest\",\"chamberlains\",\"condemn\",\"cursing\",\"amber\",\"ramadan\",\"jeopardy\",\"mothers\",\"lightness\",\"do\",\"speed\",\"propose\",\"securing\",\"globe\",\"thief\",\"thereunto\",\"beaten\",\"saw\",\"fighting\",\"network\",\"spices\",\"pyrrhus\",\"lightly\",\"abel\",\"vouchsafe\",\"mamma\",\"getting\",\"straitened\",\"brut\",\"watery\",\"enters\",\"prospects\",\"sometime\",\"blush\",\"befall\",\"diminish\",\"doves\",\"industrious\",\"millions\",\"dagda\",\"lived\",\"loves\",\"september\",\"row\",\"got\",\"merchandise\",\"beat\",\"newly\",\"maaseiah\",\"coal\",\"influence\",\"highland\",\"nothing\",\"crooked\",\"setteth\",\"passages\",\"neighbouring\",\"elephants\",\"jethro\",\"conventional\",\"sodom\",\"humor\",\"bani\",\"surrender\",\"felt\",\"homely\",\"proper\",\"sharing\",\"cars\",\"libnah\",\"title\",\"mrs_ferrars\",\"politely\",\"villagers\",\"demanding\",\"hearken\",\"scissors\",\"palaces\",\"charge\",\"sigh\",\"relish\",\"uttermost\",\"flee\",\"fifty\",\"chinese\",\"acknowledged\",\"shakes\",\"saluted\",\"judah\",\"works\",\"ropes\",\"print\",\"greasy\",\"absorbed\",\"castles\",\"hamor\",\"flye\",\"backsliding\",\"lantern\",\"chap\",\"rotten\",\"prudent\",\"nevertheless\",\"greek\",\"vane\",\"dashing\",\"mr\",\"discretion\",\"ascending\",\"megiddo\",\"thinke\",\"cleave\",\"purposed\",\"strangest\",\"vertue\",\")--\",\"seventh\",\"preserved\",\"luxurious\",\"slack\",\"formidable\",\"vengeance\",\"devonshire\",\"mr_knightley\",\"involved\",\"use\",\"ordinances\",\"caprice\",\"guilt\",\"generals\",\"passengers\",\"pomegranates\",\"wedded\",\"power\",\"chained\",\"derive\",\"otto\",\"doubtful\",\"bethel\",\"lambs\",\"northward\",\"trench\",\"stands\",\"poems\",\"ferrars\",\"omri\",\"autumn\",\"perhaps\",\"colour\",\"jair\",\"faced\",\"reigneth\",\"sussex\",\"stronger\",\"cicero\",\"father_brown\",\"oppressed\",\"written\",\"constant\",\"senate\",\"our\",\"spring\",\"iniquities\",\"sides\",\"raises\",\"glimmering\",\"mistake\",\"trespasses\",\"season\",\"grinding\",\"attain\",\"rimmon\",\"induce\",\"smite\",\"questioning\",\"defence\",\"virginity\",\"hearth\",\"quarrel\",\"subtle\",\"holes\",\"kissed\",\"woven\",\"assigned\",\"feudal\",\"praying\",\"passions\",\"drift\",\"cause\",\"rigid\",\"lately\",\"creatures\",\"----\\\"\",\"linked\",\"fin\",\"entereth\",\"schoolboy\",\"jehoiachin\",\"kidron\",\"12\",\"108\",\"contributed\",\"cole\",\"food\",\"brass\",\"usage\",\"worshippers\",\"introduce\",\"mr_elliot\",\"stirre\",\"elinor\",\"child\",\"forbid\",\"embarrassment\",\"scarcely\",\"banquet\",\"sabbaths\",\"miss_dashwood\",\"tidings\",\"fancying\",\"cows\",\"vice\",\"exhort\",\"wholesome\",\"wisedome\",\"affectionately\",\"precisely\",\"nebo\",\"deprived\",\"pewter\",\"obey\",\"curate\",\"beg\",\"mistress\",\"list\",\"design\",\"purged\",\"calculated\",\"genteel\",\"arithmetic\",\"quarrelling\",\"occasions\",\"catching\",\"flat\",\"armourbearer\",\"adversity\",\"entirely\",\"howbeit\",\"persuasion\",\"musing\",\"scuttle\",\"strikes\",\"homeward\",\"philistines\",\"lunch\",\"d\",\"ward\",\"merely\",\"imaginary\",\"receive\",\"baptism\",\"causeth\",\"peaceable\",\"lame\",\"darting\",\"cups\",\"captivity\",\"angrily\",\"fireside\",\"sinking\",\"rays\",\"honour\",\"instruments\",\"erect\",\"customer\",\"guile\",\"go\",\"bursting\",\"ordered\",\"pierce\",\"fires\",\"won_t\",\"jephunneh\",\"glancing\",\"outs\",\"immense\",\"brim\",\"promoted\",\"chapel\",\"field\",\"truly\",\"eternity\",\"reckoning\",\"sorts\",\"hadarezer\",\"plump\",\"mechanically\",\"mink\",\"false\",\"mock_turtle\",\"formed\",\"enquiries\",\"slanting\",\"boards\",\"howling\",\"library\",\"joys\",\"begged\",\"surprized\",\"lusts\",\"nourishment\",\"seemed\",\"reputation\",\"gravel\",\"display\",\"orator\",\"verdant\",\"baked\",\"winthrop\",\"mirror\",\"desiring\",\"confinement\",\"thou_shalt\",\"ex\",\"officer\",\"gathering\",\"disappeared\",\"sapphire\",\"vp\",\"throne\",\"terrors\",\"perplexed\",\"smallridge\",\"pooley\",\"happiness\",\"hardened\",\"bread\",\"eager\",\"eagerly\",\"mizpah\",\"zacharias\",\"lets\",\"eyeing\",\"nightmare\",\"handed\",\"spencer\",\"brutish\",\"conspired\",\"breathing\",\"sir_arthur\",\"fingers\",\"smiling\",\"members\",\"suspected\",\"circumstances\",\"actual\",\"real\",\"mournful\",\"crossing\",\"javan\",\"undaunted\",\"creep\",\"boasting\",\"loosed\",\"buckler\",\"courage\",\"trust\",\"insomuch\",\"sing\",\"valour\",\"unnamed\",\"throes\",\"orb\",\"beaming\",\"staid\",\"largely\",\"handsome\",\"colors\",\"forsake\",\"stopped\",\"ivory\",\"grape\",\"la\",\"sealed\",\"enemy\",\"suppressed\",\"henrietta\",\"pooh\",\"thousands\",\"native\",\"bitter\",\"cloud\",\"such\",\"fashioned\",\"clearer\",\"stockings\",\"leaden\",\"impenetrable\",\"forbids\",\"rests\",\"shopkeeper\",\"victim\",\"contention\",\"harpers\",\"speaketh\",\"wafted\",\"forty_years\",\"part\",\"repeatedly\",\"enemies\",\"previously\",\"cedars\",\"frogs\",\"sand\",\"travail\",\"filling\",\"floated\",\"nelson\",\"view\",\"protested\",\"shocked\",\"church\",\"comparative\",\"9\",\"crops\",\"gain\",\"scarlet\",\"good_natured\",\"realm\",\"particulars\",\"greedy\",\"disappearing\",\"fifteenth\",\"tend\",\"solemnly\",\"holidays\",\"improvements\",\"poison\",\"although\",\"warmed\",\"amram\",\"condemnation\",\"measuring\",\"contemplation\",\"among\",\"sepulchre\",\"standing\",\"detail\",\"bates\",\"shunned\",\"spies\",\"injustice\",\"builders\",\"ease\",\"negligent\",\"authors\",\"forgave\",\"understood\",\"savages\",\"horrors\",\"mr_woodhouse\",\"sarai\",\"strictly\",\"idle\",\"baths\",\"envied\",\"weak\",\"bath\",\"insane\",\"musick\",\"maimed\",\"grateful\",\"leonora\",\"fanshaw\",\"picking\",\"jeiel\",\"breasts\",\"imprudence\",\"wasted\",\"herself\",\"company\",\"weapons\",\"president\",\"disputing\",\"inn\",\"crab\",\"dreadful\",\"favour\",\"hoops\",\"frosty\",\"builded\",\"eldest\",\"atmosphere\",\"vigil\",\"christian\",\"beauties\",\"macd\",\"revived\",\"remembering\",\"difficult\",\"reed\",\"policy\",\"shortly\",\"hal\",\"energetic\",\"spend\",\"slew\",\"gulf\",\"proclaim\",\"scratching\",\"annual\",\"grin\",\"shrouded\",\"candour\",\"nimble\",\"martyrs\",\"seeing\",\"iscariot\",\"e\",\"ferry\",\"moss\",\"earth\",\"knave\",\"clothing\",\"built\",\"relieve\",\"uppercross\",\"doings\",\"resisted\",\"quit\",\"see\",\"device\",\"flags\",\"blessings\",\"nethaniah\",\"that\",\"brute\",\"brahmin\",\"singularly\",\"destined\",\"losing\",\"ugly\",\"lifeless\",\"yearning\",\"aaron\",\"pennants\",\"glory\",\"shutters\",\"crotch\",\"cease\",\"weaver\",\"goats\",\"disturbed\",\"work\",\"abihu\",\"manna\",\"bondage\",\"trees\",\"wink\",\"throwing\",\"their\",\"mingled\",\"apologies\",\"chasing\",\"naples\",\"trout\",\"gershom\",\"dangerous\",\"thought\",\"alteration\",\"threats\",\"usually\",\"council\",\"ground\",\"fulfil\",\"deserves\",\"mordecai\",\"despiseth\",\"governors\",\"prison\",\"31\",\"habitual\",\"soldier\",\"questions\",\"approaching\",\"proposals\",\"peace\",\"deepe\",\"instruct\",\"answer\",\"tops\",\"declined\",\"runs\",\"stage\",\"feather\",\"dodo\",\"spreadeth\",\"dome\",\"guards\",\"mirth\",\"players\",\"age\",\"noise\",\"overhead\",\"committed\",\"balak\",\"furnish\",\"steering\",\"cloak\",\"reserved\",\"sinai\",\"bears\",\"meantime\",\"reflecting\",\"seriously\",\"ungodly\",\"parlour\",\"shameful\",\"caesarea\",\"enjoy\",\"thump\",\"sobbing\",\"attained\",\"tenderly\",\"latitudes\",\"winter\",\"effect\",\"voluntarily\",\"seventeen\",\"pile\",\"astern\",\"shimei\",\"cabman\",\"withered\",\"lawful\",\"bespoke\",\"buoyant\",\"saidst\",\"evil\",\"opposed\",\"century\",\"magnitude\",\"plantation\",\"weston\",\"lions\",\"berries\",\"nailed\",\"attitude\",\"glittering\",\"uneasiness\",\"seamen\",\"old\",\"earnestly\",\"tophet\",\"dearer\",\"north\",\"appearances\",\"kindle\",\"possession\",\"carnal\",\"landlady\",\"foundation\",\"sown\",\"laer\",\"few\",\"us\",\"resolving\",\"fancies\",\"sawest\",\"welded\",\"apple\",\"ornan\",\"instantly\",\"soules\",\"ophir\",\"following\",\"came\",\"scoresby\",\"shone\",\"hose\",\"harps\",\"ninety\",\"mounted\",\"takest\",\"machine\",\"elevated\",\"nostrils\",\"knots\",\"deaths\",\"manly\",\"recovered\",\"lad\",\"pollute\",\"major\",\"ghastly\",\"assume\",\"babylon\",\"xi\",\"lives\",\"offer\",\"illness\",\"mail\",\"decisive\",\"magnificent\",\"crest\",\"ammihud\",\"accuse\",\"words\",\"zeruiah\",\"ample\",\"lose\",\"crawl\",\"lessons\",\"archers\",\"dubious\",\"sting\",\"sinners\",\"artificial\",\"gardener\",\"impression\",\"class\",\"there\",\"misery\",\"improvement\",\"chiefly\",\"fearing\",\"sensible\",\"damascus\",\"voluntary\",\"attachment\",\"immortal\",\"attend\",\"travellers\",\"related\",\"respectability\",\"despite\",\"breaches\",\"frequented\",\"sought\",\"egg\",\"nicely\",\"familiar\",\"muscari\",\"lakeman\",\"eh\",\"widows\",\"rich\",\"gale\",\"essential\",\"sky\",\"agitation\",\"introduction\",\"beseech\",\"walls\",\"step\",\"flashed\",\"berechiah\",\"roof\",\"topic\",\"tempting\",\"senses\",\"incline\",\"horns\",\"published\",\"\\\";\",\"judgment\",\"cheerful\",\"passes\",\"lies\",\"abiram\",\"promote\",\"many\",\"spout\",\"drunk\",\"pitiable\",\"carving\",\"jasper\",\"shouldn\",\"seeds\",\"wherewith\",\"stolen\",\"octavo\",\"mist\",\"nigh\",\"blaze\",\"hurriedly\",\"defied\",\"teaching\",\"resolved\",\"strangely\",\"away\",\"decidedly\",\"staying\",\"proceedeth\",\"seeme\",\"69\",\"silenced\",\"graves\",\"nightingale\",\"waxed\",\"baal\",\"brushed\",\"dusk\",\"brawny\",\"musicke\",\"free\",\"across\",\"wild\",\"entered\",\"speeches\",\"macb\",\"tribes\",\"walks\",\"pensive\",\"samaria\",\"74\",\"commonly\",\"ship\",\"accounts\",\"educated\",\"ahead\",\"spirit\",\"strangled\",\"bullet\",\"grounds\",\"were\",\"aimed\",\"slowly\",\"establishment\",\"fought\",\"threshold\",\"personal\",\"strove\",\"we\",\"neighbours\",\"stop\",\"whales\",\"communed\",\"forehead\",\"which\",\"elsewhere\",\"harden\",\"eloquence\",\"exceeding\",\"treasures\",\"avail\",\"finery\",\"nice\",\"manasseh\",\"during\",\"else\",\"seals\",\"trap\",\"pantry\",\"afford\",\"believes\",\".)\",\"towns\",\"innumerable\",\"gilt\",\"purity\",\"project\",\"envelope\",\"knights\",\"expose\",\"forever\",\"wiser\",\"guild\",\"need\",\"tails\",\"infancy\",\"hagar\",\"always\",\"meat\",\"burs\",\"laborers\",\"addition\",\"aram\",\"maintain\",\"haired\",\"whence\",\"musket\",\"shriek\",\"was\",\"whistle\",\"boil\",\"devoureth\",\"parade\",\"sojourned\",\"peradventure\",\"handle\",\"notice\",\"upper\",\"tail\",\"force\",\"ethereal\",\"signs\",\"exit\",\"passage\",\"footsteps\",\"madest\",\"pouring\",\"searched\",\"marches\",\"lordship\",\"quaker\",\"dedan\",\"reeds\",\"jesus\",\"dwelt\",\"deck\",\"counsels\",\"unleavened_bread\",\"uncover\",\"monomaniac\",\"little_jackal\",\"remaliah\",\"richly\",\"gazed\",\"befell\",\"fame\",\"zelia\",\"unpardonable\",\"incense\",\"thieves\",\"heauens\",\"naturalists\",\"thanks\",\"decreed\",\"yard\",\"car\",\"hardship\",\"brandon\",\"sideways\",\"forget\",\"observed\",\"timothy\",\"blubber\",\"129\",\"controversy\",\"cigarette\",\"briers\",\"conference\",\".--\",\"hateful\",\"thane\",\"revenge\",\"bidden\",\"musgrove\",\"shrink\",\"displeasure\",\"retired\",\"trivial\",\"glided\",\"bulk\",\"consequence\",\"endured\",\"foolish\",\"eliab\",\"likened\",\"shame\",\"amnon\",\"vain\",\"por\",\"oakly\",\"zebah\",\"steele\",\"excuses\",\"doubted\",\"jack\",\"blunt\",\"jehoshaphat\",\"tragic\",\"wastes\",\"towing\",\"rehoboam\",\"dinah\",\"lilac\",\"sorrows\",\"throw\",\"hazor\",\"ours\",\"collect\",\"feared\",\"garrison\",\"governments\",\"ahimaaz\",\"confidence\",\"spectacles\",\"overtook\",\"slain\",\"january\",\"shepherd\",\"younger\",\"r\",\"admire\",\"tulip\",\"pallid\",\"defeated\",\"wholly\",\"lurking\",\"nobles\",\"distinction\",\"counsellors\",\"joppa\",\"picked\",\"dough\",\"faltering\",\"lamp\",\"procured\",\"convulsive\",\"arranged\",\"subjects\",\"echoing\",\"princes\",\"seduced\",\"bloody\",\"folio\",\"substitute\",\"amen\",\"balcony\",\"recalled\",\"invitation\",\"slaughter\",\"seemes\",\"leavened\",\"wiping\",\"drought\",\"ends\",\"bottles\",\"forgetting\",\"feelings\",\"islands\",\"condition\",\"forbear\",\"troublesome\",\"anyhow\",\"hashabiah\",\"sleeping\",\"equal\",\"suddenly\",\"amends\",\"haile\",\"apply\",\"raspberry\",\"joint\",\"limbs\",\"adding\",\"charade\",\"perizzites\",\"breathed\",\"coward\",\"broke\",\"saviour\",\"inhabitants\",\"barbs\",\"reference\",\"cattle\",\"errors\",\"honours\",\"grasping\",\"absorbing\",\"shepherds\",\"eliakim\",\"expect\",\"presumption\",\"peddler\",\"folly\",\"ensue\",\"verie\",\"begins\",\"emma\",\"attacks\",\"seethe\",\"hastened\",\"flaming\",\"coast\",\"provoking\",\"oreb\",\"_the\",\"youngest\",\"gezer\",\"teacheth\",\"maybe\",\"repast\",\"ay\",\"beach\",\"baptized\",\"graven\",\"gloomily\",\"dagger\",\"owned\",\"jericho\",\"resting\",\"scene\",\"simon\",\"56\",\"containing\",\"petty\",\"defiance\",\"malicious\",\"desirable\",\"cannibal\",\"assembly\",\"fill\",\"obligation\",\"towers\",\"whomsoever\",\"retorted\",\"ire\",\"sour\",\"conscientious\",\"envelop\",\"insolence\",\"flaw\",\"queer\",\"languid\",\"belong\",\"leprosy\",\"parsonage\",\"shoe\",\"poetical\",\"lieth\",\"conspiracy\",\"hand\",\"richer\",\"worlds\",\"ordained\",\"lucy\",\"newest\",\"waved\",\"keep\",\"wharf\",\"altars\",\"duchess\",\"lo\",\"listened\",\"warp\",\"uncertain\",\"advantages\",\"determine\",\"belly\",\"fatal\",\"plough\",\"ask\",\"extravagance\",\"urge\",\"ludgate\",\"illustration\",\"meadow\",\"engaged\",\"obviously\",\"luc\",\"strip\",\"events\",\"dearth\",\"suckling\",\"octa\",\"gulls\",\"restless\",\"amorites\",\"markets\",\"corridor\",\"opposing\",\"rough\",\"mourned\",\"troubleth\",\"apostles\",\"then\",\"killing\",\"disengaged\",\"flowers\",\"moisture\",\"morrow\",\"tap\",\"motion\",\"...\",\"burneth\",\"yawned\",\"resort\",\"thames\",\"please\",\"putting\",\"brisk\",\"tell\",\"patiently\",\"lacked\",\"shower\",\"give\",\"affliction\",\"nameless\",\"hasted\",\"sternly\",\"avast\",\"hushai\",\"feels\",\"plums\",\"jump\",\"spiritual\",\"flames\",\"lawrence\",\"deal\",\"inquiries\",\"turk\",\"snatching\",\"fellows\",\"furniture\",\"inform\",\"brace\",\"honor\",\"joseph\",\"examining\",\"discover\",\"good\",\"ambassador\",\"dine\",\"open\",\"resume\",\"conceited\",\"experience\",\"shallum\",\"paced\",\"infinite\",\"pain\",\"spoil\",\"vitality\",\"minde\",\"farmer_brown\",\"bashan\",\"humoured\",\"hark\",\"plate\",\"gibeah\",\"sullen\",\"talks\",\"tete\",\"wee_l\",\"eat\",\"reproaches\",\"magicians\",\"bathed\",\"abbey\",\"godliness\",\"jotham\",\"grass\",\"impassive\",\"aft\",\"striding\",\"assistance\",\"labourers\",\"rivals\",\"daniel\",\"x\",\"hedges\",\"moth\",\"streaming\",\"rods\",\"swift\",\"thundering\",\"motives\",\"interrupted\",\"wrecks\",\"tablets\",\"insensible\",\"train\",\"60\",\"concubines\",\"isolated\",\"treasuries\",\"abated\",\"certain\",\"dreams\",\"secure\",\"lakes\",\"seconds\",\"babes\",\",--\\\"\",\"shouted\",\"sacrifices\",\"mammy\",\"hivites\",\"gaping\",\"tolerable\",\"distribute\",\"moustache\",\"silent\",\"barns\",\"apples\",\"confession\",\"changing\",\"rubbing\",\"99\",\"rifles\",\"entreat\",\"hospitable\",\"gigantic\",\"leap\",\"inevitable\",\"submission\",\"bodies\",\"will\",\"hideth\",\"metal\",\"sleepe\",\"bringing\",\"hasn\",\"dismay\",\"bethuel\",\"shooting\",\"supernatural\",\"carefully\",\"expenses\",\"discussion\",\"comfortable\",\"consideration\",\"forcibly\",\"cautious\",\"bruised\",\"suggested\",\"gestures\",\"making\",\"46\",\"parcel\",\"leak\",\"tender\",\"freely\",\"sunset\",\"abednego\",\"eternally\",\"using\",\"seal\",\"tied\",\"conflict\",\"wrong\",\"possess\",\"ant\",\"room\",\"turkey\",\"gathereth\",\"sign\",\"first\",\"calmer\",\"wont\",\"heap\",\"seventeenth\",\"restaurant\",\"slay\",\"held\",\"crawling\",\"often\",\"forts\",\"informed\",\"separate\",\"embraces\",\"stool\",\"notes\",\"ahaziah\",\"letter\",\"hastily\",\"horses\",\"signal\",\"chaos\",\"paying\",\"anointing\",\"revive\",\"shaking\",\"virtue\",\"schoolroom\",\"exhausted\",\"humane\",\"strongly\",\"useful\",\"leviathans\",\"instrument\",\"hart\",\"scales\",\"outstretched\",\"toes\",\"laughed\",\"artaxerxes\",\"graces\",\"sammy\",\"strive\",\"tube\",\"impatiently\",\"desolations\",\"timber\",\"surging\",\"pressure\",\"insult\",\"green\",\"forked\",\"assumed\",\"ways\",\"fertile\",\"syllable\",\"embarrassed\",\"blessed\",\"fierce\",\"camest\",\"remaineth\",\"prints\",\"spell\",\"deep\",\"founded\",\"spit\",\"perform\",\"parallel\",\"muse\",\"ohio\",\"removal\",\"villars\",\"pots\",\"irritated\",\"exultation\",\"spouting\",\"purposes\",\"tempted\",\"uppermost\",\"enjoying\",\"hawk\",\"landscape\",\"thomas\",\"foretold\",\"bestowed\",\"exclamations\",\"gloomy\",\"shown\",\"chimney\",\"victory\",\"mystical\",\"smiteth\",\"everybody\",\"wheeler\",\"sane\",\"sent\",\"accomplished\",\"eve\",\"incessant\",\"drink\",\"inmost\",\"downward\",\"groan\",\"maids\",\"treacherously\",\"hinder\",\"ridiculous\",\"rebel\",\"stayed\",\"access\",\"convert\",\"stared\",\"anywhere\",\"dollars\",\"masks\",\"pump\",\"sleet\",\"smell\",\"audacious\",\"tarshish\",\"21\",\"...\\\"\",\"friendship\",\"79\",\"bowels\",\"scholars\",\"bewildered\",\"without_blemish\",\"ammonite\",\"swung\",\"needlework\",\"souls\",\"inconvenience\",\"recommended\",\"engravings\",\"drooping\",\"manhattan\",\"destroyer\",\"stuck\",\"penance\",\"gertrude\",\"terrible\",\"stated\",\"awkwardness\",\"weaving\",\"knop\",\"attorney\",\"sung\",\"sex\",\"pies\",\"august\",\"disciple\",\"lodgings\",\"both\",\"dark\",\"over\",\"preferred\",\"arch\",\"hum\",\"according\",\"guiltless\",\"acknowledgment\",\"beget\",\"delay\",\"solomon\",\"shape\",\"week\",\"twined\",\"flashes\",\"reared\",\"whereunto\",\"robbed\",\"tendency\",\"motive\",\"111\",\"opportunities\",\"rattling\",\"sport\",\"rib\",\"famous\",\"purify\",\"beareth\",\"helmet\",\"sir_walter\",\"salad\",\"about\",\"tumultuous\",\"visage\",\"incalculable\",\"dismal\",\"extremity\",\"orchards\",\"achish\",\"thank\",\"disdain\",\"elastic\",\"vanish\",\"tooth\",\"proposed\",\"order\",\"master\",\"sister\",\"dust\",\"carlo\",\"resolution\",\"tries\",\"communication\",\"hirsch\",\"jehoiada\",\"deeds\",\"revolutionary\",\"haran\",\"flush\",\"singing\",\"jem\",\"debir\",\"genius\",\"manifold\",\"knock\",\"pleases\",\"consulting\",\"herein\",\"stops\",\"travel\",\"stores\",\"whisper\",\"despise\",\"bringeth\",\"slept\",\"jeshua\",\"twelve\",\"knit\",\"rejoiceth\",\"devise\",\"support\",\"hyssop\",\"meaning\",\"accident\",\"gates\",\"judging\",\"modern\",\"war\",\"windsor\",\"chalk\",\"obstinate\",\"garden\",\"fluttering\",\"mane\",\"fairies\",\"shady\",\"spreads\",\"asaph\",\"wrought\",\"slighted\",\"lounging\",\"rock\",\"asahel\",\"companions\",\"gains\",\"bugles\",\"verdure\",\"knowes\",\"heauen\",\"ham\",\"business\",\"morality\",\"curiously\",\"tug\",\"purchase\",\"jehoahaz\",\"hallowed\",\"mayest\",\"steak\",\"original\",\"waiteth\",\"genial\",\"answering\",\"larks\",\"surprise\",\"delicacy\",\"sir\",\"crack\",\"floating\",\"lifetime\",\"discovered\",\"indignation\",\"west\",\"unmoved\",\"fishers\",\"bard\",\"bodily\",\"reach\",\"vale\",\"ahikam\",\"miriam\",\"ankle\",\"as\",\"sober\",\"river\",\"puppy\",\"seeks\",\"bargain\",\"truths\",\"upward\",\"look\",\"fist\",\"effectual\",\"cast\",\"furious\",\"romance\",\"accompanying\",\"dream\",\"emerging\",\"cannon\",\"whoredom\",\"acquired\",\"sharks\",\"resplendent\",\"near\",\"ethiopia\",\"bonnet\",\"feel\",\"smiles\",\"circumstance\",\"swiftly\",\"lurks\",\"beings\",\"bridge\",\"rate\",\"lances\",\"62\",\"10\",\"tortoise\",\"torches\",\"solitude\",\"base\",\"enmity\",\"reproach\",\"obvious\",\"alabama\",\"shaft\",\"wrapt\",\"sun\",\"superb\",\"insulted\",\"conclude\",\"bought\",\"iv\",\"tirzah\",\"flax\",\"southward\",\"infidel\",\"helmsman\",\"ball\",\"charlotte\",\"blowing\",\"gazing\",\"weakness\",\"handfuls\",\"colouring\",\"defile\",\"condemned\",\"bristol\",\"bullocks\",\"hearts\",\"gift\",\"impressions\",\"borders\",\"situated\",\"ix\",\"indulged\",\"lighting\",\"likely\",\"mercies\",\"confused\",\"achaia\",\"disposition\",\"call\",\"sustained\",\"pervert\",\"mizpeh\",\"heareth\",\"unsuspected\",\"lend\",\"music\",\"social\",\"arose\",\"shelemiah\",\"hast\",\"rural\",\"presented\",\"natural\",\"subjection\",\"vine\",\"shekel\",\"displeased\",\"ringing\",\"wavering\",\"filled\",\"pigeon\",\"winged\",\"voyce\",\"124\",\"helpe\",\"risen\",\"knife\",\"whereof\",\"forlorn\",\"orphans\",\"comes\",\"nether\",\"hunter\",\"countrymen\",\"scarce\",\"blunder\",\"pie\",\"violets\",\"moab\",\"increase\",\"wandering\",\"diligent\",\"slid\",\"lost\",\"stammered\",\"duty\",\"bear\",\"kohathites\",\"not\",\"wouldest\",\"rustic\",\"strength\",\"fade\",\"iudgement\",\"previous\",\"older\",\"frenchman\",\"gun\",\"damp\",\"louisa\",\"filthy\",\"torment\",\"torn\",\"evolution\",\"possibility\",\"chuse\",\"apollos\",\"derick\",\"whilst\",\"justify\",\"fanny\",\"strawberries\",\"130\",\"full\",\"fatherless\",\"loue\",\"being\",\"south\",\"henry\",\"damages\",\"sped\",\"intensity\",\"teeth\",\"oppressors\",\"waxen\",\"sore\",\"unluckily\",\"intreat\",\"brake\",\"vanities\",\"musical\",\"inspector\",\"trains\",\"looketh\",\"rams\",\"issue\",\"waistcoat\",\"bearded\",\"anguish\",\"lungs\",\"local\",\"requires\",\"philippi\",\"attentions\",\"77\",\"filigree\",\"debt\",\"unless\",\"endureth\",\"fowl\",\"echo\",\"pumps\",\"means\",\"perseus\",\"front\",\"belief\",\"dull\",\"laid\",\"23\",\"universal\",\"--,\",\"accusation\",\"spoiled\",\"evildoers\",\"refused\",\"despised\",\"kareah\",\"street\",\"ironical\",\"hanani\",\"day\",\"discomfited\",\"thereon\",\"usual\",\"convenient\",\"hospital\",\"l\",\"donwell\",\"spoke\",\"squares\",\"marched\",\"terrified\",\"resolute\",\"conjectures\",\"crucified\",\"comforts\",\"erred\",\"aurora\",\"oblation\",\"beginnings\",\"coming\",\"zerubbabel\",\"rounding\",\"spoon\",\"willing\",\"calling\",\"imposed\",\"sights\",\"watches\",\"drank\",\"transition\",\"jealousy\",\"salted\",\"superiority\",\"woe\",\"driven\",\"luck\",\"_not_\",\"unawares\",\"pushed\",\"decided\",\"machinery\",\"wages\",\"chaises\",\"masts\",\"foes\",\"fulfilled\",\"melon\",\"prophetic\",\"produced\",\"reluctant\",\"starboard\",\"heave\",\"meant\",\"march\",\"rake\",\"gentle\",\"preach\",\"peculiarly\",\"easily\",\"madness\",\"exists\",\"bearer\",\"violent\",\"liers\",\"mightiest\",\"prize\",\"dwellest\",\"hen\",\"wrinkled\",\"occur\",\"shelah\",\"incurable\",\"thirteen\",\"cost\",\"mistaken\",\"pretend\",\"observation\",\"forgive\",\"shaven\",\"trace\",\"eyesight\",\"susan\",\"ashdod\",\"?\\\"\",\"impalpable\",\"giveth\",\"nation\",\"burglar\",\"psaltery\",\"foolishly\",\"sey\",\"thrones\",\"passing\",\"death\",\"laden\",\"enjoyment\",\"continued\",\"dares\",\"blot\",\"horn\",\"drest\",\"past\",\"combined\",\"marvelled\",\"afloat\",\"tent\",\"abram\",\"steed\",\"cheat\",\"perdition\",\"obscured\",\"hail\",\"weariness\",\"trailing\",\"openeth\",\"rush\",\"tossing\",\"behave\",\"choking\",\"notion\",\"picture\",\"doctors\",\"expressing\",\"meanest\",\"blinked\",\"caska\",\"jealous\",\"beheld\",\"assyria\",\"root\",\"office\",\"redemption\",\"mama\",\"pastures\",\"single\",\"exceed\",\"touched\",\"yoke\",\"fairy\",\"spent\",\"ploughing\",\"climb\",\"accursed\",\"corners\",\"follows\",\"harley\",\"morbid\",\"eighth\",\"twopence\",\"heir\",\"pulled\",\"strolled\",\"sweepers\",\"didn_t\",\"reclining\",\"hewn\",\"mrs_musgrove\",\"alliance\",\"combe\",\"hidden\",\"jabeshgilead\",\"147\",\"aching\",\"suspicious\",\"threshingfloor\",\"hutton\",\"exertion\",\"travels\",\"hid\",\"continual\",\"intelligible\",\"willingly\",\"eighty\",\"foe\",\"incident\",\"exeter\",\"distinguish\",\"sincerely\",\"walter\",\"aha\",\"again\",\"right\",\"sands\",\"praised\",\"dashwoods\",\"private\",\"remark\",\"you\",\"tossed\",\"tasted\",\"god\",\"understanding\",\"wretched\",\"hook\",\"dancing\",\"seeth\",\"regions\",\"thy\",\"demands\",\"rivers\",\"intent\",\"helm\",\"cherubims\",\"beetle\",\"bethlehem\",\"legged\",\"mephibosheth\",\"hat\",\"hateth\",\"axis\",\"straitly\",\"when\",\"busy\",\"141\",\"inviting\",\"perpetually\",\"engrossed\",\"worldly\",\"creepeth\",\"headed\",\"city\",\"labour\",\"deals\",\"reprove\",\"hiding\",\"_me_\",\"partakers\",\"turn\",\"fits\",\"betty\",\"ammonites\",\"wouldst\",\"vpon\",\"times\",\"study\",\"sticking\",\"partaker\",\"beam\",\"necessarily\",\"seed\",\"breastplate\",\"sang\",\"--(\",\"nethaneel\",\"deceit\",\"beautiful\",\"ehud\",\"appetite\",\"slumber\",\"canaanites\",\"assemble\",\"daring\",\"readiness\",\"recall\",\"quench\",\"type\",\"lovers\",\"kindest\",\"iniquity\",\"fishing\",\"folk\",\"feares\",\"paved\",\"liar\",\"fuss\",\"selfsame\",\"ethiopian\",\"glowed\",\"peril\",\"snare\",\"infirmity\",\"bondmen\",\"rolled\",\",)\",\"weave\",\"paths\",\"double\",\"ark\",\"windward\",\"debate\",\"echoes\",\"arming\",\"cowards\",\"!'\",\"wonted\",\"beor\",\"psalm\",\"deem\",\"onyx\",\"145\",\"nod\",\"wonders\",\"john\",\"news\",\"mob\",\"approached\",\"daybreak\",\"key\",\"blocks\",\"very\",\"grave\",\"covetous\",\"only\",\"defeat\",\"trail\",\"giues\",\"lying\",\"assurances\",\"midianites\",\"poore\",\"poor\",\"w\",\"calls\",\"bethlehemjudah\",\"girl\",\"intercession\",\"pashur\",\"approve\",\"prospect\",\"blue\",\"measures\",\"masse\",\"correct\",\"abound\",\"governor\",\"cigars\",\"pharisees\",\"martins\",\"aside\",\"receives\",\"commonplace\",\"boat\",\"knees\",\"bachelor\",\"period\",\"drive\",\"transgressions\",\"pack\",\"england\",\"shoals\",\"muttering\",\"around\",\"seats\",\"thickly\",\"lust\",\"macnab\",\"direful\",\"credit\",\"advice\",\"idiot\",\"differently\",\"hammered\",\"observations\",\"electric\",\"dame\",\"hats\",\"despair\",\"driver\",\"sisera\",\"grant\",\"regular\",\"met\",\"springs\",\"106\",\"affection\",\"gloom\",\"equator\",\"buildings\",\"born\",\"club\",\"european\",\"house\",\"swell\",\"inspire\",\"riotous\",\"pursuing\",\"attack\",\"innocent\",\"mantle\",\"curseth\",\"unworthy\",\"childless\",\"detain\",\"bru\",\",--\",\"abrupt\",\"morter\",\"tides\",\"recover\",\"yankee\",\"labouring\",\"worms\",\"lodge\",\"51\",\"stubb\",\"papa\",\"lasting\",\"goings\",\"thicker\",\"bough\",\"_him_\",\"gentleness\",\"land\",\"contrivances\",\"suspecting\",\"increasing\",\"small\",\"doth\",\"dresses\",\"feeling\",\"concealing\",\"stood\",\"treasure\",\"phrases\",\"said\",\"maintained\",\"hazael\",\"landing\",\"plunging\",\"shade\",\"at\",\"morning\",\"drums\",\"peace_offerings\",\"wag\",\"china\",\"paul\",\"pardon\",\"ceases\",\"jupiter\",\"injury\",\"locks\",\"verily\",\"proving\",\"pause\",\"rapidity\",\"hoist\",\"bert\",\"jane_fairfax\",\"waist\",\"unbelief\",\"harbour\",\"ziph\",\"lobster\",\"wolf\",\"prevailed\",\"osr\",\"noises\",\"alien\",\"hurt\",\"complain\",\"lane\",\"vales\",\"betray\",\"dissolved\",\"adieu\",\"witty\",\"pistol\",\"stoned\",\"boldly\",\").\",\"queen\",\"jazer\",\"take\",\"whalemen\",\"poured\",\"gentiles\",\"mouths\",\"emerge\",\"bottle\",\"concerning\",\"uncomfortable\",\"appease\",\"selfe\",\"pitcher\",\"human\",\"mentioned\",\"courteous\",\"facts\",\"peculiarities\",\"couch\",\"heaviness\",\"instructed\",\"107\",\"crowns\",\"rebellion\",\"mistakes\",\"measure\",\"longer\",\"burned\",\"beset\",\"population\",\"underneath\",\"fraud\",\"whirlwind\",\"swallowed\",\"followers\",\"faults\",\"fashionable\",\"fig_tree\",\"jew\",\"mr_weston\",\"correspondence\",\"orchard\",\"slower\",\"carbuncle\",\"cedar\",\"weigh\",\"bloom\",\"virtuous\",\"managed\",\"wickedly\",\"appointment\",\"baronet\",\"load\",\"entertained\",\"sub\",\"54\",\"suffering\",\"ascend\",\"sendeth\",\"shilling\",\"cheap\",\"commanded\",\"sovran\",\"presumed\",\"viii\",\"potent\",\"jar\",\"earnest\",\"drops\",\"chorus\",\"life\",\"generations\",\"instance\",\"outside\",\"lick\",\"leader\",\"impudence\",\"dishes\",\"system\",\"satisfaction\",\"songs\",\"gorgeous\",\"casteth\",\"unaccountable\",\"gaue\",\"apparel\",\"aspiring\",\"happy\",\"troubled\",\"blushing\",\"ishbosheth\",\"desolate\",\"mimic\",\"excited\",\"civilly\",\"commotion\",\"'--\",\"secret\",\"alas\",\"eccentric\",\"customers\",\"tobacco\",\"poureth\",\"wave\",\"accused\",\"new\",\"blind\",\"wake\",\"acquainted\",\"mast_heads\",\"greeting\",\"valleys\",\"rage\",\"commune\",\"stony\",\"branch\",\"majesty\",\"denying\",\"visions\",\"cultivated\",\"imperial\",\"strode\",\"indulge\",\"precise\",\"nursing\",\"pope\",\"ordinance\",\"distinguishing\",\"starved\",\"convinced\",\"wrath\",\"ruling\",\"nancy\",\").--\",\"breast\",\"place\",\"formal\",\"snug\",\"hundred\",\"post\",\"entertaining\",\"thickness\",\"lightning\",\"liken\",\"guernsey\",\"lull\",\"fragrant\",\"destroyed\",\"damn\",\"maketh\",\"wit\",\"fur\",\"till\",\"ignorant\",\"principle\",\"event\",\"hairs\",\"scatter\",\"pausing\",\"stead\",\"dip\",\"fair\",\"quiver\",\"dusky\",\"hasten\",\"rend\",\"perverseness\",\"bench\",\"minds\",\"almonds\",\"year\",\"ye\",\"beloved\",\"experiment\",\"permit\",\"degrees\",\"arrangement\",\"on\",\"fairest\",\"frank\",\"acceptance\",\"maiden\",\"compact\",\"assyrians\",\"push\",\"bundle\",\"tenderness\",\"respect\",\"gravity\",\"sons\",\"broth\",\"gentlemanlike\",\"prejudices\",\"scotchman\",\"prisoners\",\"explains\",\"charts\",\"recognition\",\"retreated\",\"mannahatta\",\"gad\",\"acquit\",\"nathan\",\"lain\",\"brotherhood\",\"honeycomb\",\"perisheth\",\"clover\",\"tonight\",\"wert\",\"character\",\"promotion\",\"spotted\",\"ladyship\",\"scourge\",\"drawings\",\"sprinkle\",\"compared\",\"baruch\",\"white\",\"meetings\",\"departure\",\"neuer\",\"colourless\",\"whereat\",\"tobiah\",\"presently\",\"unpleasant\",\"exciting\",\"affected\",\"wisely\",\"cask\",\"sweare\",\"proceedings\",\"jackal\",\"stride\",\"art\",\"th\",\"109\",\"offerings\",\"rugged\",\"inwards\",\"sudden\",\"nakedness\",\"edmund\",\"esteem\",\"tomahawk\",\"perseverance\",\"pierced\",\"18\",\"temples\",\"adultery\",\"foursquare\",\"foot\",\"wars\",\"vial\",\"stem\",\"fortnight\",\"dalroy\",\"nervous\",\"chain\",\"continuous\",\"olives\",\"silently\",\"stern\",\"robert\",\"yelled\",\"states\",\"fountains\",\"situation\",\"adoration\",\"memory\",\"progeny\",\"warrant\",\"vnder\",\"excessively\",\"contribute\",\"livid\",\"books\",\"sanguine\",\"banished\",\"reverence\",\"statue\",\"downwards\",\"regrets\",\"pindarus\",\"y\",\"lave\",\"simeon\",\"alehouse\",\"christians\",\"contact\",\"years\",\"basons\",\"battles\",\"flowed\",\"madam\",\"tones\",\"avoiding\",\"court\",\"beef\",\"reapers\",\"fortunate\",\"begge\",\"lou\",\"extend\",\"encountered\",\"imagination\",\"gaily\",\"finish\",\"cane\",\"parables\",\"coasts\",\"types\",\"anything\",\"nearly\",\"parchment\",\"jagged\",\"shemaiah\",\"attended\",\"colt\",\"ingenious\",\"refrained\",\"lachish\",\"sighted\",\"convict\",\"bible\",\"leaue\",\"sixpence\",\"visits\",\"peering\",\"plaister\",\"disposed\",\"property\",\"clothe\",\"beguiled\",\"metellus\",\"pulpit\",\"soap\",\"having\",\"continent\",\"rebekah\",\"some\",\"capernaum\",\"sinner\",\"hoshea\",\"crimson\",\"explosion\",\"ii\",\"adonijah\",\"hold\",\"buffalo\",\"creeds\",\"usury\",\"venture\",\"besiege\",\"belteshazzar\",\"breadth\",\"believed\",\"packthread\",\"entire\",\"exertions\",\"deity\",\"meditate\",\"mortification\",\"shortened\",\"scale\",\"yet\",\"pervading\",\"benevolent\",\"armed\",\"wharves\",\"lunatics\",\"loved\",\"scream\",\"contrived\",\"destruction\",\"watchman\",\"chemistry\",\"hunters\",\"unlike\",\"plight\",\"philip\",\"latent\",\"wishing\",\"staves\",\"artist\",\"literal\",\"ghost\",\"begin\",\"shittim\",\"morn\",\"porch\",\"funeral\",\"goody\",\"commandment\",\"pinch\",\"maidservants\",\"bed\",\"county\",\"stoop\",\"wisest\",\"apartments\",\"american\",\"abruptly\",\"jeroham\",\"bless\",\"peg\",\"natured\",\"daggoo\",\"meete\",\"manners\",\"pitying\",\"opens\",\"grinned\",\"randalls\",\"26\",\"twas\",\"unable\",\"difficulties\",\"hartfield\",\"helpless\",\"teacher\",\"captain_benwick\",\"surrounded\",\"opera\",\"?)\",\"seeke\",\"worse\",\"growths\",\"mariners\",\"lined\",\"stuff\",\"ramah\",\"butterfly\",\"hare\",\"apology\",\"firmament\",\"pilots\",\"entreaty\",\"crossed\",\"hanging\",\"descent\",\"chart\",\"remind\",\"alarming\",\"lessened\",\"sending\",\"associations\",\"emerged\",\"foremost\",\"palm\",\"pattern\",\"allow\",\"japan\",\"size\",\"hills\",\"withstand\",\"cotton\",\"columbia\",\"jewels\",\"oceans\",\"cheers\",\"fool\",\"loins\",\"stairs\",\"fortunately\",\"aye\",\"waiter\",\"severe\",\"pipes\",\"conqueror\",\"pearls\",\"wipe\",\"bruise\",\"bad\",\"ability\",\"formerly\",\"tackles\",\"forth\",\"earthly\",\"execute\",\"chains\",\"far\",\"reproved\",\"content\",\"wonderful\",\"le\",\"shaggy\",\"someone\",\"discouraged\",\"november\",\"challenge\",\"squire\",\"chose\",\"italy\",\"trunk\",\"earnestness\",\"asylum\",\"strengthen\",\"green_forest\",\"mortified\",\"organ\",\"choosing\",\"clean\",\"shared\",\"added\",\"thyself\",\"ice\",\"voyages\",\"glories\",\"interests\",\"hearse\",\"overflowing\",\"flukes\",\"varied\",\"animals\",\"iii\",\"perverse\",\"--'\",\"seraphim\",\"muffled\",\"expedient\",\"gat\",\"gave\",\"pleased\",\"professions\",\"turnbull\",\"philistine\",\"equally\",\"timotheus\",\"middle\",\"instantaneous\",\"oftentimes\",\"opponent\",\"hoppity\",\"amid\",\"sink\",\"taken\",\"comprehended\",\"alarm\",\"excess\",\"stooped\",\"seruice\",\"sanctuary\",\"article\",\"untold\",\"taller\",\"braue\",\"profile\",\"philosophy\",\"latitude\",\"hewed\",\"last\",\"dixon\",\"hands\",\"conceived\",\"aloud\",\"manned\",\"reasons\",\"knee\",\"avenged\",\"manage\",\"consist\",\"sadducees\",\"currents\",\"disperse\",\"flourished\",\"stillness\",\"awaked\",\"practically\",\"mixed\",\"loaded\",\"pirates\",\"bars\",\"doctrine\",\"word\",\"walke\",\"rung\",\"crying\",\"perry\",\"abroad\",\"diamond\",\"gray\",\"let\",\"oversight\",\"pequod\",\"closer\",\"dare\",\"raspberries\",\"try\",\"shushan\",\"oblong\",\"moderation\",\"loud\",\"shoots\",\"therefore\",\"mightest\",\"ahitub\",\"tribe\",\"skirt\",\"horizon\",\"boundless\",\"tarts\",\"chariots\",\"hinnom\",\"elemental\",\"magistrates\",\"maid\",\"wanting\",\"forward\",\"six_hundred\",\"faint\",\"moons\",\"ineffable\",\"meane\",\"fluid\",\"ruled\",\"walking\",\"pound\",\"blameless\",\"argument\",\"draught\",\"roast\",\"names\",\"gird\",\"characteristic\",\"share\",\"chocolate\",\"departed\",\"staggering\",\"drawer\",\"rows\",\"cases\",\"stake\",\"branches\",\"blown\",\"difference\",\"paws\",\"blazing\",\"passed\",\"treasury\",\"evermore\",\"witnessed\",\"abiathar\",\"curly\",\"equality\",\"bertha\",\"timid\",\"deliverance\",\"notwithstanding\",\"tyrus\",\"tabor\",\"limit\",\"tow\",\"conviction\",\"clay\",\"factories\",\"thereto\",\"serpent\",\"er\",\"colonel\",\"reflected\",\"foreheads\",\"leopard\",\"certainty\",\"inspired\",\"venison\",\"v\",\"immortality\",\"throng\",\"goods\",\"silence\",\"alike\",\"indisposition\",\"beer\",\"plucked\",\"murmur\",\"harry\",\"thoughtful\",\"consciousness\",\"forefront\",\"heardest\",\"42\",\"damned\",\"bildad\",\"shark\",\"evident\",\"wingfield\",\"shouts\",\"seyward\",\"seen\",\"briefly\",\"murther\",\"affectation\",\"slightest\",\"struck\",\"interchange\",\"additional\",\"truck\",\"remaining\",\"heed\",\"dug\",\"mischief\",\"chief\",\"bela\",\"malc\",\"oven\",\"calamity\",\"exist\",\"flag\",\"anak\",\"dissatisfied\",\"wedding\",\"improving\",\"tongs\",\"awaiting\",\"exerted\",\"overtake\",\"dawn\",\"planned\",\"round\",\"moue\",\"shudder\",\"slaves\",\"spoons\",\"fields\",\"low\",\"highly\",\"attribute\",\"vocation\",\"thirst\",\"wore\",\"uzziah\",\"elton\",\"quick\",\"sacrificed\",\"commenced\",\"board\",\"artillery\",\"submit\",\"dived\",\"thinkest\",\"fret\",\"butcher\",\"wreck\",\"tongue\",\"tyranny\",\"orange\",\"advanced\",\"request\",\"realized\",\"swelling\",\"hair\",\"ornaments\",\"joshua\",\"learnt\",\"group\",\"telescope\",\"sit\",\"satan\",\"sinned\",\"sling\",\"spar\",\"facing\",\"anger\",\"doubtless\",\"advance\",\"proceeded\",\"monkey\",\"expensive\",\"augment\",\"prepare\",\"sergeant\",\"atlantic\",\"turne\",\"grandfather\",\"twentieth\",\"churchills\",\"um\",\"parliament\",\"contend\",\"scented\",\"opposite\",\"mitre\",\"nose\",\"efforts\",\"sweat\",\"joash\",\"scheme\",\"de_grey\",\"chest\",\"amusing\",\"casks\",\"wherefore\",\"your\",\"speaker\",\"plays\",\"mac\",\"like\",\"offered\",\"pitch\",\"paces\",\"39\",\"offended\",\"justification\",\"drinke\",\"macbeth\",\"confessing\",\"suspended\",\"assuming\",\"island\",\"bedford\",\"playhouse\",\"die\",\"titus\",\"interior\",\"oarsmen\",\"\\\"--\",\"latest\",\"nonsense\",\"richmond\",\"armes\",\"threescore\",\"did\",\"loudly\",\"twice\",\"amminadab\",\"burying\",\"ending\",\"enjoyed\",\"typical\",\"balls\",\"ser\",\"judaea\",\"humbled\",\"jolly\",\"equity\",\"shining\",\"performing\",\"seek\",\"steward\",\"snap\",\"heathen\",\"fixing\",\"practice\",\"kisses\",\"rapid\",\"associates\",\"bathsheba\",\"liable\",\"overthrow\",\"increased\",\"weeping\",\"miss_taylor\",\"sweet\",\"fever\",\"fence\",\"residue\",\"haue\",\"model\",\"foresee\",\"pudding\",\"abomination\",\"other\",\"elishama\",\"israel\",\"eruption\",\"resurrection\",\"impossibility\",\"hall\",\"frog\",\"damsel\",\"reflections\",\"objections\",\"touching\",\"readily\",\"leather\",\"february\",\"read\",\"carcases\",\"pursued\",\"rumour\",\"hoofs\",\"forcing\",\"secrecy\",\"winepress\",\"internal\",\"sleepers\",\"announcing\",\"groping\",\"vault\",\"memories\",\"screamed\",\"studying\",\"town\",\"marquis\",\"civility\",\"noisy\",\"created\",\"cousin\",\"operation\",\"charitable\",\"jokes\",\"weep\",\"barabbas\",\"weaned\",\"elihu\",\"madman\",\"amused\",\"indignant\",\"rash\",\"spasm\",\"dainty\",\"omnibus\",\"persia\",\"australia\",\"named\",\"harm\",\"burning\",\"faces\",\"triumphant\",\"sojourn\",\"villaine\",\"pride\",\"64\",\"attract\",\"mass\",\"carol\",\"nature\",\"shout\",\"upright\",\"heman\",\"committeth\",\"esaias\",\"greatest\",\"profound\",\"wants\",\"hadad\",\"linen\",\"dozen\",\"each\",\"fossils\",\"communicate\",\"kedesh\",\"awe\",\"desireth\",\"judge\",\"charity\",\"bowing\",\"net\",\"search\",\"needle\",\"influenced\",\"basket\",\"ashamed\",\"kish\",\"thus\",\"resina\",\"market\",\"hatch\",\"neighbour\",\"providence\",\"centuries\",\"m\",\"anybody\",\"covet\",\"stole\",\"whiteness\",\"practicable\",\"dyed\",\"caps\",\"leaving\",\"azariah\",\"pharaoh\",\"benwick\",\"mile\",\"abimelech\",\"occurrence\",\"nineveh\",\"snatched\",\"praising\",\"?'\",\"numbers\",\"hurled\",\"godly\",\"gilead\",\"anoint\",\";--\",\"rosse\",\"divideth\",\"asks\",\"delivered\",\"whichever\",\"planting\",\"finest\",\"proposal\",\"drives\",\"ransom\",\"army\",\"sadly\",\"boast\",\"discerned\",\"breeding\",\"fancied\",\"doubting\",\"positively\",\"afar_off\",\"excepting\",\"wife\",\"pond\",\"unknown\",\"speedily\",\"rub\",\"appoint\",\"found\",\"weaker\",\"judas\",\"feasts\",\"huram\",\"pretence\",\"suit\",\"intelligence\",\"tower\",\"thereof\",\"uncleanness\",\"melodious\",\"than\",\"warmly\",\"discovery\",\"decision\",\"brigands\",\"ardour\",\"ships\",\"burnt\",\"fuel\",\"dan\",\"balaam\",\"unnecessary\",\"lecture\",\"reflect\",\"_she_\",\"waited\",\"rule\",\"daylight\",\"hem\",\"forgot\",\"heightened\",\"remarked\",\"harpooneers\",\"beersheba\",\"opposition\",\"hero\",\"halfpenny\",\"hide\",\"yielding\",\"trying\",\"cassi\",\"villa\",\"proprietor\",\"harp\",\"diverse\",\"yacht\",\"amidst\",\"blew\",\"election\",\"commit\",\"really\",\"cordial\",\"careless\",\"millo\",\"contradiction\",\"consulted\",\"berth\",\"sensation\",\"clapped\",\"polite\",\"gibeon\",\"plates\",\"dread\",\"monday\",\"furnished\",\"reigns\",\"congregation\",\"beds\",\"benhadad\",\"63\",\"great\",\"afflictions\",\"haughty\",\"inasmuch\",\"canst\",\"german\",\"vessels\",\"interruption\",\"british\",\"naaman\",\"edom\",\"corkscrew\",\"pleasures\",\"carpet\",\"suffice\",\"hurrah\",\"beard\",\"half\",\"champagne\",\"nethinims\",\"hesitated\",\"betwixt\",\"empyreal\",\"grinning\",\"zephaniah\",\"problem\",\"canaan\",\"o\",\"***\",\"waked\",\"indifference\",\"spear\",\"enterprize\",\"dash\",\"colossal\",\"entry\",\"united\",\"heaped\",\"shattered\",\"journeyed\",\"satisfied\",\"projecting\",\"inner\",\"appear\",\"privately\",\"heroes\",\"sacks\",\"face\",\"toward\",\"owl\",\"navy\",\"lady\",\"speeding\",\"naked\",\"cumberland\",\"settled\",\"guil\",\"kine\",\"carried\",\"genealogies\",\"peaceably\",\"preacher\",\"contented\",\"illustrious\",\"goat\",\"moon\",\"eight\",\"capable\",\"hate\",\"unconscious\",\"quest\",\"flock\",\"egyptians\",\"modesty\",\"uzzi\",\"sorrow\",\"hee\",\"flies\",\"hush\",\"concealed\",\"betweene\",\"exploring\",\"noticed\",\"all\",\"doubt\",\"destroy\",\"italian\",\"elijah\",\"accommodation\",\"cordiality\",\"cart\",\"enter\",\"accepting\",\"canoe\",\"supreme\",\"disagreeable\",\"whiskers\",\"considerable\",\"begging\",\"therewith\",\"handful\",\"civilization\",\"whip\",\"bunger\",\"rollaround\",\"hysterics\",\"lesson\",\"faster\",\"cells\",\"serious\",\"chin\",\"swaying\",\"chariot\",\"113\",\"stupidity\",\"swifter\",\"opened\",\"descried\",\"duel\",\"chased\",\"big\",\"landlord\",\"expressed\",\"infants\",\"mee\",\"eton\",\"terror\",\"happened\",\"guide\",\"fluttered\",\"extensive\",\"whithersoever\",\"plains\",\"jerubbaal\",\"meal\",\"gunpowder\",\"talb\",\"speedy\",\"bullock\",\"bequeath\",\"wives\",\"bab\",\"wreathen\",\"texas\",\"anarchy\",\"little\",\"beneath\",\"matches\",\"smelling\",\"rounded\",\"swayed\",\"proverb\",\"crowne\",\"stays\",\"straw\",\"wicked\",\"looks\",\"friendliness\",\"moreover\",\"liars\",\"barren\",\"quicker\",\"regarded\",\"82\",\"lingering\",\"palmer\",\"swim\",\"sunk\",\"grandeur\",\"heavier\",\"explained\",\"twisting\",\"saving\",\"division\",\"pail\",\"stumble\",\"travelled\",\"leading\",\"overcometh\",\"permission\",\".,\",\"mire\",\"before\",\"bar\",\"hailed\",\"frankincense\",\"numberless\",\"material\",\"indispensable\",\"luxury\",\"ithamar\",\"greefe\",\"established\",\"revelation\",\"repose\",\"pick\",\"aroer\",\"mightier\",\"therein\",\"refreshed\",\"hearted\",\"given\",\"score\",\"slaine\",\"actus\",\"sighing\",\"brilliant\",\"battering\",\"unanimous\",\"vacant\",\"elderly\",\"drawn\",\"acorn\",\"sails\",\"central\",\"dukes\",\"tithe\",\"rais\",\"intellect\",\"jonas\",\"guess\",\"yesterday\",\"unwillingness\",\"pronounce\",\"asa\",\"skeleton\",\"tashtego\",\"gloves\",\"blacksmith\",\"brick\",\"cared\",\"squeeze\",\"cards\",\"drama\",\"sporting\",\"any\",\"perth\",\"chair\",\"probably\",\"banners\",\"endeavouring\",\"ports\",\"argued\",\"police\",\"high_places\",\"brush\",\"rational\",\"comrade\",\"protest\",\"nearer\",\"frank_churchill\",\"larboard\",\"wondrous\",\"fantastic\",\"refuge\",\"happily\",\"unwelcome\",\"shalt\",\"citizen\",\"vulgar\",\"alice\",\"principal\",\"smith\",\"clearing\",\"haman\",\"homer\",\"countless\",\"bird\",\"humour\",\"development\",\"organs\",\"centurion\",\"kingdom\",\"symptoms\",\"alms\",\"altogether\",\"summons\",\"page\",\"scorning\",\"scornful\",\"idleness\",\"ensign\",\"basin\",\"agitated\",\"drab\",\"112\",\"trifle\",\"cornelius\",\"sees\",\"displayed\",\"wait\",\"paid\",\"droll\",\"after\",\"miss\",\"believe\",\"36\",\"posture\",\"downright\",\"cities\",\"centre\",\"torch\",\"howled\",\"terms\",\"thanking\",\"quietly\",\"uncovered\",\"curses\",\"ended\",\"continue\",\"suggest\",\"donkey\",\"tremble\",\"movement\",\"countries\",\"game\",\"55\",\"divination\",\"uses\",\"everywhere\",\"been\",\"clearness\",\"cruising\",\"who\",\"interpret\",\"prophesy\",\"ink\",\"hostile\",\"wilt\",\"coin\",\"baskets\",\"highbury\",\"follow\",\"portia\",\"yes\",\"scotcher\",\"indescribable\",\"probable\",\"provoke\",\"conclusion\",\"longitude\",\"bewilderment\",\"sighs\",\"amoz\",\"philosopher\",\"sufficiently\",\"frighten\",\"butter\",\"soothe\",\"random\",\"cousins\",\"arnon\",\"curved\",\"eminent\",\"blinding\",\"breeze\",\"marvellous\",\"establish\",\"kindred\",\"lament\",\"dealt\",\"reflectively\",\"draweth\",\"obed\",\"token\",\"molten\",\"behaved\",\"whaleman\",\"capstan\",\"studied\",\"mainmast\",\"honors\",\"abigail\",\"quickness\",\"quaint\",\"trades\",\"biggest\",\"brunswick\",\"stately\",\"shamed\",\"walketh\",\"suppose\",\"desires\",\"burne\",\"footman\",\"realities\",\"provoked\",\"wrist\",\"requite\",\"mrs_jennings\",\"gold\",\"broken\",\"december\",\"glare\",\"desirous\",\"blossom\",\"possibly\",\"heated\",\"highnesse\",\"feasting\",\"counting\",\"thousand_pounds\",\"gown\",\"nahor\",\"caesar\",\"spirits\",\"amorite\",\"tiny\",\"conceive\",\"obeying\",\"hang\",\"45\",\"eventually\",\"elsa\",\"college\",\"writes\",\"dried\",\"mrs\",\"gathered\",\"depend\",\"palace\",\"temperate\",\"roots\",\"architecture\",\"decline\",\"rightly\",\"sow\",\"clad\",\"manifest\",\"withheld\",\"combination\",\"towards\",\"favourite\",\"shirley\",\"bend\",\"wing\",\"intimately\",\"don\",\"slayer\",\"wept\",\"calleth\",\"lift\",\"loaves\",\"mrs_theresa\",\"immediate\",\"angles\",\"unfortunately\",\"resign\",\"quarter\",\"deficiency\",\"hoisted\",\"swamp\",\"mists\",\"owning\",\"highway\",\"track\",\"finger\",\"epaminondas\",\"profession\",\"loathsome\",\"retain\",\"resolutely\",\"coins\",\"abuse\",\"crimes\",\"conspirators\",\"francisco\",\"panic\",\"tenant\",\"bee\",\"sect\",\"noble\",\"plans\",\"brutus\",\"forecastle\",\"anah\",\"john_knightley\",\"ceasing\",\"image\",\"reap\",\"sayings\",\"divine\",\"touch\",\"sweep\",\"dealeth\",\"raw\",\"screwed\",\"draw\",\"inquiring\",\"wool\",\"execution\",\"deeper\",\"stones\",\"tearing\",\"direction\",\"imagining\",\"jehoash\",\"flocks\",\"book\",\"barak\",\"oath\",\"grow\",\"benaiah\",\"emotions\",\"troops\",\"eglon\",\"convey\",\"creating\",\"beginning\",\"thunders\",\"lightfoot\"],\"x_offset\":{\"__ndarray__\":\"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\",\"dtype\":\"float32\",\"order\":\"little\",\"shape\":[5000]},\"y_offset\":{\"__ndarray__\":\"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\",\"dtype\":\"float32\",\"order\":\"little\",\"shape\":[5000]}},\"selected\":{\"id\":\"1256\"},\"selection_policy\":{\"id\":\"1257\"}},\"id\":\"1234\",\"type\":\"ColumnDataSource\"},{\"attributes\":{\"text_alpha\":{\"value\":0.1},\"text_color\":{\"value\":\"black\"},\"x_offset\":{\"field\":\"x_offset\"},\"y_offset\":{\"field\":\"y_offset\"}},\"id\":\"1236\",\"type\":\"Text\"},{\"attributes\":{},\"id\":\"1220\",\"type\":\"PanTool\"},{\"attributes\":{\"overlay\":{\"id\":\"1226\"}},\"id\":\"1222\",\"type\":\"BoxZoomTool\"}],\"root_ids\":[\"1203\"]},\"title\":\"Bokeh Application\",\"version\":\"2.1.1\"}};\n",
              "  var render_items = [{\"docid\":\"43012add-d4f1-44d7-a244-a553beb4eb33\",\"root_ids\":[\"1203\"],\"roots\":{\"1203\":\"d17e2171-5079-4498-a8db-d8b518ea3ca5\"}}];\n",
              "  root.Bokeh.embed.embed_items_notebook(docs_json, render_items);\n",
              "\n",
              "  }\n",
              "  if (root.Bokeh !== undefined) {\n",
              "    embed_document(root);\n",
              "  } else {\n",
              "    var attempts = 0;\n",
              "    var timer = setInterval(function(root) {\n",
              "      if (root.Bokeh !== undefined) {\n",
              "        clearInterval(timer);\n",
              "        embed_document(root);\n",
              "      } else {\n",
              "        attempts++;\n",
              "        if (attempts > 100) {\n",
              "          clearInterval(timer);\n",
              "          console.log(\"Bokeh: ERROR: Unable to run BokehJS code because BokehJS library is missing\");\n",
              "        }\n",
              "      }\n",
              "    }, 10, root)\n",
              "  }\n",
              "})(window);"
            ],
            "application/vnd.bokehjs_exec.v0+json": ""
          },
          "metadata": {
            "tags": [],
            "application/vnd.bokehjs_exec.v0+json": {
              "id": "1203"
            }
          }
        }
      ]
    }
  ]
}