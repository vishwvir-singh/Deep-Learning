{
  "nbformat": 4,
  "nbformat_minor": 0,
  "metadata": {
    "colab": {
      "name": "convolutional_sentiment_classifier.ipynb",
      "provenance": [],
      "authorship_tag": "ABX9TyPU2H+Kig1O2mDTPRMe51ca",
      "include_colab_link": true
    },
    "kernelspec": {
      "name": "python3",
      "display_name": "Python 3"
    },
    "accelerator": "GPU"
  },
  "cells": [
    {
      "cell_type": "markdown",
      "metadata": {
        "id": "view-in-github",
        "colab_type": "text"
      },
      "source": [
        "<a href=\"https://colab.research.google.com/github/vishwvir-singh/DeepLearningForNLP/blob/main/convolutional_sentiment_classifier.ipynb\" target=\"_parent\"><img src=\"https://colab.research.google.com/assets/colab-badge.svg\" alt=\"Open In Colab\"/></a>"
      ]
    },
    {
      "cell_type": "code",
      "metadata": {
        "id": "xJKSundHHP1j"
      },
      "source": [
        "import pandas as pd\n",
        "import numpy as np\n",
        " \n",
        "import tensorflow as tf\n",
        "from tensorflow.keras.datasets import imdb\n",
        "from tensorflow.keras.preprocessing.sequence import pad_sequences\n",
        "from tensorflow.keras.models import Sequential\n",
        "from tensorflow.keras.layers import Dense, Dropout, Conv1D, SpatialDropout1D, GlobalMaxPooling1D\n",
        "from tensorflow.keras.layers import Embedding\n",
        "\n",
        "from tensorflow.keras.callbacks import ModelCheckpoint\n",
        "\n",
        "import matplotlib.pyplot as plt\n",
        "from sklearn.metrics import roc_auc_score\n"
      ],
      "execution_count": 2,
      "outputs": []
    },
    {
      "cell_type": "code",
      "metadata": {
        "id": "NE0yDecoTQy5"
      },
      "source": [
        "####Parameters\n",
        "\n",
        "#Output Dir\n",
        "output_dir = 'sentiment_classifier/conv'\n",
        "\n",
        "#Training\n",
        "epoch = 4\n",
        "batch_size = 128\n",
        "\n",
        "#vector space encoding\n",
        "emb_dim = 64\n",
        "n_unquie_num = 5000\n",
        "max_sent_lenght = 400\n",
        "pad_type = trunc_type = 'pre'\n",
        "drop_emb = 0.2\n",
        "\n",
        "# convolutional layer architecture:\n",
        "n_conv = 256 # filters, a.k.a. kernels\n",
        "k_conv = 3 # kernel length\n",
        "\n",
        "# dense layer architecture: \n",
        "n_dense = 256\n",
        "dropout = 0.2"
      ],
      "execution_count": 3,
      "outputs": []
    },
    {
      "cell_type": "code",
      "metadata": {
        "colab": {
          "base_uri": "https://localhost:8080/"
        },
        "id": "29e89ZcVYtsg",
        "outputId": "b428871d-c430-4e46-ad1f-c0d45e0eaa95"
      },
      "source": [
        "import os\n",
        "if not os.path.exists(output_dir):\n",
        "    os.makedirs(output_dir)\n",
        "    print(\"Folder created successfully !!!\")\n",
        "os.chdir(output_dir)\n",
        "print('Path == {}  and ListDir == {}'.format(os.getcwd(),os.listdir()))"
      ],
      "execution_count": 13,
      "outputs": [
        {
          "output_type": "stream",
          "text": [
            "Path == /content/sentiment_classifier/conv/sentiment_classifier/conv  and ListDir == ['weights.04.hdf5', 'weights.01.hdf5', 'weights.02.hdf5', 'weights.03.hdf5']\n"
          ],
          "name": "stdout"
        }
      ]
    },
    {
      "cell_type": "code",
      "metadata": {
        "colab": {
          "base_uri": "https://localhost:8080/"
        },
        "id": "HJRqu9o_aH3S",
        "outputId": "8b254cb3-9744-42be-cfb2-246dcdbffc2f"
      },
      "source": [
        "(x_train, y_train), (x_valid, y_valid) = imdb.load_data(\n",
        "    num_words=n_unquie_num\n",
        ")"
      ],
      "execution_count": 5,
      "outputs": [
        {
          "output_type": "stream",
          "text": [
            "Downloading data from https://storage.googleapis.com/tensorflow/tf-keras-datasets/imdb.npz\n",
            "17465344/17464789 [==============================] - 0s 0us/step\n"
          ],
          "name": "stdout"
        },
        {
          "output_type": "stream",
          "text": [
            "<string>:6: VisibleDeprecationWarning: Creating an ndarray from ragged nested sequences (which is a list-or-tuple of lists-or-tuples-or ndarrays with different lengths or shapes) is deprecated. If you meant to do this, you must specify 'dtype=object' when creating the ndarray\n",
            "/usr/local/lib/python3.6/dist-packages/tensorflow/python/keras/datasets/imdb.py:159: VisibleDeprecationWarning: Creating an ndarray from ragged nested sequences (which is a list-or-tuple of lists-or-tuples-or ndarrays with different lengths or shapes) is deprecated. If you meant to do this, you must specify 'dtype=object' when creating the ndarray\n",
            "  x_train, y_train = np.array(xs[:idx]), np.array(labels[:idx])\n",
            "/usr/local/lib/python3.6/dist-packages/tensorflow/python/keras/datasets/imdb.py:160: VisibleDeprecationWarning: Creating an ndarray from ragged nested sequences (which is a list-or-tuple of lists-or-tuples-or ndarrays with different lengths or shapes) is deprecated. If you meant to do this, you must specify 'dtype=object' when creating the ndarray\n",
            "  x_test, y_test = np.array(xs[idx:]), np.array(labels[idx:])\n"
          ],
          "name": "stderr"
        }
      ]
    },
    {
      "cell_type": "code",
      "metadata": {
        "colab": {
          "base_uri": "https://localhost:8080/"
        },
        "id": "dK0rIEPoaH50",
        "outputId": "84d30469-8a8f-4d2d-a505-de6629d7459b"
      },
      "source": [
        "print(x_train[0])\n",
        "print(y_train[0])"
      ],
      "execution_count": 6,
      "outputs": [
        {
          "output_type": "stream",
          "text": [
            "[1, 14, 22, 16, 43, 530, 973, 1622, 1385, 65, 458, 4468, 66, 3941, 4, 173, 36, 256, 5, 25, 100, 43, 838, 112, 50, 670, 2, 9, 35, 480, 284, 5, 150, 4, 172, 112, 167, 2, 336, 385, 39, 4, 172, 4536, 1111, 17, 546, 38, 13, 447, 4, 192, 50, 16, 6, 147, 2025, 19, 14, 22, 4, 1920, 4613, 469, 4, 22, 71, 87, 12, 16, 43, 530, 38, 76, 15, 13, 1247, 4, 22, 17, 515, 17, 12, 16, 626, 18, 2, 5, 62, 386, 12, 8, 316, 8, 106, 5, 4, 2223, 2, 16, 480, 66, 3785, 33, 4, 130, 12, 16, 38, 619, 5, 25, 124, 51, 36, 135, 48, 25, 1415, 33, 6, 22, 12, 215, 28, 77, 52, 5, 14, 407, 16, 82, 2, 8, 4, 107, 117, 2, 15, 256, 4, 2, 7, 3766, 5, 723, 36, 71, 43, 530, 476, 26, 400, 317, 46, 7, 4, 2, 1029, 13, 104, 88, 4, 381, 15, 297, 98, 32, 2071, 56, 26, 141, 6, 194, 2, 18, 4, 226, 22, 21, 134, 476, 26, 480, 5, 144, 30, 2, 18, 51, 36, 28, 224, 92, 25, 104, 4, 226, 65, 16, 38, 1334, 88, 12, 16, 283, 5, 16, 4472, 113, 103, 32, 15, 16, 2, 19, 178, 32]\n",
            "1\n"
          ],
          "name": "stdout"
        }
      ]
    },
    {
      "cell_type": "code",
      "metadata": {
        "id": "JbtINkB7aH-F"
      },
      "source": [
        "x_train = pad_sequences(x_train, maxlen=max_sent_lenght, padding=pad_type, truncating=trunc_type, value=0)\n",
        "x_valid = pad_sequences(x_valid, maxlen=max_sent_lenght, padding=pad_type, truncating=trunc_type, value=0)"
      ],
      "execution_count": 7,
      "outputs": []
    },
    {
      "cell_type": "code",
      "metadata": {
        "colab": {
          "base_uri": "https://localhost:8080/"
        },
        "id": "HBDTTp7faIAC",
        "outputId": "05dda535-18e4-41ab-c07d-fe0dc1645ef6"
      },
      "source": [
        "print(x_train[0])\n",
        "print(y_train[0])"
      ],
      "execution_count": 8,
      "outputs": [
        {
          "output_type": "stream",
          "text": [
            "[   0    0    0    0    0    0    0    0    0    0    0    0    0    0\n",
            "    0    0    0    0    0    0    0    0    0    0    0    0    0    0\n",
            "    0    0    0    0    0    0    0    0    0    0    0    0    0    0\n",
            "    0    0    0    0    0    0    0    0    0    0    0    0    0    0\n",
            "    0    0    0    0    0    0    0    0    0    0    0    0    0    0\n",
            "    0    0    0    0    0    0    0    0    0    0    0    0    0    0\n",
            "    0    0    0    0    0    0    0    0    0    0    0    0    0    0\n",
            "    0    0    0    0    0    0    0    0    0    0    0    0    0    0\n",
            "    0    0    0    0    0    0    0    0    0    0    0    0    0    0\n",
            "    0    0    0    0    0    0    0    0    0    0    0    0    0    0\n",
            "    0    0    0    0    0    0    0    0    0    0    0    0    0    0\n",
            "    0    0    0    0    0    0    0    0    0    0    0    0    0    0\n",
            "    0    0    0    0    0    0    0    0    0    0    0    0    0    0\n",
            "    1   14   22   16   43  530  973 1622 1385   65  458 4468   66 3941\n",
            "    4  173   36  256    5   25  100   43  838  112   50  670    2    9\n",
            "   35  480  284    5  150    4  172  112  167    2  336  385   39    4\n",
            "  172 4536 1111   17  546   38   13  447    4  192   50   16    6  147\n",
            " 2025   19   14   22    4 1920 4613  469    4   22   71   87   12   16\n",
            "   43  530   38   76   15   13 1247    4   22   17  515   17   12   16\n",
            "  626   18    2    5   62  386   12    8  316    8  106    5    4 2223\n",
            "    2   16  480   66 3785   33    4  130   12   16   38  619    5   25\n",
            "  124   51   36  135   48   25 1415   33    6   22   12  215   28   77\n",
            "   52    5   14  407   16   82    2    8    4  107  117    2   15  256\n",
            "    4    2    7 3766    5  723   36   71   43  530  476   26  400  317\n",
            "   46    7    4    2 1029   13  104   88    4  381   15  297   98   32\n",
            " 2071   56   26  141    6  194    2   18    4  226   22   21  134  476\n",
            "   26  480    5  144   30    2   18   51   36   28  224   92   25  104\n",
            "    4  226   65   16   38 1334   88   12   16  283    5   16 4472  113\n",
            "  103   32   15   16    2   19  178   32]\n",
            "1\n"
          ],
          "name": "stdout"
        }
      ]
    },
    {
      "cell_type": "code",
      "metadata": {
        "colab": {
          "base_uri": "https://localhost:8080/"
        },
        "id": "ECtEHFQ8aIFC",
        "outputId": "1a38c6f4-4338-4927-b600-5b2e26a91526"
      },
      "source": [
        "#Model Architecture\n",
        "\n",
        "model = Sequential()\n",
        "model.add(Embedding(input_dim=n_unquie_num, output_dim=emb_dim, input_length=max_sent_lenght))\n",
        "model.add(SpatialDropout1D(drop_emb))\n",
        "\n",
        "model.add(Conv1D(filters=n_conv, kernel_size=k_conv, activation='relu'))\n",
        "model.add(GlobalMaxPooling1D())\n",
        "\n",
        "model.add(Dense(units=n_dense, activation='relu'))\n",
        "model.add(Dropout(dropout))\n",
        "\n",
        "model.add(Dense(units=1, activation='sigmoid'))\n",
        "\n",
        "model.summary()"
      ],
      "execution_count": 9,
      "outputs": [
        {
          "output_type": "stream",
          "text": [
            "Model: \"sequential\"\n",
            "_________________________________________________________________\n",
            "Layer (type)                 Output Shape              Param #   \n",
            "=================================================================\n",
            "embedding (Embedding)        (None, 400, 64)           320000    \n",
            "_________________________________________________________________\n",
            "spatial_dropout1d (SpatialDr (None, 400, 64)           0         \n",
            "_________________________________________________________________\n",
            "conv1d (Conv1D)              (None, 398, 256)          49408     \n",
            "_________________________________________________________________\n",
            "global_max_pooling1d (Global (None, 256)               0         \n",
            "_________________________________________________________________\n",
            "dense (Dense)                (None, 256)               65792     \n",
            "_________________________________________________________________\n",
            "dropout (Dropout)            (None, 256)               0         \n",
            "_________________________________________________________________\n",
            "dense_1 (Dense)              (None, 1)                 257       \n",
            "=================================================================\n",
            "Total params: 435,457\n",
            "Trainable params: 435,457\n",
            "Non-trainable params: 0\n",
            "_________________________________________________________________\n"
          ],
          "name": "stdout"
        }
      ]
    },
    {
      "cell_type": "code",
      "metadata": {
        "id": "LVgapwzgaIGa"
      },
      "source": [
        "model.compile(\n",
        "    optimizer='nadam',\n",
        "    loss='binary_crossentropy',\n",
        "    metrics=['accuracy']\n",
        ")"
      ],
      "execution_count": 10,
      "outputs": []
    },
    {
      "cell_type": "code",
      "metadata": {
        "id": "rPcb5wQzgZ_l"
      },
      "source": [
        "modelcheckpoint=ModelCheckpoint(filepath=output_dir+'/weights.{epoch:02d}.hdf5')"
      ],
      "execution_count": 11,
      "outputs": []
    },
    {
      "cell_type": "code",
      "metadata": {
        "colab": {
          "base_uri": "https://localhost:8080/"
        },
        "id": "d7hofymNaIKv",
        "outputId": "3cd43d15-4d0d-4fe6-f4d2-7dedc4711543"
      },
      "source": [
        "model.fit(x=x_train, y=y_train, \n",
        "          batch_size=batch_size, epochs=epoch, \n",
        "          validation_data=(x_valid, y_valid),\n",
        "          callbacks=[modelcheckpoint])"
      ],
      "execution_count": 12,
      "outputs": [
        {
          "output_type": "stream",
          "text": [
            "Epoch 1/4\n",
            "196/196 [==============================] - 14s 30ms/step - loss: 0.5844 - accuracy: 0.6544 - val_loss: 0.2936 - val_accuracy: 0.8768\n",
            "Epoch 2/4\n",
            "196/196 [==============================] - 5s 28ms/step - loss: 0.2562 - accuracy: 0.8971 - val_loss: 0.2615 - val_accuracy: 0.8920\n",
            "Epoch 3/4\n",
            "196/196 [==============================] - 5s 28ms/step - loss: 0.1685 - accuracy: 0.9373 - val_loss: 0.2578 - val_accuracy: 0.8948\n",
            "Epoch 4/4\n",
            "196/196 [==============================] - 5s 28ms/step - loss: 0.1186 - accuracy: 0.9612 - val_loss: 0.3141 - val_accuracy: 0.8820\n"
          ],
          "name": "stdout"
        },
        {
          "output_type": "execute_result",
          "data": {
            "text/plain": [
              "<tensorflow.python.keras.callbacks.History at 0x7fd3269f4630>"
            ]
          },
          "metadata": {
            "tags": []
          },
          "execution_count": 12
        }
      ]
    },
    {
      "cell_type": "code",
      "metadata": {
        "id": "zI6nEKBzaIMM"
      },
      "source": [
        "model.load_weights('weights.03.hdf5')"
      ],
      "execution_count": 17,
      "outputs": []
    },
    {
      "cell_type": "code",
      "metadata": {
        "id": "oB6mbu-PaISp"
      },
      "source": [
        "y_hat = model.predict(x=x_valid)"
      ],
      "execution_count": 18,
      "outputs": []
    },
    {
      "cell_type": "code",
      "metadata": {
        "colab": {
          "base_uri": "https://localhost:8080/"
        },
        "id": "rcgl0-lGaIUH",
        "outputId": "ee6a934d-d242-4980-d088-bc1e1dfd794e"
      },
      "source": [
        "y_hat[:6]"
      ],
      "execution_count": 19,
      "outputs": [
        {
          "output_type": "execute_result",
          "data": {
            "text/plain": [
              "array([[0.02700891],\n",
              "       [0.9975776 ],\n",
              "       [0.946183  ],\n",
              "       [0.52617574],\n",
              "       [0.98977846],\n",
              "       [0.64937943]], dtype=float32)"
            ]
          },
          "metadata": {
            "tags": []
          },
          "execution_count": 19
        }
      ]
    },
    {
      "cell_type": "code",
      "metadata": {
        "colab": {
          "base_uri": "https://localhost:8080/",
          "height": 265
        },
        "id": "wPM_NfFSaIZ0",
        "outputId": "de881584-b673-478c-d7f4-06fb70bce824"
      },
      "source": [
        "plt.hist(x=y_hat)\n",
        "_ = plt.axvline(x=0.5, color='green')"
      ],
      "execution_count": 21,
      "outputs": [
        {
          "output_type": "display_data",
          "data": {
            "image/png": "[encoded data removed]",
            "text/plain": [
              "<Figure size 432x288 with 1 Axes>"
            ]
          },
          "metadata": {
            "tags": [],
            "needs_background": "light"
          }
        }
      ]
    },
    {
      "cell_type": "code",
      "metadata": {
        "id": "eI9J3y_3aIbu"
      },
      "source": [
        "percent_roc = roc_auc_score(y_true=y_valid, y_score=y_hat)*100.0"
      ],
      "execution_count": 27,
      "outputs": []
    },
    {
      "cell_type": "code",
      "metadata": {
        "colab": {
          "base_uri": "https://localhost:8080/"
        },
        "id": "3J3IMQMJaIgn",
        "outputId": "f9e63982-1ee2-4c02-b76a-440f9de11769"
      },
      "source": [
        "print('{}%'.format(percent_roc))"
      ],
      "execution_count": 28,
      "outputs": [
        {
          "output_type": "stream",
          "text": [
            "96.05923936%\n"
          ],
          "name": "stdout"
        }
      ]
    }
  ]
}