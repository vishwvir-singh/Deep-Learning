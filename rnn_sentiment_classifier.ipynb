{
  "nbformat": 4,
  "nbformat_minor": 0,
  "metadata": {
    "colab": {
      "name": "rnn_sentiment_classifier.ipynb",
      "provenance": [],
      "collapsed_sections": [],
      "authorship_tag": "ABX9TyO+S8CIBi54mEYh+jZE1E0q",
      "include_colab_link": true
    },
    "kernelspec": {
      "name": "python3",
      "display_name": "Python 3"
    },
    "accelerator": "GPU"
  },
  "cells": [
    {
      "cell_type": "markdown",
      "metadata": {
        "id": "view-in-github",
        "colab_type": "text"
      },
      "source": [
        "<a href=\"https://colab.research.google.com/github/vishwvir-singh/DeepLearningForNLP/blob/main/rnn_sentiment_classifier.ipynb\" target=\"_parent\"><img src=\"https://colab.research.google.com/assets/colab-badge.svg\" alt=\"Open In Colab\"/></a>"
      ]
    },
    {
      "cell_type": "code",
      "metadata": {
        "id": "uc1PifiY_wkj"
      },
      "source": [
        "import tensorflow\n",
        "from tensorflow.keras.datasets import imdb\n",
        "from tensorflow.keras.preprocessing.sequence import pad_sequences\n",
        "from tensorflow.keras.models import Sequential\n",
        "from tensorflow.keras.layers import Dense, Dropout, Embedding, SpatialDropout1D\n",
        "from tensorflow.keras.layers import SimpleRNN # new! \n",
        "from tensorflow.keras.callbacks import ModelCheckpoint\n",
        "import os\n",
        "from sklearn.metrics import roc_auc_score \n",
        "import matplotlib.pyplot as plt"
      ],
      "execution_count": 1,
      "outputs": []
    },
    {
      "cell_type": "code",
      "metadata": {
        "id": "SKTxOZudrLT4"
      },
      "source": [
        "# output directory name:\n",
        "output_dir = '/content/sentiment_classifier/rnn'\n",
        "\n",
        "# training:\n",
        "epochs = 16 # way more!\n",
        "batch_size = 128\n",
        "\n",
        "# vector-space embedding: \n",
        "n_dim = 64 \n",
        "n_unique_words = 10000 \n",
        "max_review_length = 100 # lowered due to vanishing gradient over time\n",
        "pad_type = trunc_type = 'pre'\n",
        "drop_embed = 0.2 \n",
        "\n",
        "# RNN layer architecture:\n",
        "n_rnn = 256 \n",
        "drop_rnn = 0.2\n",
        "\n",
        "# dense layer architecture: \n",
        "# n_dense = 256\n",
        "# dropout = 0.2"
      ],
      "execution_count": 2,
      "outputs": []
    },
    {
      "cell_type": "code",
      "metadata": {
        "colab": {
          "base_uri": "https://localhost:8080/"
        },
        "id": "8BSucAcbBWMo",
        "outputId": "1b33449c-ef95-4f90-c4d2-c05e1078c46a"
      },
      "source": [
        "import os\n",
        "if not os.path.exists(output_dir):\n",
        "    os.makedirs(output_dir)\n",
        "    print('Dirs created successfully !!!')\n",
        "\n",
        "os.chdir(output_dir)\n",
        "print('Path --> {} and ListDirs ---> {} '.format(os.getcwd(), os.listdir()))\n"
      ],
      "execution_count": 3,
      "outputs": [
        {
          "output_type": "stream",
          "text": [
            "Dirs created successfully !!!\n",
            "Path --> /content/sentiment_classifier/rnn and ListDirs ---> [] \n"
          ],
          "name": "stdout"
        }
      ]
    },
    {
      "cell_type": "code",
      "metadata": {
        "colab": {
          "base_uri": "https://localhost:8080/"
        },
        "id": "XkuWxzZXBWhG",
        "outputId": "0d41f9e8-c11a-43b1-8970-aa76057986cd"
      },
      "source": [
        "(x_train, y_train), (x_valid, y_valid) = imdb.load_data(num_words=n_unique_words) # removed n_words_to_skip"
      ],
      "execution_count": 4,
      "outputs": [
        {
          "output_type": "stream",
          "text": [
            "Downloading data from https://storage.googleapis.com/tensorflow/tf-keras-datasets/imdb.npz\n",
            "17465344/17464789 [==============================] - 0s 0us/step\n"
          ],
          "name": "stdout"
        },
        {
          "output_type": "stream",
          "text": [
            "<string>:6: VisibleDeprecationWarning: Creating an ndarray from ragged nested sequences (which is a list-or-tuple of lists-or-tuples-or ndarrays with different lengths or shapes) is deprecated. If you meant to do this, you must specify 'dtype=object' when creating the ndarray\n",
            "/usr/local/lib/python3.6/dist-packages/tensorflow/python/keras/datasets/imdb.py:159: VisibleDeprecationWarning: Creating an ndarray from ragged nested sequences (which is a list-or-tuple of lists-or-tuples-or ndarrays with different lengths or shapes) is deprecated. If you meant to do this, you must specify 'dtype=object' when creating the ndarray\n",
            "  x_train, y_train = np.array(xs[:idx]), np.array(labels[:idx])\n",
            "/usr/local/lib/python3.6/dist-packages/tensorflow/python/keras/datasets/imdb.py:160: VisibleDeprecationWarning: Creating an ndarray from ragged nested sequences (which is a list-or-tuple of lists-or-tuples-or ndarrays with different lengths or shapes) is deprecated. If you meant to do this, you must specify 'dtype=object' when creating the ndarray\n",
            "  x_test, y_test = np.array(xs[idx:]), np.array(labels[idx:])\n"
          ],
          "name": "stderr"
        }
      ]
    },
    {
      "cell_type": "code",
      "metadata": {
        "id": "FwefTXRCBWjV"
      },
      "source": [
        "x_train = pad_sequences(x_train, maxlen=max_review_length, padding=pad_type, truncating=trunc_type, value=0)\n",
        "x_valid = pad_sequences(x_valid, maxlen=max_review_length, padding=pad_type, truncating=trunc_type, value=0)"
      ],
      "execution_count": 5,
      "outputs": []
    },
    {
      "cell_type": "code",
      "metadata": {
        "id": "jU3ZthCaBWnY"
      },
      "source": [
        "model = Sequential()\n",
        "model.add(Embedding(n_unique_words, n_dim, input_length=max_review_length)) \n",
        "model.add(SpatialDropout1D(drop_embed))\n",
        "model.add(SimpleRNN(n_rnn, dropout=drop_rnn))\n",
        "# model.add(Dense(n_dense, activation='relu')) # typically don't see top dense layer in NLP like in \n",
        "# model.add(Dropout(dropout))\n",
        "model.add(Dense(1, activation='sigmoid'))"
      ],
      "execution_count": 6,
      "outputs": []
    },
    {
      "cell_type": "code",
      "metadata": {
        "colab": {
          "base_uri": "https://localhost:8080/"
        },
        "id": "-jjiNrQVsB_N",
        "outputId": "e608647b-b371-4b88-b461-8a9fbb3ffffa"
      },
      "source": [
        "model.summary()"
      ],
      "execution_count": 7,
      "outputs": [
        {
          "output_type": "stream",
          "text": [
            "Model: \"sequential\"\n",
            "_________________________________________________________________\n",
            "Layer (type)                 Output Shape              Param #   \n",
            "=================================================================\n",
            "embedding (Embedding)        (None, 100, 64)           640000    \n",
            "_________________________________________________________________\n",
            "spatial_dropout1d (SpatialDr (None, 100, 64)           0         \n",
            "_________________________________________________________________\n",
            "simple_rnn (SimpleRNN)       (None, 256)               82176     \n",
            "_________________________________________________________________\n",
            "dense (Dense)                (None, 1)                 257       \n",
            "=================================================================\n",
            "Total params: 722,433\n",
            "Trainable params: 722,433\n",
            "Non-trainable params: 0\n",
            "_________________________________________________________________\n"
          ],
          "name": "stdout"
        }
      ]
    },
    {
      "cell_type": "code",
      "metadata": {
        "id": "Ub2Y0hIFBWpS"
      },
      "source": [
        "model.compile(loss='binary_crossentropy', optimizer='nadam', metrics=['accuracy'])"
      ],
      "execution_count": 8,
      "outputs": []
    },
    {
      "cell_type": "code",
      "metadata": {
        "id": "8tNfhQUABWtn"
      },
      "source": [
        "modelcheckpoint = ModelCheckpoint(filepath=output_dir+\"/weights.{epoch:02d}.hdf5\")\n",
        "if not os.path.exists(output_dir):\n",
        "    os.makedirs(output_dir)"
      ],
      "execution_count": 9,
      "outputs": []
    },
    {
      "cell_type": "code",
      "metadata": {
        "colab": {
          "base_uri": "https://localhost:8080/"
        },
        "id": "KpTsxv3DBWvO",
        "outputId": "acf9fa56-4696-4369-a9a4-79a6bd99481f"
      },
      "source": [
        "model.fit(x_train, y_train, batch_size=batch_size, epochs=epochs, verbose=1, \n",
        "          validation_data=(x_valid, y_valid), callbacks=[modelcheckpoint])"
      ],
      "execution_count": 10,
      "outputs": [
        {
          "output_type": "stream",
          "text": [
            "Epoch 1/16\n",
            "196/196 [==============================] - 27s 121ms/step - loss: 0.7069 - accuracy: 0.4983 - val_loss: 0.6930 - val_accuracy: 0.5062\n",
            "Epoch 2/16\n",
            "196/196 [==============================] - 24s 120ms/step - loss: 0.6946 - accuracy: 0.5093 - val_loss: 0.7052 - val_accuracy: 0.5222\n",
            "Epoch 3/16\n",
            "196/196 [==============================] - 23s 120ms/step - loss: 0.6912 - accuracy: 0.5289 - val_loss: 0.6832 - val_accuracy: 0.5418\n",
            "Epoch 4/16\n",
            "196/196 [==============================] - 23s 118ms/step - loss: 0.6754 - accuracy: 0.5742 - val_loss: 0.6701 - val_accuracy: 0.5684\n",
            "Epoch 5/16\n",
            "196/196 [==============================] - 23s 119ms/step - loss: 0.6096 - accuracy: 0.6644 - val_loss: 0.6461 - val_accuracy: 0.6257\n",
            "Epoch 6/16\n",
            "196/196 [==============================] - 23s 120ms/step - loss: 0.5604 - accuracy: 0.7390 - val_loss: 0.6736 - val_accuracy: 0.6124\n",
            "Epoch 7/16\n",
            "196/196 [==============================] - 23s 119ms/step - loss: 0.6536 - accuracy: 0.6323 - val_loss: 0.6395 - val_accuracy: 0.6152\n",
            "Epoch 8/16\n",
            "196/196 [==============================] - 23s 119ms/step - loss: 0.5201 - accuracy: 0.7653 - val_loss: 0.5021 - val_accuracy: 0.7658\n",
            "Epoch 9/16\n",
            "196/196 [==============================] - 23s 119ms/step - loss: 0.4246 - accuracy: 0.8190 - val_loss: 0.4786 - val_accuracy: 0.7846\n",
            "Epoch 10/16\n",
            "196/196 [==============================] - 24s 120ms/step - loss: 0.3920 - accuracy: 0.8362 - val_loss: 0.4615 - val_accuracy: 0.7924\n",
            "Epoch 11/16\n",
            "196/196 [==============================] - 23s 119ms/step - loss: 0.3872 - accuracy: 0.8368 - val_loss: 0.4704 - val_accuracy: 0.8004\n",
            "Epoch 12/16\n",
            "196/196 [==============================] - 24s 121ms/step - loss: 0.3801 - accuracy: 0.8445 - val_loss: 0.5785 - val_accuracy: 0.6972\n",
            "Epoch 13/16\n",
            "196/196 [==============================] - 23s 120ms/step - loss: 0.3911 - accuracy: 0.8355 - val_loss: 0.5086 - val_accuracy: 0.7924\n",
            "Epoch 14/16\n",
            "196/196 [==============================] - 23s 119ms/step - loss: 0.3374 - accuracy: 0.8673 - val_loss: 0.4866 - val_accuracy: 0.7818\n",
            "Epoch 15/16\n",
            "196/196 [==============================] - 23s 120ms/step - loss: 0.4942 - accuracy: 0.7669 - val_loss: 0.6803 - val_accuracy: 0.6370\n",
            "Epoch 16/16\n",
            "196/196 [==============================] - 23s 119ms/step - loss: 0.4544 - accuracy: 0.8017 - val_loss: 0.5195 - val_accuracy: 0.7837\n"
          ],
          "name": "stdout"
        },
        {
          "output_type": "execute_result",
          "data": {
            "text/plain": [
              "<tensorflow.python.keras.callbacks.History at 0x7f809f71d1d0>"
            ]
          },
          "metadata": {
            "tags": []
          },
          "execution_count": 10
        }
      ]
    },
    {
      "cell_type": "code",
      "metadata": {
        "id": "mfRjqWa3BW0X"
      },
      "source": [
        "model.load_weights(output_dir+\"/weights.11.hdf5\")"
      ],
      "execution_count": 25,
      "outputs": []
    },
    {
      "cell_type": "code",
      "metadata": {
        "colab": {
          "base_uri": "https://localhost:8080/"
        },
        "id": "g194djnWBW2H",
        "outputId": "3c7a7968-0af3-4360-eb90-dcf80f3190b1"
      },
      "source": [
        "# y_hat = model.predict(y_valid)\n",
        "y_hat = model.predict_proba(x_valid)\n",
        "y_hat[:10]"
      ],
      "execution_count": 26,
      "outputs": [
        {
          "output_type": "stream",
          "text": [
            "/usr/local/lib/python3.6/dist-packages/tensorflow/python/keras/engine/sequential.py:425: UserWarning: `model.predict_proba()` is deprecated and will be removed after 2021-01-01. Please use `model.predict()` instead.\n",
            "  warnings.warn('`model.predict_proba()` is deprecated and '\n"
          ],
          "name": "stderr"
        },
        {
          "output_type": "execute_result",
          "data": {
            "text/plain": [
              "array([[0.387238  ],\n",
              "       [0.93485516],\n",
              "       [0.15804139],\n",
              "       [0.06662216],\n",
              "       [0.90930307],\n",
              "       [0.10875256],\n",
              "       [0.19944538],\n",
              "       [0.02900905],\n",
              "       [0.8042135 ],\n",
              "       [0.760539  ]], dtype=float32)"
            ]
          },
          "metadata": {
            "tags": []
          },
          "execution_count": 26
        }
      ]
    },
    {
      "cell_type": "code",
      "metadata": {
        "colab": {
          "base_uri": "https://localhost:8080/",
          "height": 265
        },
        "id": "xBGHP2pbI1jE",
        "outputId": "c9a25f9c-752a-47b3-8b5c-f3cdf3c48bdf"
      },
      "source": [
        "plt.hist(y_hat)\n",
        "_ = plt.axvline(x=0.5, color='orange')"
      ],
      "execution_count": 27,
      "outputs": [
        {
          "output_type": "display_data",
          "data": {
            "image/png": "[encoded data removed]",
            "text/plain": [
              "<Figure size 432x288 with 1 Axes>"
            ]
          },
          "metadata": {
            "tags": [],
            "needs_background": "light"
          }
        }
      ]
    },
    {
      "cell_type": "code",
      "metadata": {
        "colab": {
          "base_uri": "https://localhost:8080/",
          "height": 35
        },
        "id": "mEw29ZlsI1lR",
        "outputId": "bebf5c2e-218f-4559-d04e-715eeec3243a"
      },
      "source": [
        "\"{:0.2f}\".format(roc_auc_score(y_valid, y_hat)*100.0)"
      ],
      "execution_count": 28,
      "outputs": [
        {
          "output_type": "execute_result",
          "data": {
            "application/vnd.google.colaboratory.intrinsic+json": {
              "type": "string"
            },
            "text/plain": [
              "'86.68'"
            ]
          },
          "metadata": {
            "tags": []
          },
          "execution_count": 28
        }
      ]
    }
  ]
}